{
 "cells": [
  {
   "cell_type": "code",
   "execution_count": 1,
   "id": "eb8226a1",
   "metadata": {
    "ExecuteTime": {
     "end_time": "2022-08-02T20:22:06.293891Z",
     "start_time": "2022-08-02T20:22:04.512989Z"
    }
   },
   "outputs": [
    {
     "name": "stderr",
     "output_type": "stream",
     "text": [
      "C:\\Users\\Miguel\\anaconda3\\lib\\site-packages\\statsmodels\\compat\\pandas.py:61: FutureWarning: pandas.Int64Index is deprecated and will be removed from pandas in a future version. Use pandas.Index with the appropriate dtype instead.\n",
      "  from pandas import Int64Index as NumericIndex\n"
     ]
    }
   ],
   "source": [
    "import math\n",
    "from IPython.display import Image\n",
    " \n",
    "import numpy as np\n",
    "import pandas as pd\n",
    "\n",
    "import scipy.stats as stats\n",
    "import statsmodels.stats.api as ssapi"
   ]
  },
  {
   "cell_type": "markdown",
   "id": "1caeac6b",
   "metadata": {
    "hide_input": true
   },
   "source": [
    "# 1. Ads Click Through Rate\n",
    "Dois anúncios. Anúncio #1 tem 1000 impressões e 20 cliques. Enquanto o Anúncio\n",
    "#2 tem 900 impressões e 30 cliques.\n",
    "Teste se há diferença entre o CTR do Anúncio #01 e #02"
   ]
  },
  {
   "cell_type": "markdown",
   "id": "a5a3dd63",
   "metadata": {
    "hide_input": true
   },
   "source": [
    "- H0: Não há diferença entre as páginas #1 e #2 (CTR igual)\n",
    "- H1: Há diferença entre as páginas #1 e #2 (CTR diferente)"
   ]
  },
  {
   "cell_type": "code",
   "execution_count": 2,
   "id": "503b7b5d",
   "metadata": {
    "ExecuteTime": {
     "end_time": "2022-08-02T20:22:06.356808Z",
     "start_time": "2022-08-02T20:22:06.300843Z"
    },
    "hide_input": false
   },
   "outputs": [
    {
     "data": {
      "text/html": [
       "<div>\n",
       "<style scoped>\n",
       "    .dataframe tbody tr th:only-of-type {\n",
       "        vertical-align: middle;\n",
       "    }\n",
       "\n",
       "    .dataframe tbody tr th {\n",
       "        vertical-align: top;\n",
       "    }\n",
       "\n",
       "    .dataframe thead th {\n",
       "        text-align: right;\n",
       "    }\n",
       "</style>\n",
       "<table border=\"1\" class=\"dataframe\">\n",
       "  <thead>\n",
       "    <tr style=\"text-align: right;\">\n",
       "      <th></th>\n",
       "      <th>impressoes</th>\n",
       "      <th>clique</th>\n",
       "      <th>nao_clique</th>\n",
       "      <th>conversao</th>\n",
       "    </tr>\n",
       "    <tr>\n",
       "      <th>anuncio</th>\n",
       "      <th></th>\n",
       "      <th></th>\n",
       "      <th></th>\n",
       "      <th></th>\n",
       "    </tr>\n",
       "  </thead>\n",
       "  <tbody>\n",
       "    <tr>\n",
       "      <th>#1</th>\n",
       "      <td>1000</td>\n",
       "      <td>20</td>\n",
       "      <td>980</td>\n",
       "      <td>0.020000</td>\n",
       "    </tr>\n",
       "    <tr>\n",
       "      <th>#2</th>\n",
       "      <td>900</td>\n",
       "      <td>30</td>\n",
       "      <td>870</td>\n",
       "      <td>0.033333</td>\n",
       "    </tr>\n",
       "  </tbody>\n",
       "</table>\n",
       "</div>"
      ],
      "text/plain": [
       "         impressoes  clique  nao_clique  conversao\n",
       "anuncio                                           \n",
       "#1             1000      20         980   0.020000\n",
       "#2              900      30         870   0.033333"
      ]
     },
     "execution_count": 2,
     "metadata": {},
     "output_type": "execute_result"
    }
   ],
   "source": [
    "df1 = pd.DataFrame({'impressoes':[1000, 900], 'clique':[20, 30], 'anuncio':['#1', '#2']})\n",
    "df1 = df1.set_index('anuncio')\n",
    "df1['nao_clique'] = df1['impressoes'] - df1['clique']\n",
    "df1['conversao'] = df1['clique'] / df1['impressoes']\n",
    "df1"
   ]
  },
  {
   "cell_type": "markdown",
   "id": "31ea198c",
   "metadata": {},
   "source": [
    "### Sample size"
   ]
  },
  {
   "cell_type": "code",
   "execution_count": 3,
   "id": "ab2642cc",
   "metadata": {
    "ExecuteTime": {
     "end_time": "2022-08-02T20:22:06.371801Z",
     "start_time": "2022-08-02T20:22:06.360808Z"
    },
    "hide_input": false
   },
   "outputs": [],
   "source": [
    "from statsmodels.stats.proportion import proportion_effectsize\n",
    "\n",
    "from statsmodels.stats.power import NormalIndPower"
   ]
  },
  {
   "cell_type": "code",
   "execution_count": 4,
   "id": "f6550021",
   "metadata": {
    "ExecuteTime": {
     "end_time": "2022-08-02T20:22:06.388794Z",
     "start_time": "2022-08-02T20:22:06.376798Z"
    },
    "hide_input": false
   },
   "outputs": [],
   "source": [
    "def calc_sample_size(power_calculator, alpha, effect_size):\n",
    "    return power_calculator.solve_power(effect_size=effect_size, alpha=alpha,power=0.8)"
   ]
  },
  {
   "cell_type": "code",
   "execution_count": 5,
   "id": "5d77e4a5",
   "metadata": {
    "ExecuteTime": {
     "end_time": "2022-08-02T20:22:06.420778Z",
     "start_time": "2022-08-02T20:22:06.398798Z"
    },
    "hide_input": false
   },
   "outputs": [],
   "source": [
    "def plot_sample_size_by_alpha(power_calculator, effect_size, min_size_of_a_sample):\n",
    "    df = pd.DataFrame({'alpha':range(5,51)})\n",
    "    \n",
    "    df['alpha'] = df['alpha'] / 100\n",
    "    df['limit_max_sample'] = min_size_of_a_sample\n",
    "    \n",
    "    for alpha in df['alpha']:\n",
    "        df.loc[df['alpha'] == alpha, 'sample_size'] = calc_sample_size(power_calculator, alpha, effect_size)\n",
    "    \n",
    "    # qual o menor alpha que gera um sample size menor que a menor amostra\n",
    "    min_alpha = df.loc[df['sample_size'] < min_size_of_a_sample, 'alpha'].iloc[0]\n",
    "    print(f'Alpha mínimo: {min_alpha}')\n",
    "    \n",
    "    df.plot(x='alpha', y=['sample_size', 'limit_max_sample'], color=['blue', 'red']);\n",
    "\n",
    "    return None"
   ]
  },
  {
   "cell_type": "code",
   "execution_count": 6,
   "id": "88fe8681",
   "metadata": {
    "ExecuteTime": {
     "end_time": "2022-08-02T20:22:06.482756Z",
     "start_time": "2022-08-02T20:22:06.432766Z"
    },
    "hide_input": false
   },
   "outputs": [
    {
     "name": "stdout",
     "output_type": "stream",
     "text": [
      "Sample size: 2257\n"
     ]
    }
   ],
   "source": [
    "effect_size = proportion_effectsize(df1.loc['#1', 'conversao'], df1.loc['#2', 'conversao'])\n",
    "\n",
    "power_calculator = NormalIndPower()\n",
    "\n",
    "min_sample_size = power_calculator.solve_power(effect_size=effect_size, alpha=0.05,power=0.8)\n",
    "print(f'Sample size: {math.ceil(min_sample_size)}')"
   ]
  },
  {
   "cell_type": "markdown",
   "id": "b76d084a",
   "metadata": {
    "hide_input": false
   },
   "source": [
    "Como o sample size deu muito alto para o alpha de 0.05, vamos verificar qual alpha podemos usar."
   ]
  },
  {
   "cell_type": "code",
   "execution_count": 7,
   "id": "467c4574",
   "metadata": {
    "ExecuteTime": {
     "end_time": "2022-08-02T20:22:08.889210Z",
     "start_time": "2022-08-02T20:22:06.486735Z"
    },
    "hide_input": false
   },
   "outputs": [
    {
     "name": "stdout",
     "output_type": "stream",
     "text": [
      "Alpha mínimo: 0.35\n"
     ]
    },
    {
     "data": {
      "image/png": "[encoded data removed]",
      "text/plain": [
       "<Figure size 432x288 with 1 Axes>"
      ]
     },
     "metadata": {
      "needs_background": "light"
     },
     "output_type": "display_data"
    }
   ],
   "source": [
    "plot_sample_size_by_alpha(power_calculator, effect_size, df1['impressoes'].min())"
   ]
  },
  {
   "cell_type": "markdown",
   "id": "204229c9",
   "metadata": {},
   "source": [
    "### Experimento -  Cálculo manual"
   ]
  },
  {
   "cell_type": "code",
   "execution_count": 8,
   "id": "a64abb3f",
   "metadata": {
    "ExecuteTime": {
     "end_time": "2022-08-02T20:22:08.937182Z",
     "start_time": "2022-08-02T20:22:08.893208Z"
    },
    "hide_input": false
   },
   "outputs": [
    {
     "data": {
      "image/png": "[encoded data removed]",
      "text/plain": [
       "<IPython.core.display.Image object>"
      ]
     },
     "execution_count": 8,
     "metadata": {},
     "output_type": "execute_result"
    }
   ],
   "source": [
    "Image(\"../imgs/ctr_calc.png\")"
   ]
  },
  {
   "cell_type": "code",
   "execution_count": 9,
   "id": "e744acad",
   "metadata": {
    "ExecuteTime": {
     "end_time": "2022-08-02T20:22:08.985159Z",
     "start_time": "2022-08-02T20:22:08.942181Z"
    },
    "hide_input": false
   },
   "outputs": [
    {
     "name": "stdout",
     "output_type": "stream",
     "text": [
      "p_hat_pool: 0.0074\n",
      "SE_pool: 0.0263\n",
      "d_hat: 0.0133\n",
      "margem de erro: 0.0144\n"
     ]
    }
   ],
   "source": [
    "# \"media\" de probabilidade\n",
    "p_hat_pool = df1['clique'].sum() / df1['impressoes'].sum()\n",
    "\n",
    "# standart error\n",
    "SE_pool = math.sqrt(p_hat_pool * (1-p_hat_pool)  *  (1/df1.loc['#1', 'impressoes'] + 1/df1.loc['#2', 'impressoes']) )\n",
    "\n",
    "# diferença observada\n",
    "d_hat = df1.loc['#2', 'conversao'] - df1.loc['#1', 'conversao']\n",
    "\n",
    "# margem de erro\n",
    "Z = 1.96 # 0.95 na tabela z score\n",
    "m = Z * SE_pool\n",
    "\n",
    "print(f'p_hat_pool: {SE_pool:.4f}')\n",
    "print(f'SE_pool: {p_hat_pool:.4f}')\n",
    "print(f'd_hat: {d_hat:.4f}')\n",
    "print(f'margem de erro: {m:.4f}')"
   ]
  },
  {
   "cell_type": "code",
   "execution_count": 10,
   "id": "b67a7118",
   "metadata": {
    "ExecuteTime": {
     "end_time": "2022-08-02T20:22:09.016139Z",
     "start_time": "2022-08-02T20:22:09.000149Z"
    },
    "hide_input": false
   },
   "outputs": [
    {
     "name": "stdout",
     "output_type": "stream",
     "text": [
      "Falhou em rejeitar a nula\n"
     ]
    }
   ],
   "source": [
    "if d_hat > m or  d_hat < -m:\n",
    "    print('Rejeita a nula')\n",
    "else:\n",
    "    print('Falhou em rejeitar a nula')"
   ]
  },
  {
   "cell_type": "markdown",
   "id": "99f82545",
   "metadata": {
    "hide_input": true
   },
   "source": [
    "### Experimento - Z Test"
   ]
  },
  {
   "cell_type": "code",
   "execution_count": 11,
   "id": "53ee81be",
   "metadata": {
    "ExecuteTime": {
     "end_time": "2022-08-02T20:22:09.047135Z",
     "start_time": "2022-08-02T20:22:09.022134Z"
    },
    "hide_input": false
   },
   "outputs": [],
   "source": [
    "x1 = [0]*df1.loc['#1', 'nao_clique'] + [1]*df1.loc['#1', 'clique']\n",
    "x2 = [0]*df1.loc['#2', 'nao_clique'] + [1]*df1.loc['#2', 'clique']"
   ]
  },
  {
   "cell_type": "code",
   "execution_count": 12,
   "id": "f78199b3",
   "metadata": {
    "ExecuteTime": {
     "end_time": "2022-08-02T20:22:09.063112Z",
     "start_time": "2022-08-02T20:22:09.050119Z"
    }
   },
   "outputs": [
    {
     "name": "stdout",
     "output_type": "stream",
     "text": [
      "p value: 0.06975756965466925\n",
      "Falhou em rejeitar a nula\n"
     ]
    }
   ],
   "source": [
    "_, p_value = ssapi.ztest(x1=x1,x2=x2)\n",
    "print(f'p value: {p_value}')\n",
    "\n",
    "if p_value< 0.05:\n",
    "    print('Rejeita a nula')\n",
    "else:\n",
    "    print('Falhou em rejeitar a nula')"
   ]
  },
  {
   "cell_type": "markdown",
   "id": "022a0ff8",
   "metadata": {},
   "source": [
    "### Conclusão\n",
    "\n",
    "De acordo com os experimentos, **NÃO existe diferença entre o CTR das páginas**, porém, como a amostra utilizada não é suficiente para o confiabilidade de 95% dos experimentos e o p valor foi muito proximo ao alpha de 0.05, é fortemente recomendado a coleta de mais amostras para repetição dos experimentos."
   ]
  },
  {
   "cell_type": "markdown",
   "id": "3b726b5d",
   "metadata": {},
   "source": [
    "# 2. Acme Toy Company Goodness-of-fit\n",
    "A empresa Acme Toy imprime cartas de baseball. A empresa afirma que 30% das\n",
    "cartas são de novatos, 60% são de veteranos e 10% são All-Stars.\n",
    "Uma amostra aleatória de 100 cartas tem 50 cartas de novatos, 45 de veteranos e 5\n",
    "All-Starts.\n",
    "A distribuição das cartas é consistente com a afirmação da empresa? Use um nível\n",
    "de significância de 0.05"
   ]
  },
  {
   "cell_type": "markdown",
   "id": "f177d56a",
   "metadata": {
    "hide_input": true
   },
   "source": [
    "- H0: Não há diferença entre a distribuição da afirmação e da amostra aleátoria\n",
    "- H1: Há diferença a distribuição da afirmação e da amostra aleátoria"
   ]
  },
  {
   "cell_type": "code",
   "execution_count": 13,
   "id": "75698911",
   "metadata": {
    "ExecuteTime": {
     "end_time": "2022-08-02T20:22:09.095094Z",
     "start_time": "2022-08-02T20:22:09.068109Z"
    },
    "hide_input": false,
    "scrolled": false
   },
   "outputs": [
    {
     "data": {
      "text/html": [
       "<div>\n",
       "<style scoped>\n",
       "    .dataframe tbody tr th:only-of-type {\n",
       "        vertical-align: middle;\n",
       "    }\n",
       "\n",
       "    .dataframe tbody tr th {\n",
       "        vertical-align: top;\n",
       "    }\n",
       "\n",
       "    .dataframe thead th {\n",
       "        text-align: right;\n",
       "    }\n",
       "</style>\n",
       "<table border=\"1\" class=\"dataframe\">\n",
       "  <thead>\n",
       "    <tr style=\"text-align: right;\">\n",
       "      <th></th>\n",
       "      <th>novatos</th>\n",
       "      <th>veteranos</th>\n",
       "      <th>all_stars</th>\n",
       "    </tr>\n",
       "    <tr>\n",
       "      <th>distribuicao</th>\n",
       "      <th></th>\n",
       "      <th></th>\n",
       "      <th></th>\n",
       "    </tr>\n",
       "  </thead>\n",
       "  <tbody>\n",
       "    <tr>\n",
       "      <th>afirmacao</th>\n",
       "      <td>30</td>\n",
       "      <td>60</td>\n",
       "      <td>10</td>\n",
       "    </tr>\n",
       "    <tr>\n",
       "      <th>aleatoria</th>\n",
       "      <td>50</td>\n",
       "      <td>45</td>\n",
       "      <td>5</td>\n",
       "    </tr>\n",
       "  </tbody>\n",
       "</table>\n",
       "</div>"
      ],
      "text/plain": [
       "              novatos  veteranos  all_stars\n",
       "distribuicao                               \n",
       "afirmacao          30         60         10\n",
       "aleatoria          50         45          5"
      ]
     },
     "execution_count": 13,
     "metadata": {},
     "output_type": "execute_result"
    }
   ],
   "source": [
    "df2 = pd.DataFrame({'novatos':[30, 50], 'veteranos':[60, 45], 'all_stars':[10,5],'distribuicao':['afirmacao', 'aleatoria']})\n",
    "df2 = df2.set_index('distribuicao')\n",
    "df2"
   ]
  },
  {
   "cell_type": "markdown",
   "id": "29c93297",
   "metadata": {},
   "source": [
    "### Experimento -  Cálculo manual - Chi2\n",
    "\n",
    "https://www.youtube.com/watch?v=QE0v3HHcKbs&ab_channel=DataDaft"
   ]
  },
  {
   "cell_type": "code",
   "execution_count": 14,
   "id": "5e8c28e4",
   "metadata": {
    "ExecuteTime": {
     "end_time": "2022-08-02T20:22:09.126075Z",
     "start_time": "2022-08-02T20:22:09.101089Z"
    }
   },
   "outputs": [
    {
     "data": {
      "image/png": "[encoded data removed]",
      "text/plain": [
       "<IPython.core.display.Image object>"
      ]
     },
     "execution_count": 14,
     "metadata": {},
     "output_type": "execute_result"
    }
   ],
   "source": [
    "Image(\"../imgs/chi2_manual.png\")"
   ]
  },
  {
   "cell_type": "code",
   "execution_count": 15,
   "id": "6b51f28c",
   "metadata": {
    "ExecuteTime": {
     "end_time": "2022-08-02T20:22:09.156058Z",
     "start_time": "2022-08-02T20:22:09.132073Z"
    }
   },
   "outputs": [
    {
     "data": {
      "text/plain": [
       "19.583333333333336"
      ]
     },
     "execution_count": 15,
     "metadata": {},
     "output_type": "execute_result"
    }
   ],
   "source": [
    "observed = df2.loc['aleatoria']\n",
    "\n",
    "afirmacao_ratio = df2.loc['afirmacao'] / df2.loc['afirmacao'].sum()\n",
    "\n",
    "expected = afirmacao_ratio * df2.loc['aleatoria'].sum()\n",
    "\n",
    "chi_squared_stat = (((observed-expected) ** 2)/expected).sum()\n",
    "chi_squared_stat"
   ]
  },
  {
   "cell_type": "code",
   "execution_count": 16,
   "id": "87a06b28",
   "metadata": {
    "ExecuteTime": {
     "end_time": "2022-08-02T20:22:09.187040Z",
     "start_time": "2022-08-02T20:22:09.159057Z"
    }
   },
   "outputs": [
    {
     "name": "stdout",
     "output_type": "stream",
     "text": [
      "Critical value: 5.991464547107979\n",
      "P value: 5.591562685636209e-05\n",
      "Rejeita a nula\n"
     ]
    }
   ],
   "source": [
    "crit = stats.chi2.ppf(q=0.95, \n",
    "                      df=len(df2.columns)-1) \n",
    "\n",
    "print(f\"Critical value: {crit}\")\n",
    "\n",
    "p_value = 1 - stats.chi2.cdf(x=chi_squared_stat,      # cumulative distribution function (area under)\n",
    "                            df=len(df2.columns)-1) \n",
    "\n",
    "print(f\"P value: {p_value}\")\n",
    "\n",
    "if p_value< 0.05:\n",
    "    print('Rejeita a nula')\n",
    "else:\n",
    "    print('Falhou em rejeitar a nula')"
   ]
  },
  {
   "cell_type": "markdown",
   "id": "7a0ac7ee",
   "metadata": {},
   "source": [
    "### Experimento -  Chi2"
   ]
  },
  {
   "cell_type": "code",
   "execution_count": 17,
   "id": "87e55701",
   "metadata": {
    "ExecuteTime": {
     "end_time": "2022-08-02T20:22:09.203031Z",
     "start_time": "2022-08-02T20:22:09.190039Z"
    }
   },
   "outputs": [
    {
     "name": "stdout",
     "output_type": "stream",
     "text": [
      "Statistic: 19.583333333333336\n",
      "P value: 5.591562685636209e-05\n",
      "Rejeita a nula\n"
     ]
    }
   ],
   "source": [
    "chi_squared_stat, pvalue = stats.chisquare(f_obs=df2.loc['aleatoria'],\n",
    "                f_exp=df2.loc['afirmacao'])\n",
    "\n",
    "print(f\"Statistic: {chi_squared_stat}\")\n",
    "\n",
    "print(f\"P value: {p_value}\")\n",
    "\n",
    "if p_value< 0.05:\n",
    "    print('Rejeita a nula')\n",
    "else:\n",
    "    print('Falhou em rejeitar a nula')"
   ]
  },
  {
   "cell_type": "markdown",
   "id": "97b447f3",
   "metadata": {},
   "source": [
    "# 3. Pesquisa Eleitoral - Independência\n",
    "Uma empresa de pesquisa perguntou a preferência de votos entre 1000 eleitores\n",
    "aleatórios, dividido entre homens e mulheres.\n",
    "O resultado é mostrado na tabela de contingência abaixo.\n",
    "Republicado Democrata Independente Total da Linha\n",
    "Homens 200 150 50 400\n",
    "Mulheres 250 300 50 600\n",
    "Total 450 450 100 1000\n",
    "Existe uma diferença entre o eleitores de diferente gênero? As preferências dos\n",
    "homens se diferem significativamente das preferências das mulheres? Use um nível\n",
    "de significância de 0.05"
   ]
  },
  {
   "cell_type": "markdown",
   "id": "aa4f688c",
   "metadata": {
    "hide_input": true
   },
   "source": [
    "- H0: A preferência partidária é independente ao sexo da pessoa.\n",
    "- H1: A preferência partidária não é independente ao sexo da pessoa."
   ]
  },
  {
   "cell_type": "code",
   "execution_count": 18,
   "id": "12f3ed0b",
   "metadata": {
    "ExecuteTime": {
     "end_time": "2022-08-02T20:22:09.250004Z",
     "start_time": "2022-08-02T20:22:09.208028Z"
    },
    "hide_input": false,
    "scrolled": true
   },
   "outputs": [
    {
     "data": {
      "text/html": [
       "<div>\n",
       "<style scoped>\n",
       "    .dataframe tbody tr th:only-of-type {\n",
       "        vertical-align: middle;\n",
       "    }\n",
       "\n",
       "    .dataframe tbody tr th {\n",
       "        vertical-align: top;\n",
       "    }\n",
       "\n",
       "    .dataframe thead th {\n",
       "        text-align: right;\n",
       "    }\n",
       "</style>\n",
       "<table border=\"1\" class=\"dataframe\">\n",
       "  <thead>\n",
       "    <tr style=\"text-align: right;\">\n",
       "      <th>Partido</th>\n",
       "      <th>Republicado</th>\n",
       "      <th>Democrata</th>\n",
       "      <th>Independente</th>\n",
       "      <th>Total</th>\n",
       "    </tr>\n",
       "  </thead>\n",
       "  <tbody>\n",
       "    <tr>\n",
       "      <th>Homens</th>\n",
       "      <td>200</td>\n",
       "      <td>150</td>\n",
       "      <td>50</td>\n",
       "      <td>400</td>\n",
       "    </tr>\n",
       "    <tr>\n",
       "      <th>Mulheres</th>\n",
       "      <td>250</td>\n",
       "      <td>300</td>\n",
       "      <td>50</td>\n",
       "      <td>600</td>\n",
       "    </tr>\n",
       "    <tr>\n",
       "      <th>Total</th>\n",
       "      <td>450</td>\n",
       "      <td>450</td>\n",
       "      <td>100</td>\n",
       "      <td>1000</td>\n",
       "    </tr>\n",
       "  </tbody>\n",
       "</table>\n",
       "</div>"
      ],
      "text/plain": [
       "Partido   Republicado  Democrata  Independente  Total\n",
       "Homens            200        150            50    400\n",
       "Mulheres          250        300            50    600\n",
       "Total             450        450           100   1000"
      ]
     },
     "execution_count": 18,
     "metadata": {},
     "output_type": "execute_result"
    }
   ],
   "source": [
    "df3 = pd.DataFrame({'Homens':[200, 150, 50], 'Mulheres':[250, 300, 50],\n",
    "                    'Partido':['Republicado', 'Democrata', 'Independente']})\n",
    "df3 = df3.set_index('Partido')\n",
    "df3['Total'] = df3.sum(axis=1)\n",
    "df3.loc['Total'] = df3.sum(axis=0)\n",
    "df3 = df3.T.copy()\n",
    "df3"
   ]
  },
  {
   "cell_type": "markdown",
   "id": "0fa89e54",
   "metadata": {},
   "source": [
    "### Experimento -  Cálculo manual - Chi2"
   ]
  },
  {
   "cell_type": "code",
   "execution_count": 19,
   "id": "371d4333",
   "metadata": {
    "ExecuteTime": {
     "end_time": "2022-08-02T20:22:09.295978Z",
     "start_time": "2022-08-02T20:22:09.254002Z"
    }
   },
   "outputs": [
    {
     "data": {
      "text/html": [
       "<div>\n",
       "<style scoped>\n",
       "    .dataframe tbody tr th:only-of-type {\n",
       "        vertical-align: middle;\n",
       "    }\n",
       "\n",
       "    .dataframe tbody tr th {\n",
       "        vertical-align: top;\n",
       "    }\n",
       "\n",
       "    .dataframe thead th {\n",
       "        text-align: right;\n",
       "    }\n",
       "</style>\n",
       "<table border=\"1\" class=\"dataframe\">\n",
       "  <thead>\n",
       "    <tr style=\"text-align: right;\">\n",
       "      <th>Partido</th>\n",
       "      <th>Republicado</th>\n",
       "      <th>Democrata</th>\n",
       "      <th>Independente</th>\n",
       "    </tr>\n",
       "  </thead>\n",
       "  <tbody>\n",
       "    <tr>\n",
       "      <th>Homens</th>\n",
       "      <td>180.0</td>\n",
       "      <td>180.0</td>\n",
       "      <td>40.0</td>\n",
       "    </tr>\n",
       "    <tr>\n",
       "      <th>Mulheres</th>\n",
       "      <td>270.0</td>\n",
       "      <td>270.0</td>\n",
       "      <td>60.0</td>\n",
       "    </tr>\n",
       "  </tbody>\n",
       "</table>\n",
       "</div>"
      ],
      "text/plain": [
       "Partido   Republicado  Democrata  Independente\n",
       "Homens          180.0      180.0          40.0\n",
       "Mulheres        270.0      270.0          60.0"
      ]
     },
     "execution_count": 19,
     "metadata": {},
     "output_type": "execute_result"
    }
   ],
   "source": [
    "observed = df3.drop('Total', axis=1).drop('Total', axis=0)\n",
    "\n",
    "expected = np.outer(df3['Total'][0:2],\n",
    "                    df3.loc['Total'][0:3]) / 1000\n",
    "\n",
    "expected = pd.DataFrame(expected)\n",
    "\n",
    "expected.columns = df3.columns.drop('Total')\n",
    "expected.index = df3.index.drop('Total')\n",
    "\n",
    "expected"
   ]
  },
  {
   "cell_type": "code",
   "execution_count": 20,
   "id": "3b1c2246",
   "metadata": {
    "ExecuteTime": {
     "end_time": "2022-08-02T20:22:09.326961Z",
     "start_time": "2022-08-02T20:22:09.301974Z"
    }
   },
   "outputs": [
    {
     "data": {
      "text/plain": [
       "16.203703703703706"
      ]
     },
     "execution_count": 20,
     "metadata": {},
     "output_type": "execute_result"
    }
   ],
   "source": [
    "chi_squared_stat = (((observed-expected) ** 2)/expected).sum().sum()\n",
    "chi_squared_stat"
   ]
  },
  {
   "cell_type": "code",
   "execution_count": 21,
   "id": "3a9e7054",
   "metadata": {
    "ExecuteTime": {
     "end_time": "2022-08-02T20:22:09.358942Z",
     "start_time": "2022-08-02T20:22:09.330959Z"
    }
   },
   "outputs": [
    {
     "name": "stdout",
     "output_type": "stream",
     "text": [
      "Critical value: 5.991464547107979\n",
      "P value: 0.00030297754871455584\n",
      "Rejeita a nula\n"
     ]
    }
   ],
   "source": [
    "crit = stats.chi2.ppf(q=0.95, \n",
    "                      df= (len(observed)-1) *  (len(observed.columns)-1))\n",
    "\n",
    "print(f\"Critical value: {crit}\")\n",
    "\n",
    "p_value = 1 - stats.chi2.cdf(x=chi_squared_stat,\n",
    "                            df= (len(observed)-1) *  (len(observed.columns)-1))\n",
    "\n",
    "print(f\"P value: {p_value}\")\n",
    "\n",
    "if p_value< 0.05:\n",
    "    print('Rejeita a nula')\n",
    "else:\n",
    "    print('Falhou em rejeitar a nula')"
   ]
  },
  {
   "cell_type": "markdown",
   "id": "34f1686d",
   "metadata": {},
   "source": [
    "### Experimento -  Chi2"
   ]
  },
  {
   "cell_type": "code",
   "execution_count": 22,
   "id": "2b7a1567",
   "metadata": {
    "ExecuteTime": {
     "end_time": "2022-08-02T20:22:09.374932Z",
     "start_time": "2022-08-02T20:22:09.363951Z"
    }
   },
   "outputs": [
    {
     "data": {
      "text/plain": [
       "(16.203703703703702,\n",
       " 0.0003029775487145488,\n",
       " 2,\n",
       " array([[180., 180.,  40.],\n",
       "        [270., 270.,  60.]]))"
      ]
     },
     "execution_count": 22,
     "metadata": {},
     "output_type": "execute_result"
    }
   ],
   "source": [
    "stats.chi2_contingency(observed=observed)"
   ]
  },
  {
   "cell_type": "code",
   "execution_count": 23,
   "id": "a64a9909",
   "metadata": {
    "ExecuteTime": {
     "end_time": "2022-08-02T20:22:09.389926Z",
     "start_time": "2022-08-02T20:22:09.378930Z"
    },
    "scrolled": true
   },
   "outputs": [
    {
     "name": "stdout",
     "output_type": "stream",
     "text": [
      "Statistic: 16.203703703703702\n",
      "P value: 0.0003029775487145488\n",
      "Rejeita a nula\n"
     ]
    }
   ],
   "source": [
    "chi_squared_stat,p_value,_,_= stats.chi2_contingency(observed=observed)\n",
    "\n",
    "print(f\"Statistic: {chi_squared_stat}\")\n",
    "\n",
    "print(f\"P value: {p_value}\")\n",
    "\n",
    "if p_value< 0.05:\n",
    "    print('Rejeita a nula')\n",
    "else:\n",
    "    print('Falhou em rejeitar a nula')"
   ]
  },
  {
   "cell_type": "markdown",
   "id": "0e7458bd",
   "metadata": {
    "ExecuteTime": {
     "end_time": "2022-08-02T19:50:07.238302Z",
     "start_time": "2022-08-02T19:50:07.232327Z"
    }
   },
   "source": [
    "**Não é possível afirmar que a preferência partidária é independente ao sexo da pessoa.**"
   ]
  },
  {
   "cell_type": "markdown",
   "id": "728c8d24",
   "metadata": {},
   "source": [
    "# 4. Altura das Meninas\n",
    "Precisamos determinar se as meninas, na média, tiram uma nota maior do que 600\n",
    "na prova. Nós temos a informação de que as meninas tem um desvio padrão de\n",
    "nota igual a 100.\n",
    "Então, nós coletamos dados de 20 meninas usando uma amostragem aleatória e\n",
    "armazenamos na lista abaixo.\n",
    "Podemos dizer que as meninas, em média, tiram notas maiores que 600?\n",
    "Assumindo um nível de significância de 0.05\n",
    "data = [650,730,510,670,480,800,690,530,590,620,710,670,640,780,650,490,800,600,510]"
   ]
  },
  {
   "cell_type": "markdown",
   "id": "ac4464fe",
   "metadata": {
    "hide_input": true
   },
   "source": [
    "- H0: A média das notas não é maior que 600\n",
    "- H1: A média das notas é maior que 600"
   ]
  },
  {
   "cell_type": "code",
   "execution_count": 37,
   "id": "0ff86f6b",
   "metadata": {
    "ExecuteTime": {
     "end_time": "2022-08-02T20:26:51.045930Z",
     "start_time": "2022-08-02T20:26:51.036957Z"
    }
   },
   "outputs": [],
   "source": [
    "notas = [650,730,510,670,480,800,690,530,590,620,710,670,640,780,650,490,800,600,510]"
   ]
  },
  {
   "cell_type": "code",
   "execution_count": 49,
   "id": "41341f6e",
   "metadata": {
    "ExecuteTime": {
     "end_time": "2022-08-02T20:35:52.385727Z",
     "start_time": "2022-08-02T20:35:52.365813Z"
    }
   },
   "outputs": [
    {
     "data": {
      "text/plain": [
       "ShapiroResult(statistic=0.9473832845687866, pvalue=0.35634735226631165)"
      ]
     },
     "execution_count": 49,
     "metadata": {},
     "output_type": "execute_result"
    }
   ],
   "source": [
    "stats.shapiro(notas)"
   ]
  },
  {
   "cell_type": "code",
   "execution_count": 50,
   "id": "e121999d",
   "metadata": {
    "ExecuteTime": {
     "end_time": "2022-08-02T20:38:22.346657Z",
     "start_time": "2022-08-02T20:38:22.332667Z"
    },
    "scrolled": true
   },
   "outputs": [
    {
     "name": "stdout",
     "output_type": "stream",
     "text": [
      "P value: 0.3320090754422128\n",
      "Falhou em rejeitar a nula\n"
     ]
    }
   ],
   "source": [
    "_, p_value = stats.mannwhitneyu(x=notas, y=600, alternative='greater')\n",
    "\n",
    "print(f\"P value: {p_value}\")\n",
    "\n",
    "if p_value< 0.05:\n",
    "    print('Rejeita a nula')\n",
    "else:\n",
    "    print('Falhou em rejeitar a nula')"
   ]
  },
  {
   "cell_type": "markdown",
   "id": "68aa6ae3",
   "metadata": {},
   "source": [
    "# 5. Entrega da farmácia\n",
    "Um farmácia afirma que a média do tempo de entrega dos medicamentos é menor\n",
    "do que 120 minutos com desvio padrão de 30 minutos.\n",
    "Foram selecionadas 49 entregas aleatória e o tempo médio essas entregas foi de\n",
    "100 minutos.\n",
    "Há evidências suficientes para confirmar a afirmação da farmácia com 0.05 de nível\n",
    "de significância?"
   ]
  },
  {
   "cell_type": "code",
   "execution_count": null,
   "id": "6ca284fd",
   "metadata": {},
   "outputs": [],
   "source": []
  },
  {
   "cell_type": "markdown",
   "id": "3045cfd5",
   "metadata": {},
   "source": [
    "# 6. Defeitos na empresa\n",
    "Uma empresa quer melhorar a qualidade dos produtos reduzindo os defeitos e\n",
    "monitorando a eficiência das linhas de montagem. A linha de montagem A, havia 18\n",
    "defeitos relatados de 200 amostras selecionadas aleatoriamente, enquanto 25\n",
    "defeitos de 600 amostras foram relatadas na linha de montagem B.\n",
    "Há uma diferença entre as linhas de produção em um nível de significância de 0.05?"
   ]
  },
  {
   "cell_type": "markdown",
   "id": "d9e382fc",
   "metadata": {
    "hide_input": true
   },
   "source": [
    "- H0: Não há diferença entre as linhas de produção A e B\n",
    "- H1: Há diferença entre as linhas de produção A e B"
   ]
  },
  {
   "cell_type": "code",
   "execution_count": 26,
   "id": "cd103835",
   "metadata": {
    "ExecuteTime": {
     "end_time": "2022-08-02T20:22:09.451888Z",
     "start_time": "2022-08-02T20:22:09.424904Z"
    },
    "hide_input": false
   },
   "outputs": [
    {
     "data": {
      "text/html": [
       "<div>\n",
       "<style scoped>\n",
       "    .dataframe tbody tr th:only-of-type {\n",
       "        vertical-align: middle;\n",
       "    }\n",
       "\n",
       "    .dataframe tbody tr th {\n",
       "        vertical-align: top;\n",
       "    }\n",
       "\n",
       "    .dataframe thead th {\n",
       "        text-align: right;\n",
       "    }\n",
       "</style>\n",
       "<table border=\"1\" class=\"dataframe\">\n",
       "  <thead>\n",
       "    <tr style=\"text-align: right;\">\n",
       "      <th></th>\n",
       "      <th>amostras</th>\n",
       "      <th>defeitos</th>\n",
       "      <th>nao_defeitos</th>\n",
       "      <th>percentual_defeitos</th>\n",
       "    </tr>\n",
       "    <tr>\n",
       "      <th>linha</th>\n",
       "      <th></th>\n",
       "      <th></th>\n",
       "      <th></th>\n",
       "      <th></th>\n",
       "    </tr>\n",
       "  </thead>\n",
       "  <tbody>\n",
       "    <tr>\n",
       "      <th>A</th>\n",
       "      <td>200</td>\n",
       "      <td>18</td>\n",
       "      <td>182</td>\n",
       "      <td>0.090000</td>\n",
       "    </tr>\n",
       "    <tr>\n",
       "      <th>B</th>\n",
       "      <td>600</td>\n",
       "      <td>25</td>\n",
       "      <td>575</td>\n",
       "      <td>0.041667</td>\n",
       "    </tr>\n",
       "  </tbody>\n",
       "</table>\n",
       "</div>"
      ],
      "text/plain": [
       "       amostras  defeitos  nao_defeitos  percentual_defeitos\n",
       "linha                                                       \n",
       "A           200        18           182             0.090000\n",
       "B           600        25           575             0.041667"
      ]
     },
     "execution_count": 26,
     "metadata": {},
     "output_type": "execute_result"
    }
   ],
   "source": [
    "df6 = pd.DataFrame({'amostras':[200, 600], 'defeitos':[18, 25], 'linha':['A', 'B']})\n",
    "df6 = df6.set_index('linha')\n",
    "\n",
    "df6['nao_defeitos'] = df6['amostras'] - df6['defeitos']\n",
    "df6['percentual_defeitos'] = df6['defeitos'] / df6['amostras']\n",
    "df6"
   ]
  },
  {
   "cell_type": "markdown",
   "id": "24becef3",
   "metadata": {
    "hide_input": true
   },
   "source": [
    "### Experimento - Z Test"
   ]
  },
  {
   "cell_type": "code",
   "execution_count": 27,
   "id": "d19d9a75",
   "metadata": {
    "ExecuteTime": {
     "end_time": "2022-08-02T20:22:09.466881Z",
     "start_time": "2022-08-02T20:22:09.455886Z"
    },
    "hide_input": false
   },
   "outputs": [],
   "source": [
    "x1 = [0]*df6.loc['A', 'nao_defeitos'] + [1]*df6.loc['A', 'defeitos']\n",
    "x2 = [0]*df6.loc['B', 'nao_defeitos'] + [1]*df6.loc['B', 'defeitos']"
   ]
  },
  {
   "cell_type": "code",
   "execution_count": 28,
   "id": "e30c6c23",
   "metadata": {
    "ExecuteTime": {
     "end_time": "2022-08-02T20:22:09.513855Z",
     "start_time": "2022-08-02T20:22:09.477874Z"
    }
   },
   "outputs": [
    {
     "name": "stdout",
     "output_type": "stream",
     "text": [
      "p value: 0.008465853950233563\n",
      "Rejeita a nula\n"
     ]
    }
   ],
   "source": [
    "_, p_value = ssapi.ztest(x1=x1,x2=x2)\n",
    "print(f'p value: {p_value}')\n",
    "\n",
    "if p_value< 0.05:\n",
    "    print('Rejeita a nula')\n",
    "else:\n",
    "    print('Falhou em rejeitar a nula')"
   ]
  },
  {
   "cell_type": "markdown",
   "id": "42969cbc",
   "metadata": {},
   "source": [
    "# 7. Nível de Educação\n",
    "Pesquisadores gostariam de saber se o estado civil está associado com o nível de\n",
    "educação. Para isso, eles entrevistaram 300 pessoas aleatoriamente e obtiveram os\n",
    "seguintes resultados:\n",
    "High School Bachelor’s\n",
    "Master’s or\n",
    "Higher\n",
    "Total\n",
    "Married 20 100 35 155\n",
    "Single 50 80 15 145\n",
    "Total 70 180 50 300"
   ]
  },
  {
   "cell_type": "markdown",
   "id": "c632ae6e",
   "metadata": {
    "hide_input": true
   },
   "source": [
    "- H0: O nível de educação é independente ao estado civil da pessoa.\n",
    "- H1: O nível de educação não é independente ao estado civil da pessoa."
   ]
  },
  {
   "cell_type": "code",
   "execution_count": 29,
   "id": "f892e6c2",
   "metadata": {
    "ExecuteTime": {
     "end_time": "2022-08-02T20:22:09.576817Z",
     "start_time": "2022-08-02T20:22:09.517851Z"
    },
    "hide_input": false,
    "scrolled": true
   },
   "outputs": [
    {
     "data": {
      "text/html": [
       "<div>\n",
       "<style scoped>\n",
       "    .dataframe tbody tr th:only-of-type {\n",
       "        vertical-align: middle;\n",
       "    }\n",
       "\n",
       "    .dataframe tbody tr th {\n",
       "        vertical-align: top;\n",
       "    }\n",
       "\n",
       "    .dataframe thead th {\n",
       "        text-align: right;\n",
       "    }\n",
       "</style>\n",
       "<table border=\"1\" class=\"dataframe\">\n",
       "  <thead>\n",
       "    <tr style=\"text-align: right;\">\n",
       "      <th>educacao</th>\n",
       "      <th>High School Bachelor’s</th>\n",
       "      <th>Master’s</th>\n",
       "      <th>Higher</th>\n",
       "      <th>Total</th>\n",
       "    </tr>\n",
       "  </thead>\n",
       "  <tbody>\n",
       "    <tr>\n",
       "      <th>casados</th>\n",
       "      <td>20</td>\n",
       "      <td>100</td>\n",
       "      <td>35</td>\n",
       "      <td>155</td>\n",
       "    </tr>\n",
       "    <tr>\n",
       "      <th>solteiros</th>\n",
       "      <td>50</td>\n",
       "      <td>80</td>\n",
       "      <td>15</td>\n",
       "      <td>145</td>\n",
       "    </tr>\n",
       "    <tr>\n",
       "      <th>Total</th>\n",
       "      <td>70</td>\n",
       "      <td>180</td>\n",
       "      <td>50</td>\n",
       "      <td>300</td>\n",
       "    </tr>\n",
       "  </tbody>\n",
       "</table>\n",
       "</div>"
      ],
      "text/plain": [
       "educacao   High School Bachelor’s  Master’s  Higher  Total\n",
       "casados                        20       100      35    155\n",
       "solteiros                      50        80      15    145\n",
       "Total                          70       180      50    300"
      ]
     },
     "execution_count": 29,
     "metadata": {},
     "output_type": "execute_result"
    }
   ],
   "source": [
    "df7 = pd.DataFrame({'casados':[20, 100, 35], 'solteiros':[50, 80, 15],\n",
    "                    'educacao':['High School Bachelor’s', 'Master’s', 'Higher']})\n",
    "df7 = df7.set_index('educacao')\n",
    "df7['Total'] = df7.sum(axis=1)\n",
    "df7.loc['Total'] = df7.sum(axis=0)\n",
    "df7 = df7.T.copy()\n",
    "df7"
   ]
  },
  {
   "cell_type": "code",
   "execution_count": 30,
   "id": "074937a9",
   "metadata": {
    "ExecuteTime": {
     "end_time": "2022-08-02T20:22:09.606800Z",
     "start_time": "2022-08-02T20:22:09.582814Z"
    }
   },
   "outputs": [
    {
     "data": {
      "text/html": [
       "<div>\n",
       "<style scoped>\n",
       "    .dataframe tbody tr th:only-of-type {\n",
       "        vertical-align: middle;\n",
       "    }\n",
       "\n",
       "    .dataframe tbody tr th {\n",
       "        vertical-align: top;\n",
       "    }\n",
       "\n",
       "    .dataframe thead th {\n",
       "        text-align: right;\n",
       "    }\n",
       "</style>\n",
       "<table border=\"1\" class=\"dataframe\">\n",
       "  <thead>\n",
       "    <tr style=\"text-align: right;\">\n",
       "      <th>educacao</th>\n",
       "      <th>High School Bachelor’s</th>\n",
       "      <th>Master’s</th>\n",
       "      <th>Higher</th>\n",
       "    </tr>\n",
       "  </thead>\n",
       "  <tbody>\n",
       "    <tr>\n",
       "      <th>casados</th>\n",
       "      <td>20</td>\n",
       "      <td>100</td>\n",
       "      <td>35</td>\n",
       "    </tr>\n",
       "    <tr>\n",
       "      <th>solteiros</th>\n",
       "      <td>50</td>\n",
       "      <td>80</td>\n",
       "      <td>15</td>\n",
       "    </tr>\n",
       "  </tbody>\n",
       "</table>\n",
       "</div>"
      ],
      "text/plain": [
       "educacao   High School Bachelor’s  Master’s  Higher\n",
       "casados                        20       100      35\n",
       "solteiros                      50        80      15"
      ]
     },
     "execution_count": 30,
     "metadata": {},
     "output_type": "execute_result"
    }
   ],
   "source": [
    "observed = df7.drop('Total', axis=1).drop('Total', axis=0)\n",
    "observed"
   ]
  },
  {
   "cell_type": "markdown",
   "id": "ba56df8a",
   "metadata": {},
   "source": [
    "### Experimento -  Chi2"
   ]
  },
  {
   "cell_type": "code",
   "execution_count": 31,
   "id": "37e68b80",
   "metadata": {
    "ExecuteTime": {
     "end_time": "2022-08-02T20:22:09.622791Z",
     "start_time": "2022-08-02T20:22:09.612796Z"
    }
   },
   "outputs": [
    {
     "data": {
      "text/plain": [
       "(22.771333227395516,\n",
       " 1.1357109599633353e-05,\n",
       " 2,\n",
       " array([[36.16666667, 93.        , 25.83333333],\n",
       "        [33.83333333, 87.        , 24.16666667]]))"
      ]
     },
     "execution_count": 31,
     "metadata": {},
     "output_type": "execute_result"
    }
   ],
   "source": [
    "stats.chi2_contingency(observed=observed)"
   ]
  },
  {
   "cell_type": "code",
   "execution_count": 32,
   "id": "9a75948c",
   "metadata": {
    "ExecuteTime": {
     "end_time": "2022-08-02T20:22:09.638781Z",
     "start_time": "2022-08-02T20:22:09.627789Z"
    }
   },
   "outputs": [
    {
     "name": "stdout",
     "output_type": "stream",
     "text": [
      "Statistic: 22.771333227395516\n",
      "P value: 1.1357109599633353e-05\n",
      "Rejeita a nula\n"
     ]
    }
   ],
   "source": [
    "chi_squared_stat,p_value,_,_= stats.chi2_contingency(observed=observed)\n",
    "\n",
    "print(f\"Statistic: {chi_squared_stat}\")\n",
    "\n",
    "print(f\"P value: {p_value}\")\n",
    "\n",
    "if p_value< 0.05:\n",
    "    print('Rejeita a nula')\n",
    "else:\n",
    "    print('Falhou em rejeitar a nula')"
   ]
  },
  {
   "cell_type": "markdown",
   "id": "44c9f5ea",
   "metadata": {
    "ExecuteTime": {
     "end_time": "2022-08-02T19:50:07.238302Z",
     "start_time": "2022-08-02T19:50:07.232327Z"
    }
   },
   "source": [
    "**Não é possível afirmar que o nível de educação é independente ao estado civil da pessoa.**"
   ]
  },
  {
   "cell_type": "markdown",
   "id": "3cef6445",
   "metadata": {},
   "source": [
    "# 8. Dono da Loja\n",
    "O dono da loja afirma que um número igual de clientes visitam a sua loja cada dia\n",
    "da semana. Para testar essa hipótese, um Cientista de Dados registrou um número\n",
    "de clientes que visitaram a loja em uma determina semana e encontrou os seguinte\n",
    "números:\n",
    "High School\n",
    "Segunda 50\n",
    "Terça 60\n",
    "Quarta 40\n",
    "Quinta 47\n",
    "Sexta 53\n",
    "Os dados são consistentes com a afirmação do dono da loja?"
   ]
  },
  {
   "cell_type": "code",
   "execution_count": null,
   "id": "c87b83a8",
   "metadata": {},
   "outputs": [],
   "source": []
  }
 ],
 "metadata": {
  "kernelspec": {
   "display_name": "Python 3 (ipykernel)",
   "language": "python",
   "name": "python3"
  },
  "language_info": {
   "codemirror_mode": {
    "name": "ipython",
    "version": 3
   },
   "file_extension": ".py",
   "mimetype": "text/x-python",
   "name": "python",
   "nbconvert_exporter": "python",
   "pygments_lexer": "ipython3",
   "version": "3.8.5"
  },
  "varInspector": {
   "cols": {
    "lenName": 16,
    "lenType": 16,
    "lenVar": 40
   },
   "kernels_config": {
    "python": {
     "delete_cmd_postfix": "",
     "delete_cmd_prefix": "del ",
     "library": "var_list.py",
     "varRefreshCmd": "print(var_dic_list())"
    },
    "r": {
     "delete_cmd_postfix": ") ",
     "delete_cmd_prefix": "rm(",
     "library": "var_list.r",
     "varRefreshCmd": "cat(var_dic_list()) "
    }
   },
   "types_to_exclude": [
    "module",
    "function",
    "builtin_function_or_method",
    "instance",
    "_Feature"
   ],
   "window_display": false
  }
 },
 "nbformat": 4,
 "nbformat_minor": 5
}

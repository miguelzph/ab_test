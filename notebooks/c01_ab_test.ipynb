{
 "cells": [
  {
   "cell_type": "markdown",
   "id": "ccf08e5b",
   "metadata": {},
   "source": [
    "# PLANEJAMENTO DA SOLUÇÃO"
   ]
  },
  {
   "cell_type": "markdown",
   "id": "7a452282",
   "metadata": {},
   "source": [
    "### Passo 1 - Escolha do Método"
   ]
  },
  {
   "cell_type": "markdown",
   "id": "21b8dd1a",
   "metadata": {},
   "source": [
    "- Teste A/B: Avaliar os resultados do experimento realizado, ou seja, comparar as duas versões de preenchimento dos dados de cartão, para avaliar qual é mais eficaz (faz com que o usuário compre mais vezes)."
   ]
  },
  {
   "cell_type": "markdown",
   "id": "e6676002",
   "metadata": {},
   "source": [
    "### Passo 2 - Design de Experimento"
   ]
  },
  {
   "cell_type": "markdown",
   "id": "aba18d67",
   "metadata": {},
   "source": [
    "#### Formação das hipóteses"
   ]
  },
  {
   "cell_type": "markdown",
   "id": "5efcdc7d",
   "metadata": {
    "ExecuteTime": {
     "end_time": "2022-05-14T22:52:54.517019Z",
     "start_time": "2022-05-14T22:52:54.492012Z"
    }
   },
   "source": [
    "- Hipótese Nula: Clientes que usam o método de preenchimento automatico(A) não fazem 2% mais compras do que o de clientes que usam o preenchimento manual(B).\n",
    "\n",
    "\n",
    "- Hipótese Alternativa: O número de compras de clientes que usam o prenchimento automatico(A) é 2% maior do que o de clientes que usam o preenchimento manual(B).\n",
    "\n",
    "\n",
    "- Tipo de teste:Maior -> Uma calda --> Unilateral.\n",
    "\n",
    "\n",
    "- Nível de confiança: 90% (pode ser alterado, mas para o modelo de negócio 90% parece um nível ok)"
   ]
  },
  {
   "cell_type": "markdown",
   "id": "c9b831fc",
   "metadata": {},
   "source": [
    "#### Escolha da variável"
   ]
  },
  {
   "cell_type": "markdown",
   "id": "927856f9",
   "metadata": {
    "ExecuteTime": {
     "end_time": "2022-05-14T22:55:59.377914Z",
     "start_time": "2022-05-14T22:55:59.354929Z"
    }
   },
   "source": [
    "- purchases (número de compras dos clientes)."
   ]
  },
  {
   "cell_type": "markdown",
   "id": "23f07da2",
   "metadata": {},
   "source": [
    "#### Separação dos grupos"
   ]
  },
  {
   "cell_type": "markdown",
   "id": "8a643b7c",
   "metadata": {},
   "source": [
    "- Grupo controle: Grupo A = Preenchimento AUTOMÁTICO das informações de pagamento.\n",
    "\n",
    "\n",
    "- Grupo tratamento: Grupo B = Preenchimento MANUAL das informações de pagamento.\n",
    "\n",
    "\n",
    "- Tamanho da Amostra de cada grupo: Calcular levando em consideração nível de confiança, power e diferença esperada.\n",
    "\n",
    "\n",
    "- Avaliação de homogeneidade entre os grupos:\n",
    "  - Plotar os gráficos comparando diferentes categorias.\n",
    "  - Avaliar o tempo.\n",
    "  - Caso necessário filtrar com mais rigidez clientes homogêneos.\n",
    "  - Pesquisar bibliotecas."
   ]
  },
  {
   "cell_type": "markdown",
   "id": "c364fd07",
   "metadata": {},
   "source": [
    "### Passo 3 - Coletando os dados"
   ]
  },
  {
   "cell_type": "markdown",
   "id": "ed013b13",
   "metadata": {},
   "source": [
    "#### Coleta dos dados"
   ]
  },
  {
   "cell_type": "markdown",
   "id": "349cef84",
   "metadata": {},
   "source": [
    "Disponível em: https://drive.google.com/file/d/1oUJLeAgSaUI7CA-0F14KG0FzXEim7pSe/view"
   ]
  },
  {
   "cell_type": "markdown",
   "id": "9fea5d26",
   "metadata": {},
   "source": [
    "#### Preparação dos dados"
   ]
  },
  {
   "cell_type": "markdown",
   "id": "21d163c8",
   "metadata": {
    "ExecuteTime": {
     "end_time": "2022-05-14T23:18:16.615283Z",
     "start_time": "2022-05-14T23:18:16.596271Z"
    }
   },
   "source": [
    "- Fazer DATA DESCRIPTION e FEATURE ENGINEERING com os dados."
   ]
  },
  {
   "cell_type": "markdown",
   "id": "ef155ffb",
   "metadata": {},
   "source": [
    "#### Métrica dos grupos"
   ]
  },
  {
   "cell_type": "markdown",
   "id": "1599631e",
   "metadata": {},
   "source": [
    "Cálculo do número de compras\n",
    "- É necessário saber o número de compras baseline ou só com a diferença requerida do negócio é possível realizar o teste?\n",
    "  - Como calcular o baseline do grupo de controle? \n",
    "  - Média por um período ou não é necessário? "
   ]
  },
  {
   "cell_type": "markdown",
   "id": "145022a6",
   "metadata": {},
   "source": [
    "### Passo 4 - Testando as hipóteses"
   ]
  },
  {
   "cell_type": "markdown",
   "id": "46eeb22f",
   "metadata": {},
   "source": [
    "#### Definição do método de inferência estatística"
   ]
  },
  {
   "cell_type": "markdown",
   "id": "c6d1bdb3",
   "metadata": {},
   "source": [
    "Buscar fontes para saber qual dos testes usar ( proporção, conversão, volume ) ?\n",
    "- t-Test\n",
    "-ANOVA\n",
    "- Chi-Squared"
   ]
  },
  {
   "cell_type": "markdown",
   "id": "0bff5e1c",
   "metadata": {},
   "source": [
    "#### Cálculo do p-valor"
   ]
  },
  {
   "cell_type": "markdown",
   "id": "967bc2d6",
   "metadata": {},
   "source": [
    "### Passo 5 - Tirando conclusões"
   ]
  },
  {
   "cell_type": "markdown",
   "id": "a9a1bf1d",
   "metadata": {},
   "source": [
    "- Interpretação do p-valor\n",
    "  - É maior ou menor que o alfa escolhido?\n",
    "\n",
    "\n",
    "- Validação das hipóteses iniciais?\n",
    "  - Hipotése rejeitada?\n",
    "\n",
    "\n",
    "- Conclusão\n",
    "  - O efeito da mudança foi provado ou não?\n",
    "\n",
    "\n",
    "- Cálculo do número de vendas potencial\n",
    "\n",
    "\n",
    "- Cálculo do faturamento potencial\n",
    "  - Provavelmente --> Dada a mudança quanto vou ganhar a mais?\n"
   ]
  },
  {
   "cell_type": "markdown",
   "id": "530d09dc",
   "metadata": {},
   "source": [
    "# 0.5. IMPORTS"
   ]
  },
  {
   "cell_type": "code",
   "execution_count": 87,
   "id": "1d6be3b2",
   "metadata": {
    "ExecuteTime": {
     "end_time": "2022-05-18T20:42:58.275257Z",
     "start_time": "2022-05-18T20:42:58.267263Z"
    }
   },
   "outputs": [],
   "source": [
    "import seaborn as sns\n",
    "import matplotlib.pyplot as plt\n",
    "\n",
    "import pandas as pd\n",
    "import numpy as np\n",
    "import statsmodels.api as sm\n",
    "\n",
    "from IPython.core.display import HTML"
   ]
  },
  {
   "cell_type": "markdown",
   "id": "40444089",
   "metadata": {},
   "source": [
    "## 0.5.1. Helper Functions"
   ]
  },
  {
   "cell_type": "code",
   "execution_count": 2,
   "id": "a059a3db",
   "metadata": {
    "ExecuteTime": {
     "end_time": "2022-05-18T20:07:01.022758Z",
     "start_time": "2022-05-18T20:07:00.975465Z"
    }
   },
   "outputs": [
    {
     "data": {
      "text/html": [
       "<style>.container { width:95% !important; } </style>"
      ],
      "text/plain": [
       "<IPython.core.display.HTML object>"
      ]
     },
     "metadata": {},
     "output_type": "display_data"
    }
   ],
   "source": [
    "def jupyter_settings():\n",
    "    %matplotlib inline\n",
    "    #%pylab inline\n",
    "    \n",
    "    plt.style.use( 'ggplot' )\n",
    "    plt.rcParams['figure.figsize'] = [16, 8]\n",
    "    plt.rcParams['font.size'] = 24\n",
    "    \n",
    "    display(HTML ('<style>.container { width:95% !important; } </style>'))\n",
    "    pd.options.display.max_columns = None\n",
    "    pd.options.display.max_rows=50\n",
    "    pd.set_option('display.expand_frame_repr', False)\n",
    "       \n",
    "    sns.set()\n",
    "    \n",
    "jupyter_settings()"
   ]
  },
  {
   "cell_type": "markdown",
   "id": "5d281400",
   "metadata": {},
   "source": [
    "## 0.2. Loading Data"
   ]
  },
  {
   "cell_type": "code",
   "execution_count": 3,
   "id": "a85e4f92",
   "metadata": {
    "ExecuteTime": {
     "end_time": "2022-05-18T20:07:01.149475Z",
     "start_time": "2022-05-18T20:07:01.027741Z"
    }
   },
   "outputs": [],
   "source": [
    "data_raw = pd.read_csv('../datasets/ab_testing.csv')"
   ]
  },
  {
   "cell_type": "markdown",
   "id": "709698ef",
   "metadata": {},
   "source": [
    "# 1.0. PASSO 01 - DATA DESCRIPTION"
   ]
  },
  {
   "cell_type": "code",
   "execution_count": 4,
   "id": "cae3f48f",
   "metadata": {
    "ExecuteTime": {
     "end_time": "2022-05-18T20:07:01.165482Z",
     "start_time": "2022-05-18T20:07:01.152489Z"
    }
   },
   "outputs": [],
   "source": [
    "df1 = data_raw.copy()"
   ]
  },
  {
   "cell_type": "markdown",
   "id": "b0d6a9db",
   "metadata": {
    "ExecuteTime": {
     "end_time": "2021-12-29T20:33:28.747283Z",
     "start_time": "2021-12-29T20:33:27.759990Z"
    }
   },
   "source": [
    "## 1.1. Rename Columns"
   ]
  },
  {
   "cell_type": "markdown",
   "id": "a7451640",
   "metadata": {
    "ExecuteTime": {
     "end_time": "2021-12-29T20:33:28.747283Z",
     "start_time": "2021-12-29T20:33:27.759990Z"
    }
   },
   "source": [
    "## 1.2. Data Dimensions"
   ]
  },
  {
   "cell_type": "code",
   "execution_count": 5,
   "id": "9ffd3d7b",
   "metadata": {
    "ExecuteTime": {
     "end_time": "2022-05-18T20:07:01.184802Z",
     "start_time": "2022-05-18T20:07:01.169480Z"
    },
    "scrolled": true
   },
   "outputs": [
    {
     "name": "stdout",
     "output_type": "stream",
     "text": [
      "N rows: 45883\n",
      "N columns: 8\n"
     ]
    }
   ],
   "source": [
    "print(f'N rows: {df1.shape[0]}')\n",
    "print(f'N columns: {df1.shape[1]}')"
   ]
  },
  {
   "cell_type": "markdown",
   "id": "83e82098",
   "metadata": {
    "ExecuteTime": {
     "end_time": "2021-12-29T20:33:28.747283Z",
     "start_time": "2021-12-29T20:33:27.759990Z"
    }
   },
   "source": [
    "## 1.3. Data Types"
   ]
  },
  {
   "cell_type": "code",
   "execution_count": 6,
   "id": "6c594b22",
   "metadata": {
    "ExecuteTime": {
     "end_time": "2022-05-18T20:07:01.215784Z",
     "start_time": "2022-05-18T20:07:01.191798Z"
    }
   },
   "outputs": [
    {
     "data": {
      "text/plain": [
       "uid           int64\n",
       "country      object\n",
       "gender       object\n",
       "spent         int64\n",
       "purchases     int64\n",
       "date         object\n",
       "group        object\n",
       "device       object\n",
       "dtype: object"
      ]
     },
     "execution_count": 6,
     "metadata": {},
     "output_type": "execute_result"
    }
   ],
   "source": [
    "df1.dtypes"
   ]
  },
  {
   "cell_type": "code",
   "execution_count": 7,
   "id": "ec17e074",
   "metadata": {
    "ExecuteTime": {
     "end_time": "2022-05-18T20:07:01.309756Z",
     "start_time": "2022-05-18T20:07:01.224780Z"
    }
   },
   "outputs": [],
   "source": [
    "df1['date'] = pd.to_datetime(df1['date'])"
   ]
  },
  {
   "cell_type": "markdown",
   "id": "186fbf9a",
   "metadata": {
    "ExecuteTime": {
     "end_time": "2021-12-29T20:33:28.747283Z",
     "start_time": "2021-12-29T20:33:27.759990Z"
    }
   },
   "source": [
    "## 1.4. Check NA"
   ]
  },
  {
   "cell_type": "code",
   "execution_count": 8,
   "id": "f5412dbe",
   "metadata": {
    "ExecuteTime": {
     "end_time": "2022-05-18T20:07:01.376664Z",
     "start_time": "2022-05-18T20:07:01.311757Z"
    }
   },
   "outputs": [
    {
     "data": {
      "text/plain": [
       "uid          0\n",
       "country      0\n",
       "gender       0\n",
       "spent        0\n",
       "purchases    0\n",
       "date         0\n",
       "group        0\n",
       "device       0\n",
       "dtype: int64"
      ]
     },
     "execution_count": 8,
     "metadata": {},
     "output_type": "execute_result"
    }
   ],
   "source": [
    "df1.isna().sum()"
   ]
  },
  {
   "cell_type": "markdown",
   "id": "818e4bd7",
   "metadata": {
    "ExecuteTime": {
     "end_time": "2021-12-29T20:33:28.747283Z",
     "start_time": "2021-12-29T20:33:27.759990Z"
    }
   },
   "source": [
    "## 1.5. Fillout NA's"
   ]
  },
  {
   "cell_type": "markdown",
   "id": "b261724e",
   "metadata": {
    "ExecuteTime": {
     "end_time": "2021-12-29T20:33:28.747283Z",
     "start_time": "2021-12-29T20:33:27.759990Z"
    }
   },
   "source": [
    "## 1.6. Verifying Types"
   ]
  },
  {
   "cell_type": "markdown",
   "id": "18cbf32d",
   "metadata": {
    "ExecuteTime": {
     "end_time": "2021-12-29T20:33:28.747283Z",
     "start_time": "2021-12-29T20:33:27.759990Z"
    }
   },
   "source": [
    "## 1.7. Descriptive Statistics"
   ]
  },
  {
   "cell_type": "code",
   "execution_count": 9,
   "id": "66d47243",
   "metadata": {
    "ExecuteTime": {
     "end_time": "2022-05-18T20:07:01.401228Z",
     "start_time": "2022-05-18T20:07:01.379662Z"
    }
   },
   "outputs": [],
   "source": [
    "num_attributes = df1.select_dtypes(include=['int64', 'float64']).drop(columns=['uid'])\n",
    "cat_attributes = df1.select_dtypes(exclude=['int64', 'float64', 'datetime64[ns]'])"
   ]
  },
  {
   "cell_type": "markdown",
   "id": "7740a9f7",
   "metadata": {
    "ExecuteTime": {
     "end_time": "2021-12-29T20:33:28.747283Z",
     "start_time": "2021-12-29T20:33:27.759990Z"
    }
   },
   "source": [
    "### 1.7.1. Numerical Attributes"
   ]
  },
  {
   "cell_type": "code",
   "execution_count": 10,
   "id": "ed31b3f3",
   "metadata": {
    "ExecuteTime": {
     "end_time": "2022-05-18T20:07:01.475295Z",
     "start_time": "2022-05-18T20:07:01.415204Z"
    }
   },
   "outputs": [
    {
     "data": {
      "text/html": [
       "<div>\n",
       "<style scoped>\n",
       "    .dataframe tbody tr th:only-of-type {\n",
       "        vertical-align: middle;\n",
       "    }\n",
       "\n",
       "    .dataframe tbody tr th {\n",
       "        vertical-align: top;\n",
       "    }\n",
       "\n",
       "    .dataframe thead th {\n",
       "        text-align: right;\n",
       "    }\n",
       "</style>\n",
       "<table border=\"1\" class=\"dataframe\">\n",
       "  <thead>\n",
       "    <tr style=\"text-align: right;\">\n",
       "      <th></th>\n",
       "      <th>min</th>\n",
       "      <th>max</th>\n",
       "      <th>range</th>\n",
       "      <th>mean</th>\n",
       "      <th>median</th>\n",
       "      <th>std</th>\n",
       "      <th>skew</th>\n",
       "      <th>kurtosis</th>\n",
       "    </tr>\n",
       "  </thead>\n",
       "  <tbody>\n",
       "    <tr>\n",
       "      <th>spent</th>\n",
       "      <td>99.0</td>\n",
       "      <td>12170.0</td>\n",
       "      <td>12071.0</td>\n",
       "      <td>1883.5</td>\n",
       "      <td>1596.0</td>\n",
       "      <td>1363.9</td>\n",
       "      <td>1.4</td>\n",
       "      <td>2.6</td>\n",
       "    </tr>\n",
       "    <tr>\n",
       "      <th>purchases</th>\n",
       "      <td>1.0</td>\n",
       "      <td>30.0</td>\n",
       "      <td>29.0</td>\n",
       "      <td>4.5</td>\n",
       "      <td>4.0</td>\n",
       "      <td>3.1</td>\n",
       "      <td>1.3</td>\n",
       "      <td>2.6</td>\n",
       "    </tr>\n",
       "  </tbody>\n",
       "</table>\n",
       "</div>"
      ],
      "text/plain": [
       "            min      max    range    mean  median     std  skew  kurtosis\n",
       "spent      99.0  12170.0  12071.0  1883.5  1596.0  1363.9   1.4       2.6\n",
       "purchases   1.0     30.0     29.0     4.5     4.0     3.1   1.3       2.6"
      ]
     },
     "execution_count": 10,
     "metadata": {},
     "output_type": "execute_result"
    }
   ],
   "source": [
    "descriptive_num = num_attributes.describe().transpose()\n",
    "descriptive_num['range'] = descriptive_num['max'] - descriptive_num['min']\n",
    "descriptive_num['skew'] = num_attributes.skew()\n",
    "descriptive_num['kurtosis'] = num_attributes.kurtosis()\n",
    "\n",
    "descriptive_num = descriptive_num.rename(columns = {'50%':'median'})\n",
    "\n",
    "descriptive_num = descriptive_num[['min', 'max','range','mean','median','std', 'skew', 'kurtosis']]\n",
    "descriptive_num.round(1)"
   ]
  },
  {
   "cell_type": "markdown",
   "id": "e2d07a94",
   "metadata": {
    "ExecuteTime": {
     "end_time": "2021-12-29T20:33:28.747283Z",
     "start_time": "2021-12-29T20:33:27.759990Z"
    }
   },
   "source": [
    "### 1.7.1. Categorical Attributes"
   ]
  },
  {
   "cell_type": "code",
   "execution_count": 11,
   "id": "520a7c85",
   "metadata": {
    "ExecuteTime": {
     "end_time": "2022-05-18T20:07:02.421586Z",
     "start_time": "2022-05-18T20:07:01.479293Z"
    }
   },
   "outputs": [
    {
     "data": {
      "image/png": "[encoded data removed]",
      "text/plain": [
       "<Figure size 1152x576 with 4 Axes>"
      ]
     },
     "metadata": {},
     "output_type": "display_data"
    }
   ],
   "source": [
    "plt.subplot(2,3,1)\n",
    "cat_attributes['gender'].hist().set_title('Gender')\n",
    "plt.subplot(2,3,2)\n",
    "cat_attributes['group'].hist().set_title('Group')\n",
    "plt.subplot(2,3,3)\n",
    "cat_attributes['device'].hist().set_title('Device')\n",
    "\n",
    "plt.subplot(2,3,(4,6))\n",
    "cat_attributes['country'].hist().set_title('Country')\n",
    "\n",
    "plt.show()"
   ]
  },
  {
   "cell_type": "markdown",
   "id": "b961e9b7",
   "metadata": {},
   "source": [
    "# 2.0. PASSO 02 - FEATURE ENGINEERING"
   ]
  },
  {
   "cell_type": "code",
   "execution_count": 12,
   "id": "5f3a86b7",
   "metadata": {
    "ExecuteTime": {
     "end_time": "2022-05-18T20:07:02.447923Z",
     "start_time": "2022-05-18T20:07:02.425585Z"
    }
   },
   "outputs": [],
   "source": [
    "df2 = df1.copy()"
   ]
  },
  {
   "cell_type": "markdown",
   "id": "92b53df4",
   "metadata": {
    "ExecuteTime": {
     "end_time": "2022-01-03T20:21:48.354902Z",
     "start_time": "2022-01-03T20:21:48.336890Z"
    }
   },
   "source": [
    "## 2.1. Mapa Mental de Hipoteses"
   ]
  },
  {
   "cell_type": "markdown",
   "id": "22a2f4b7",
   "metadata": {
    "ExecuteTime": {
     "end_time": "2022-01-03T20:21:48.354902Z",
     "start_time": "2022-01-03T20:21:48.336890Z"
    },
    "heading_collapsed": true
   },
   "source": [
    "## 2.2. Criacao das Hipoteses"
   ]
  },
  {
   "cell_type": "markdown",
   "id": "944b4b25",
   "metadata": {
    "ExecuteTime": {
     "end_time": "2022-01-03T20:21:48.354902Z",
     "start_time": "2022-01-03T20:21:48.336890Z"
    },
    "heading_collapsed": true,
    "hidden": true
   },
   "source": [
    "### 2.1.1. Hipoteses Loja"
   ]
  },
  {
   "cell_type": "markdown",
   "id": "d45654ff",
   "metadata": {
    "hidden": true
   },
   "source": []
  },
  {
   "cell_type": "markdown",
   "id": "6196e310",
   "metadata": {
    "ExecuteTime": {
     "end_time": "2022-01-03T20:21:48.354902Z",
     "start_time": "2022-01-03T20:21:48.336890Z"
    },
    "heading_collapsed": true,
    "hidden": true
   },
   "source": [
    "### 2.1.2. Hipoteses Produto"
   ]
  },
  {
   "cell_type": "markdown",
   "id": "0612abc3",
   "metadata": {
    "hidden": true
   },
   "source": []
  },
  {
   "cell_type": "markdown",
   "id": "78986653",
   "metadata": {
    "ExecuteTime": {
     "end_time": "2022-01-03T20:21:48.354902Z",
     "start_time": "2022-01-03T20:21:48.336890Z"
    },
    "heading_collapsed": true,
    "hidden": true
   },
   "source": [
    "### 2.1.3. Hipoteses Tempo"
   ]
  },
  {
   "cell_type": "markdown",
   "id": "5b834026",
   "metadata": {
    "hidden": true
   },
   "source": []
  },
  {
   "cell_type": "markdown",
   "id": "32370564",
   "metadata": {
    "heading_collapsed": true
   },
   "source": [
    "## 2.3. Lista final de hipoteses\n",
    "--> Selecionando as hipoteses que posso validar com os dados nesse momento"
   ]
  },
  {
   "cell_type": "markdown",
   "id": "a33d574c",
   "metadata": {
    "hidden": true
   },
   "source": []
  },
  {
   "cell_type": "markdown",
   "id": "14e892c3",
   "metadata": {},
   "source": [
    "## 2.4. Feature Engineering"
   ]
  },
  {
   "cell_type": "code",
   "execution_count": 13,
   "id": "e3600ce5",
   "metadata": {
    "ExecuteTime": {
     "end_time": "2022-05-18T20:07:02.463135Z",
     "start_time": "2022-05-18T20:07:02.449948Z"
    }
   },
   "outputs": [],
   "source": [
    "# Criação da variável principal\n",
    "df2['ticket'] = df2['spent'] / df2['purchases']"
   ]
  },
  {
   "cell_type": "code",
   "execution_count": 14,
   "id": "ced1d042",
   "metadata": {
    "ExecuteTime": {
     "end_time": "2022-05-18T20:07:02.501890Z",
     "start_time": "2022-05-18T20:07:02.466133Z"
    }
   },
   "outputs": [],
   "source": [
    "# Ordenando por data\n",
    "df2 = df2.sort_values('date')"
   ]
  },
  {
   "cell_type": "code",
   "execution_count": 15,
   "id": "5dfebb81",
   "metadata": {
    "ExecuteTime": {
     "end_time": "2022-05-18T20:07:02.533873Z",
     "start_time": "2022-05-18T20:07:02.503876Z"
    }
   },
   "outputs": [],
   "source": [
    "# Quantidade no grupo por data\n",
    "df2['accumulated_groupA'] = (df2['group'] == 'GRP A').cumsum()\n",
    "df2['accumulated_groupB'] = (df2['group'] == 'GRP B').cumsum()"
   ]
  },
  {
   "cell_type": "markdown",
   "id": "d8b0c3e1",
   "metadata": {
    "ExecuteTime": {
     "end_time": "2022-01-03T22:35:35.563684Z",
     "start_time": "2022-01-03T22:35:35.557687Z"
    }
   },
   "source": [
    "# 3.0. PASSO 03 - FILTRAGEM DE VARIAVEIS"
   ]
  },
  {
   "cell_type": "code",
   "execution_count": 16,
   "id": "f8fb8734",
   "metadata": {
    "ExecuteTime": {
     "end_time": "2022-05-18T20:07:02.549506Z",
     "start_time": "2022-05-18T20:07:02.536857Z"
    }
   },
   "outputs": [],
   "source": [
    "df3 = df2.copy()"
   ]
  },
  {
   "cell_type": "markdown",
   "id": "41a73840",
   "metadata": {
    "ExecuteTime": {
     "end_time": "2022-01-03T22:38:19.484448Z",
     "start_time": "2022-01-03T22:38:19.484448Z"
    },
    "code_folding": [],
    "heading_collapsed": true
   },
   "source": [
    "## 3.1. Filtragem das Linhas"
   ]
  },
  {
   "cell_type": "code",
   "execution_count": null,
   "id": "e9828404",
   "metadata": {
    "hidden": true
   },
   "outputs": [],
   "source": []
  },
  {
   "cell_type": "markdown",
   "id": "8ec052c6",
   "metadata": {
    "heading_collapsed": true
   },
   "source": [
    "## 3.2. Filtragem das Colunas"
   ]
  },
  {
   "cell_type": "code",
   "execution_count": null,
   "id": "4b417512",
   "metadata": {
    "hidden": true
   },
   "outputs": [],
   "source": []
  },
  {
   "cell_type": "markdown",
   "id": "befea113",
   "metadata": {
    "ExecuteTime": {
     "end_time": "2022-01-03T22:35:35.563684Z",
     "start_time": "2022-01-03T22:35:35.557687Z"
    }
   },
   "source": [
    "# 4.0. PASSO 04 - ANALISE EXPLORATORIA DOS DADOS"
   ]
  },
  {
   "cell_type": "code",
   "execution_count": 17,
   "id": "35e84298",
   "metadata": {
    "ExecuteTime": {
     "end_time": "2022-05-18T20:07:02.565110Z",
     "start_time": "2022-05-18T20:07:02.549506Z"
    }
   },
   "outputs": [],
   "source": [
    "df4 = df3.copy()"
   ]
  },
  {
   "cell_type": "markdown",
   "id": "a969a823",
   "metadata": {
    "heading_collapsed": true
   },
   "source": [
    "## 4.1. Analise Univariada"
   ]
  },
  {
   "cell_type": "markdown",
   "id": "7d796c46",
   "metadata": {
    "heading_collapsed": true,
    "hidden": true
   },
   "source": [
    "### 4.1.1. Response Variable"
   ]
  },
  {
   "cell_type": "code",
   "execution_count": null,
   "id": "3c853839",
   "metadata": {
    "hidden": true
   },
   "outputs": [],
   "source": []
  },
  {
   "cell_type": "markdown",
   "id": "a3f99311",
   "metadata": {
    "heading_collapsed": true,
    "hidden": true
   },
   "source": [
    "### 4.1.2. Numerical Variable"
   ]
  },
  {
   "cell_type": "code",
   "execution_count": null,
   "id": "63f49095",
   "metadata": {
    "hidden": true
   },
   "outputs": [],
   "source": []
  },
  {
   "cell_type": "markdown",
   "id": "bff5cab9",
   "metadata": {
    "hidden": true
   },
   "source": [
    "### 4.1.3. Categorical Variable"
   ]
  },
  {
   "cell_type": "code",
   "execution_count": null,
   "id": "4c8e20c6",
   "metadata": {
    "hidden": true
   },
   "outputs": [],
   "source": []
  },
  {
   "cell_type": "markdown",
   "id": "74c211cf",
   "metadata": {},
   "source": [
    "## 4.2. Analise Bivariada"
   ]
  },
  {
   "cell_type": "markdown",
   "id": "ca9b2a5b",
   "metadata": {},
   "source": [
    "### Distribuições de purchases por grupo"
   ]
  },
  {
   "cell_type": "code",
   "execution_count": 85,
   "id": "7f7df5cd",
   "metadata": {
    "ExecuteTime": {
     "end_time": "2022-05-18T20:41:47.081234Z",
     "start_time": "2022-05-18T20:41:45.461264Z"
    }
   },
   "outputs": [
    {
     "data": {
      "text/plain": [
       "Text(0.5, 1.0, 'Histogram by group')"
      ]
     },
     "execution_count": 85,
     "metadata": {},
     "output_type": "execute_result"
    },
    {
     "data": {
      "image/png": "[encoded data removed]",
      "text/plain": [
       "<Figure size 1152x576 with 1 Axes>"
      ]
     },
     "metadata": {},
     "output_type": "display_data"
    }
   ],
   "source": [
    "sns.histplot(df4,\n",
    "             x='purchases',\n",
    "             hue='group',\n",
    "             bins=len(df4['purchases'].unique()),\n",
    "             kde=True,\n",
    "             alpha=0.4,\n",
    "             palette='deep').set_title('Histogram by group')"
   ]
  },
  {
   "cell_type": "markdown",
   "id": "cf6acc7e",
   "metadata": {},
   "source": [
    "###  Quantidade total de clientes em cada grupo por Data"
   ]
  },
  {
   "cell_type": "code",
   "execution_count": 18,
   "id": "0ce8f0e7",
   "metadata": {
    "ExecuteTime": {
     "end_time": "2022-05-18T20:07:03.718548Z",
     "start_time": "2022-05-18T20:07:02.568106Z"
    }
   },
   "outputs": [
    {
     "data": {
      "image/png": "[encoded data removed]",
      "text/plain": [
       "<Figure size 1152x576 with 1 Axes>"
      ]
     },
     "metadata": {},
     "output_type": "display_data"
    }
   ],
   "source": [
    "df_aux = df4.copy()\n",
    "df_aux = df_aux.set_index('date', drop=True)\n",
    "\n",
    "ax = df_aux.plot(y='accumulated_groupB', kind='line')\n",
    "df_aux.plot(y='accumulated_groupA', kind='line', ax=ax).set_title('Accumulated clients in each group')\n",
    "plt.show()"
   ]
  },
  {
   "cell_type": "markdown",
   "id": "1fcd4861",
   "metadata": {},
   "source": [
    "### Clientes em cada grupo por Categorias"
   ]
  },
  {
   "cell_type": "code",
   "execution_count": 19,
   "id": "620c36da",
   "metadata": {
    "ExecuteTime": {
     "end_time": "2022-05-18T20:07:05.084677Z",
     "start_time": "2022-05-18T20:07:03.727544Z"
    }
   },
   "outputs": [
    {
     "data": {
      "image/png": "[encoded data removed]",
      "text/plain": [
       "<Figure size 1152x576 with 3 Axes>"
      ]
     },
     "metadata": {},
     "output_type": "display_data"
    }
   ],
   "source": [
    "plt.suptitle('Number of clients in each group') \n",
    "\n",
    "plt.subplot(2,2,1)\n",
    "coluna = 'gender'\n",
    "df_aux = df4.groupby(['group', coluna]).count().reset_index()\n",
    "sns.barplot(data=df_aux, y='uid', x=coluna, hue='group')\n",
    "\n",
    "plt.subplot(2,2,2)\n",
    "coluna = 'device'\n",
    "df_aux = df4.groupby(['group', coluna]).count().reset_index()\n",
    "sns.barplot(data=df_aux, y='uid', x=coluna, hue='group')\n",
    "\n",
    "plt.subplot(2,2,(3,4))\n",
    "coluna = 'country'\n",
    "df_aux = df4.groupby(['group', coluna]).count().reset_index()\n",
    "sns.barplot(data=df_aux, y='uid', x=coluna, hue='group')\n",
    "\n",
    "plt.show()"
   ]
  },
  {
   "cell_type": "markdown",
   "id": "7103a2fc",
   "metadata": {},
   "source": [
    "### Gasto médio em cada grupo por Categorias"
   ]
  },
  {
   "cell_type": "code",
   "execution_count": 27,
   "id": "6ba8fdda",
   "metadata": {
    "ExecuteTime": {
     "end_time": "2022-05-18T20:13:24.034223Z",
     "start_time": "2022-05-18T20:13:23.261248Z"
    }
   },
   "outputs": [
    {
     "data": {
      "image/png": "[encoded data removed]",
      "text/plain": [
       "<Figure size 1152x576 with 3 Axes>"
      ]
     },
     "metadata": {},
     "output_type": "display_data"
    }
   ],
   "source": [
    "plt.suptitle('Purchases By Categories') \n",
    "\n",
    "plt.subplot(2,2,1)\n",
    "coluna = 'gender'\n",
    "df_aux = df4.groupby(['group', coluna]).mean().reset_index()\n",
    "sns.barplot(data=df_aux, y='purchases', x=coluna, hue='group')\n",
    "\n",
    "plt.subplot(2,2,2)\n",
    "coluna = 'device'\n",
    "df_aux = df4.groupby(['group', coluna]).mean().reset_index()\n",
    "sns.barplot(data=df_aux, y='purchases', x=coluna, hue='group')\n",
    "\n",
    "plt.subplot(2,2,(3,4))\n",
    "coluna = 'country'\n",
    "df_aux = df4.groupby(['group', coluna]).mean().reset_index()\n",
    "sns.barplot(data=df_aux, y='purchases', x=coluna, hue='group')\n",
    "\n",
    "plt.show()"
   ]
  },
  {
   "cell_type": "markdown",
   "id": "43271db5",
   "metadata": {
    "ExecuteTime": {
     "end_time": "2022-01-13T18:42:59.428652Z",
     "start_time": "2022-01-13T18:42:59.421688Z"
    }
   },
   "source": [
    "### 4.2.1. Resumo das Hipoteses"
   ]
  },
  {
   "cell_type": "code",
   "execution_count": null,
   "id": "f3515b25",
   "metadata": {},
   "outputs": [],
   "source": []
  },
  {
   "cell_type": "markdown",
   "id": "ebe69af4",
   "metadata": {},
   "source": [
    "## 4.3. Analise Multivariada"
   ]
  },
  {
   "cell_type": "markdown",
   "id": "84dc2fa6",
   "metadata": {
    "code_folding": []
   },
   "source": [
    "### 4.3.1. Numerical Attributes"
   ]
  },
  {
   "cell_type": "code",
   "execution_count": 21,
   "id": "29c62b57",
   "metadata": {
    "ExecuteTime": {
     "end_time": "2022-05-18T20:07:06.473855Z",
     "start_time": "2022-05-18T20:07:06.130496Z"
    }
   },
   "outputs": [
    {
     "data": {
      "image/png": "[encoded data removed]",
      "text/plain": [
       "<Figure size 1152x576 with 2 Axes>"
      ]
     },
     "metadata": {},
     "output_type": "display_data"
    }
   ],
   "source": [
    "correlation = num_attributes.corr(method='pearson')\n",
    "sns.heatmap(correlation, annot=True);"
   ]
  },
  {
   "cell_type": "markdown",
   "id": "dffad770",
   "metadata": {
    "code_folding": [],
    "heading_collapsed": true
   },
   "source": [
    "### 4.3.2. Categorical Attributes"
   ]
  },
  {
   "cell_type": "code",
   "execution_count": null,
   "id": "d62c6141",
   "metadata": {
    "hidden": true
   },
   "outputs": [],
   "source": []
  },
  {
   "cell_type": "markdown",
   "id": "73c14e17",
   "metadata": {
    "ExecuteTime": {
     "end_time": "2022-01-03T22:35:35.563684Z",
     "start_time": "2022-01-03T22:35:35.557687Z"
    }
   },
   "source": [
    "# 5.0. PASSO 05 - PREPARAÇAO DOS DADOS"
   ]
  },
  {
   "cell_type": "code",
   "execution_count": 88,
   "id": "223c0518",
   "metadata": {
    "ExecuteTime": {
     "end_time": "2022-05-18T20:43:05.441810Z",
     "start_time": "2022-05-18T20:43:05.314902Z"
    }
   },
   "outputs": [
    {
     "name": "stderr",
     "output_type": "stream",
     "text": [
      "C:\\Users\\Miguel\\anaconda3\\lib\\site-packages\\statsmodels\\stats\\proportion.py:428: RuntimeWarning: invalid value encountered in arcsin\n",
      "  es = 2 * (np.arcsin(np.sqrt(prop1)) - np.arcsin(np.sqrt(prop2)))\n",
      "C:\\Users\\Miguel\\anaconda3\\lib\\site-packages\\statsmodels\\stats\\power.py:415: ConvergenceWarning: \n",
      "Failed to converge on a solution.\n",
      "\n",
      "  warnings.warn(convergence_doc, ConvergenceWarning)\n"
     ]
    }
   ],
   "source": [
    "\n",
    "effect_size = sm.stats.proportion_effectsize( 1010, 1000 )\n",
    "effect_size\n",
    "\n",
    "analysis = sm.stats.TTestIndPower()\n",
    "\n",
    "# O tamanho da amostra ?\n",
    "# Effect Size é de 6% de diferença das conversão entre as amostras.\n",
    "# A signficancia estatistica é de 95% no Teste T de proporcao - 5%\n",
    "# A probabilidade de observar o efeito na amostra é de 80% ( padrão da literatura )\n",
    "\n",
    "results = analysis.solve_power( effect_size=effect_size,\n",
    "                                alpha=0.05,\n",
    "                                power=0.8, \n",
    "                                alternative='larger' )"
   ]
  },
  {
   "cell_type": "code",
   "execution_count": null,
   "id": "90e474ea",
   "metadata": {
    "ExecuteTime": {
     "end_time": "2022-05-18T20:07:07.978557Z",
     "start_time": "2022-05-18T20:07:07.977557Z"
    }
   },
   "outputs": [],
   "source": [
    "results"
   ]
  },
  {
   "cell_type": "code",
   "execution_count": null,
   "id": "f5ed80ca",
   "metadata": {},
   "outputs": [],
   "source": []
  },
  {
   "cell_type": "code",
   "execution_count": null,
   "id": "9ac05a0c",
   "metadata": {},
   "outputs": [],
   "source": []
  },
  {
   "cell_type": "code",
   "execution_count": null,
   "id": "750e62be",
   "metadata": {},
   "outputs": [],
   "source": []
  },
  {
   "cell_type": "code",
   "execution_count": null,
   "id": "3dc4205d",
   "metadata": {},
   "outputs": [],
   "source": []
  },
  {
   "cell_type": "code",
   "execution_count": null,
   "id": "048738ee",
   "metadata": {},
   "outputs": [],
   "source": []
  },
  {
   "cell_type": "code",
   "execution_count": null,
   "id": "533ac5b2",
   "metadata": {},
   "outputs": [],
   "source": []
  },
  {
   "cell_type": "code",
   "execution_count": null,
   "id": "8295d7bb",
   "metadata": {},
   "outputs": [],
   "source": []
  },
  {
   "cell_type": "code",
   "execution_count": null,
   "id": "caab2ca2",
   "metadata": {},
   "outputs": [],
   "source": []
  },
  {
   "cell_type": "code",
   "execution_count": null,
   "id": "26b18adb",
   "metadata": {},
   "outputs": [],
   "source": []
  },
  {
   "cell_type": "markdown",
   "id": "f9bab3c8",
   "metadata": {
    "ExecuteTime": {
     "end_time": "2022-01-03T22:35:35.563684Z",
     "start_time": "2022-01-03T22:35:35.557687Z"
    },
    "heading_collapsed": true
   },
   "source": [
    "# 6.0. PASSO 06 - FEATURE SELECTION"
   ]
  },
  {
   "cell_type": "code",
   "execution_count": null,
   "id": "6950a15a",
   "metadata": {
    "hidden": true
   },
   "outputs": [],
   "source": []
  },
  {
   "cell_type": "markdown",
   "id": "42afd0b5",
   "metadata": {
    "heading_collapsed": true,
    "hidden": true
   },
   "source": [
    "## 6.1. Split dataframe into training and test"
   ]
  },
  {
   "cell_type": "code",
   "execution_count": null,
   "id": "eef154a2",
   "metadata": {
    "hidden": true
   },
   "outputs": [],
   "source": []
  },
  {
   "cell_type": "markdown",
   "id": "1ba72545",
   "metadata": {
    "heading_collapsed": true,
    "hidden": true
   },
   "source": [
    "## 6.2. Feature Selection"
   ]
  },
  {
   "cell_type": "code",
   "execution_count": null,
   "id": "a089c1f4",
   "metadata": {
    "hidden": true
   },
   "outputs": [],
   "source": []
  },
  {
   "cell_type": "markdown",
   "id": "ff4eee29",
   "metadata": {
    "ExecuteTime": {
     "end_time": "2022-01-03T22:35:35.563684Z",
     "start_time": "2022-01-03T22:35:35.557687Z"
    },
    "heading_collapsed": true
   },
   "source": [
    "# 7.0. PASSO 07 - MACHINE LEARNING MODELLING"
   ]
  },
  {
   "cell_type": "code",
   "execution_count": null,
   "id": "c796f2af",
   "metadata": {
    "hidden": true
   },
   "outputs": [],
   "source": []
  },
  {
   "cell_type": "markdown",
   "id": "bcb99e49",
   "metadata": {
    "ExecuteTime": {
     "end_time": "2022-01-03T22:35:35.563684Z",
     "start_time": "2022-01-03T22:35:35.557687Z"
    },
    "heading_collapsed": true,
    "hidden": true
   },
   "source": [
    "## 7.6. Compare Model's Performance"
   ]
  },
  {
   "cell_type": "markdown",
   "id": "269205d9",
   "metadata": {
    "ExecuteTime": {
     "end_time": "2022-01-03T22:35:35.563684Z",
     "start_time": "2022-01-03T22:35:35.557687Z"
    },
    "heading_collapsed": true,
    "hidden": true
   },
   "source": [
    "### 7.6.1. Single Performance"
   ]
  },
  {
   "cell_type": "code",
   "execution_count": null,
   "id": "4ea34c95",
   "metadata": {
    "hidden": true
   },
   "outputs": [],
   "source": []
  },
  {
   "cell_type": "markdown",
   "id": "a6601799",
   "metadata": {
    "ExecuteTime": {
     "end_time": "2022-01-03T22:35:35.563684Z",
     "start_time": "2022-01-03T22:35:35.557687Z"
    },
    "heading_collapsed": true,
    "hidden": true
   },
   "source": [
    "### 7.6.1. Real Performance - Cross Validation"
   ]
  },
  {
   "cell_type": "code",
   "execution_count": null,
   "id": "53a8029f",
   "metadata": {
    "hidden": true
   },
   "outputs": [],
   "source": []
  },
  {
   "cell_type": "markdown",
   "id": "d6f476ba",
   "metadata": {
    "ExecuteTime": {
     "end_time": "2022-01-03T22:35:35.563684Z",
     "start_time": "2022-01-03T22:35:35.557687Z"
    },
    "heading_collapsed": true
   },
   "source": [
    "# 8.0. PASSO 08 - HYPERPARAMETER FINE TUNING"
   ]
  },
  {
   "cell_type": "code",
   "execution_count": null,
   "id": "0770630a",
   "metadata": {
    "hidden": true
   },
   "outputs": [],
   "source": []
  },
  {
   "cell_type": "markdown",
   "id": "ce187b4a",
   "metadata": {
    "heading_collapsed": true
   },
   "source": [
    "# 9.0. PASSO 09 - TRADUCAO E INTERPRETACAO DO ERRO"
   ]
  },
  {
   "cell_type": "markdown",
   "id": "0a47dc75",
   "metadata": {
    "heading_collapsed": true,
    "hidden": true
   },
   "source": [
    "## 9.1. Business Performance"
   ]
  },
  {
   "cell_type": "code",
   "execution_count": null,
   "id": "acdd81e8",
   "metadata": {
    "hidden": true
   },
   "outputs": [],
   "source": []
  },
  {
   "cell_type": "markdown",
   "id": "930ca25e",
   "metadata": {
    "heading_collapsed": true,
    "hidden": true
   },
   "source": [
    "## 9.2. Total Performance"
   ]
  },
  {
   "cell_type": "code",
   "execution_count": null,
   "id": "2dab8f84",
   "metadata": {
    "hidden": true
   },
   "outputs": [],
   "source": []
  },
  {
   "cell_type": "markdown",
   "id": "f7cd3852",
   "metadata": {
    "heading_collapsed": true,
    "hidden": true
   },
   "source": [
    "## 9.3. Machine Learning Performance"
   ]
  },
  {
   "cell_type": "code",
   "execution_count": null,
   "id": "d2f286db",
   "metadata": {
    "hidden": true
   },
   "outputs": [],
   "source": []
  },
  {
   "cell_type": "markdown",
   "id": "e4d7b69e",
   "metadata": {},
   "source": [
    "# 10.0. PASSO 10 - DEPLOY MODEL"
   ]
  },
  {
   "cell_type": "code",
   "execution_count": null,
   "id": "3dab4cef",
   "metadata": {},
   "outputs": [],
   "source": []
  }
 ],
 "metadata": {
  "kernelspec": {
   "display_name": "Python 3 (ipykernel)",
   "language": "python",
   "name": "python3"
  },
  "language_info": {
   "codemirror_mode": {
    "name": "ipython",
    "version": 3
   },
   "file_extension": ".py",
   "mimetype": "text/x-python",
   "name": "python",
   "nbconvert_exporter": "python",
   "pygments_lexer": "ipython3",
   "version": "3.8.5"
  },
  "varInspector": {
   "cols": {
    "lenName": 16,
    "lenType": 16,
    "lenVar": 40
   },
   "kernels_config": {
    "python": {
     "delete_cmd_postfix": "",
     "delete_cmd_prefix": "del ",
     "library": "var_list.py",
     "varRefreshCmd": "print(var_dic_list())"
    },
    "r": {
     "delete_cmd_postfix": ") ",
     "delete_cmd_prefix": "rm(",
     "library": "var_list.r",
     "varRefreshCmd": "cat(var_dic_list()) "
    }
   },
   "types_to_exclude": [
    "module",
    "function",
    "builtin_function_or_method",
    "instance",
    "_Feature"
   ],
   "window_display": false
  }
 },
 "nbformat": 4,
 "nbformat_minor": 5
}

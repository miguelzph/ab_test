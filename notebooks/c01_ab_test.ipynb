{
 "cells": [
  {
   "cell_type": "markdown",
   "id": "45eee141",
   "metadata": {},
   "source": [
    "# PLANEJAMENTO DA SOLUÇÃO"
   ]
  },
  {
   "cell_type": "markdown",
   "id": "cfbf1a7e",
   "metadata": {},
   "source": [
    "## Passo 1 - Escolha do Método"
   ]
  },
  {
   "cell_type": "markdown",
   "id": "e9e1bc99",
   "metadata": {},
   "source": [
    "- Teste A/B: Comparar duas versões de preenchimento dos dados de cartão, para avaliar qual é mais efetivo."
   ]
  },
  {
   "cell_type": "markdown",
   "id": "4c57a212",
   "metadata": {},
   "source": [
    "## Passo 2 - Design de Experimento"
   ]
  },
  {
   "cell_type": "markdown",
   "id": "d422784c",
   "metadata": {},
   "source": [
    "#### Formação das hipóteses"
   ]
  },
  {
   "cell_type": "markdown",
   "id": "e16fc5bf",
   "metadata": {
    "ExecuteTime": {
     "end_time": "2022-05-14T22:52:54.517019Z",
     "start_time": "2022-05-14T22:52:54.492012Z"
    }
   },
   "source": [
    "(Provavelmente: Novo método dá X%¨mais dinheiro que o base)\n",
    "- Hipótese Nula:\n",
    "- Hipótese Alternativa:\n",
    "\n",
    "\n",
    "- Tipo de teste: ? ( Maior ou Menor --> Uma calda).\n",
    "- Nível de confiança: 95% (padrão para experimentos que não envolvem riscos elevados). --> Provavelmente poderia ser 90%"
   ]
  },
  {
   "cell_type": "markdown",
   "id": "ec3f85e4",
   "metadata": {},
   "source": [
    "#### Escolha da variável"
   ]
  },
  {
   "cell_type": "markdown",
   "id": "75a9b13f",
   "metadata": {
    "ExecuteTime": {
     "end_time": "2022-05-14T22:55:59.377914Z",
     "start_time": "2022-05-14T22:55:59.354929Z"
    }
   },
   "source": [
    "- ticket médio (Quanto dinheiro o cliente gastou / Quantidade de compras)."
   ]
  },
  {
   "cell_type": "markdown",
   "id": "3927af0d",
   "metadata": {},
   "source": [
    "#### Separação dos grupos"
   ]
  },
  {
   "cell_type": "markdown",
   "id": "5eabbb89",
   "metadata": {},
   "source": [
    "- Grupo controle: Grupo A.\n",
    "- Grupo tratamento: Grupo B.\n",
    "- Tamanho da Amostra de cada grupo: Calcular levando em consideração nível de confiança, power e diferença esperada.\n",
    "- Avaliação de homogeneidade entre os grupos:\n",
    "  - Plotar os gráficos comparando diferentes categorias.\n",
    "  - Avaliar o tempo.\n",
    "  - Caso necessário filtrar com mais rigidez clientes homogêneos."
   ]
  },
  {
   "cell_type": "markdown",
   "id": "65bbe858",
   "metadata": {},
   "source": [
    "## Passo 3 - Coletando os dados"
   ]
  },
  {
   "cell_type": "markdown",
   "id": "b23983e7",
   "metadata": {},
   "source": [
    "#### Coleta dos dados"
   ]
  },
  {
   "cell_type": "markdown",
   "id": "899cd395",
   "metadata": {},
   "source": [
    "Disponível em: https://drive.google.com/file/d/1oUJLeAgSaUI7CA-0F14KG0FzXEim7pSe/view"
   ]
  },
  {
   "cell_type": "markdown",
   "id": "4a5a68af",
   "metadata": {},
   "source": [
    "#### Preparação dos dados"
   ]
  },
  {
   "cell_type": "markdown",
   "id": "3316d295",
   "metadata": {
    "ExecuteTime": {
     "end_time": "2022-05-14T23:18:16.615283Z",
     "start_time": "2022-05-14T23:18:16.596271Z"
    }
   },
   "source": [
    "- Fazer DATA DESCRIPTION e FEATURE ENGINEERING com os dados."
   ]
  },
  {
   "cell_type": "markdown",
   "id": "d7b8755f",
   "metadata": {},
   "source": [
    "#### Métrica dos grupos"
   ]
  },
  {
   "cell_type": "markdown",
   "id": "86c06d7a",
   "metadata": {},
   "source": [
    "Calculo de ticket\n",
    "- É necessário saber o ticket baseline ou só com a diferença requerida do negócio é possível realizar o teste?\n",
    "  - Como calcular o baseline do grupo de controle? \n",
    "  - Média por um período ou não é necessário? "
   ]
  },
  {
   "cell_type": "markdown",
   "id": "28fd9ed6",
   "metadata": {},
   "source": [
    "## Passo 4 - Testando as hipóteses"
   ]
  },
  {
   "cell_type": "markdown",
   "id": "50e94c9c",
   "metadata": {},
   "source": [
    "#### Definição do método de inferência estatística"
   ]
  },
  {
   "cell_type": "markdown",
   "id": "6613c8e6",
   "metadata": {},
   "source": [
    "Buscar fontes para saber qual dos testes usar ( proporção, conversão, volume ) ?\n",
    "- t-Test\n",
    "-ANOVA\n",
    "- Chi-Squared"
   ]
  },
  {
   "cell_type": "markdown",
   "id": "b761b5c1",
   "metadata": {},
   "source": [
    "#### Cálculo do p-valor"
   ]
  },
  {
   "cell_type": "markdown",
   "id": "86d49636",
   "metadata": {},
   "source": [
    "## Passo 5 - Tirando conclusões"
   ]
  },
  {
   "cell_type": "markdown",
   "id": "2a72e8aa",
   "metadata": {},
   "source": [
    "- Interpretação do p-valor\n",
    "  - É maior ou menor que o alfa escolhido?\n",
    "- Validação das hipóteses iniciais?\n",
    "  - Hipotése rejeitada?\n",
    "- Conclusão\n",
    "  - O efeito da mudança foi provado ou não?\n",
    "- Cálculo do número de vendas potencial\n",
    "- Cálculo do faturamento potencial\n",
    "  - Provavelmente --> Dada a mudança quanto vou ganhar a mais?\n"
   ]
  },
  {
   "cell_type": "markdown",
   "id": "530d09dc",
   "metadata": {},
   "source": [
    "# 0.5. IMPORTS"
   ]
  },
  {
   "cell_type": "code",
   "execution_count": 120,
   "id": "1d6be3b2",
   "metadata": {
    "ExecuteTime": {
     "end_time": "2022-05-14T22:41:20.194708Z",
     "start_time": "2022-05-14T22:41:20.174740Z"
    }
   },
   "outputs": [],
   "source": [
    "import seaborn as sns\n",
    "import matplotlib.pyplot as plt\n",
    "\n",
    "import pandas as pd\n",
    "import numpy as np\n",
    "import statsmodels.api as st\n",
    "\n",
    "from IPython.core.display import HTML"
   ]
  },
  {
   "cell_type": "markdown",
   "id": "40444089",
   "metadata": {},
   "source": [
    "## 0.5.1. Helper Functions"
   ]
  },
  {
   "cell_type": "code",
   "execution_count": 155,
   "id": "a059a3db",
   "metadata": {
    "ExecuteTime": {
     "end_time": "2022-05-14T23:11:31.731933Z",
     "start_time": "2022-05-14T23:11:31.700948Z"
    }
   },
   "outputs": [
    {
     "data": {
      "text/html": [
       "<style>.container { width:95% !important; } </style>"
      ],
      "text/plain": [
       "<IPython.core.display.HTML object>"
      ]
     },
     "metadata": {},
     "output_type": "display_data"
    }
   ],
   "source": [
    "def jupyter_settings():\n",
    "    %matplotlib inline\n",
    "    #%pylab inline\n",
    "    \n",
    "    plt.style.use( 'ggplot' )\n",
    "    plt.rcParams['figure.figsize'] = [16, 8]\n",
    "    plt.rcParams['font.size'] = 24\n",
    "    \n",
    "    display(HTML ('<style>.container { width:95% !important; } </style>'))\n",
    "    pd.options.display.max_columns = None\n",
    "    pd.options.display.max_rows=50\n",
    "    pd.set_option('display.expand_frame_repr', False)\n",
    "       \n",
    "    sns.set()\n",
    "    \n",
    "jupyter_settings()"
   ]
  },
  {
   "cell_type": "markdown",
   "id": "5d281400",
   "metadata": {},
   "source": [
    "## 0.2. Loading Data"
   ]
  },
  {
   "cell_type": "code",
   "execution_count": 5,
   "id": "a85e4f92",
   "metadata": {
    "ExecuteTime": {
     "end_time": "2022-05-14T21:55:58.919120Z",
     "start_time": "2022-05-14T21:55:58.838275Z"
    }
   },
   "outputs": [],
   "source": [
    "data_raw = pd.read_csv('../datasets/ab_testing.csv')"
   ]
  },
  {
   "cell_type": "markdown",
   "id": "709698ef",
   "metadata": {},
   "source": [
    "# 1.0. PASSO 01 - DATA DESCRIPTION"
   ]
  },
  {
   "cell_type": "code",
   "execution_count": 6,
   "id": "cae3f48f",
   "metadata": {
    "ExecuteTime": {
     "end_time": "2022-05-14T21:55:59.636922Z",
     "start_time": "2022-05-14T21:55:59.621927Z"
    }
   },
   "outputs": [],
   "source": [
    "df1 = data_raw.copy()"
   ]
  },
  {
   "cell_type": "markdown",
   "id": "b0d6a9db",
   "metadata": {
    "ExecuteTime": {
     "end_time": "2021-12-29T20:33:28.747283Z",
     "start_time": "2021-12-29T20:33:27.759990Z"
    }
   },
   "source": [
    "## 1.1. Rename Columns"
   ]
  },
  {
   "cell_type": "markdown",
   "id": "a7451640",
   "metadata": {
    "ExecuteTime": {
     "end_time": "2021-12-29T20:33:28.747283Z",
     "start_time": "2021-12-29T20:33:27.759990Z"
    }
   },
   "source": [
    "## 1.2. Data Dimensions"
   ]
  },
  {
   "cell_type": "code",
   "execution_count": 7,
   "id": "9ffd3d7b",
   "metadata": {
    "ExecuteTime": {
     "end_time": "2022-05-14T21:56:01.242246Z",
     "start_time": "2022-05-14T21:56:01.223251Z"
    },
    "scrolled": true
   },
   "outputs": [
    {
     "name": "stdout",
     "output_type": "stream",
     "text": [
      "N rows: 45883\n",
      "N columns: 8\n"
     ]
    }
   ],
   "source": [
    "print(f'N rows: {df1.shape[0]}')\n",
    "print(f'N columns: {df1.shape[1]}')"
   ]
  },
  {
   "cell_type": "markdown",
   "id": "83e82098",
   "metadata": {
    "ExecuteTime": {
     "end_time": "2021-12-29T20:33:28.747283Z",
     "start_time": "2021-12-29T20:33:27.759990Z"
    }
   },
   "source": [
    "## 1.3. Data Types"
   ]
  },
  {
   "cell_type": "code",
   "execution_count": 13,
   "id": "6c594b22",
   "metadata": {
    "ExecuteTime": {
     "end_time": "2022-05-14T21:56:23.971245Z",
     "start_time": "2022-05-14T21:56:23.957253Z"
    }
   },
   "outputs": [
    {
     "data": {
      "text/plain": [
       "uid                   int64\n",
       "country              object\n",
       "gender               object\n",
       "spent                 int64\n",
       "purchases             int64\n",
       "date         datetime64[ns]\n",
       "group                object\n",
       "device               object\n",
       "dtype: object"
      ]
     },
     "execution_count": 13,
     "metadata": {},
     "output_type": "execute_result"
    }
   ],
   "source": [
    "df1.dtypes"
   ]
  },
  {
   "cell_type": "code",
   "execution_count": 11,
   "id": "ec17e074",
   "metadata": {
    "ExecuteTime": {
     "end_time": "2022-05-14T21:56:20.134261Z",
     "start_time": "2022-05-14T21:56:20.085957Z"
    }
   },
   "outputs": [],
   "source": [
    "df1['date'] = pd.to_datetime(df1['date'])"
   ]
  },
  {
   "cell_type": "markdown",
   "id": "186fbf9a",
   "metadata": {
    "ExecuteTime": {
     "end_time": "2021-12-29T20:33:28.747283Z",
     "start_time": "2021-12-29T20:33:27.759990Z"
    }
   },
   "source": [
    "## 1.4. Check NA"
   ]
  },
  {
   "cell_type": "code",
   "execution_count": 12,
   "id": "f5412dbe",
   "metadata": {
    "ExecuteTime": {
     "end_time": "2022-05-14T21:56:21.183408Z",
     "start_time": "2022-05-14T21:56:21.117234Z"
    }
   },
   "outputs": [
    {
     "data": {
      "text/plain": [
       "uid          0\n",
       "country      0\n",
       "gender       0\n",
       "spent        0\n",
       "purchases    0\n",
       "date         0\n",
       "group        0\n",
       "device       0\n",
       "dtype: int64"
      ]
     },
     "execution_count": 12,
     "metadata": {},
     "output_type": "execute_result"
    }
   ],
   "source": [
    "df1.isna().sum()"
   ]
  },
  {
   "cell_type": "markdown",
   "id": "818e4bd7",
   "metadata": {
    "ExecuteTime": {
     "end_time": "2021-12-29T20:33:28.747283Z",
     "start_time": "2021-12-29T20:33:27.759990Z"
    }
   },
   "source": [
    "## 1.5. Fillout NA's"
   ]
  },
  {
   "cell_type": "markdown",
   "id": "b261724e",
   "metadata": {
    "ExecuteTime": {
     "end_time": "2021-12-29T20:33:28.747283Z",
     "start_time": "2021-12-29T20:33:27.759990Z"
    }
   },
   "source": [
    "## 1.6. Verifying Types"
   ]
  },
  {
   "cell_type": "markdown",
   "id": "18cbf32d",
   "metadata": {
    "ExecuteTime": {
     "end_time": "2021-12-29T20:33:28.747283Z",
     "start_time": "2021-12-29T20:33:27.759990Z"
    }
   },
   "source": [
    "## 1.7. Descriptive Statistics"
   ]
  },
  {
   "cell_type": "code",
   "execution_count": 122,
   "id": "66d47243",
   "metadata": {
    "ExecuteTime": {
     "end_time": "2022-05-14T22:41:51.459434Z",
     "start_time": "2022-05-14T22:41:51.449439Z"
    }
   },
   "outputs": [],
   "source": [
    "num_attributes = df1.select_dtypes(include=['int64', 'float64']).drop(columns=['uid'])\n",
    "cat_attributes = df1.select_dtypes(exclude=['int64', 'float64', 'datetime64[ns]'])"
   ]
  },
  {
   "cell_type": "markdown",
   "id": "7740a9f7",
   "metadata": {
    "ExecuteTime": {
     "end_time": "2021-12-29T20:33:28.747283Z",
     "start_time": "2021-12-29T20:33:27.759990Z"
    }
   },
   "source": [
    "### 1.7.1. Numerical Attributes"
   ]
  },
  {
   "cell_type": "code",
   "execution_count": 123,
   "id": "ed31b3f3",
   "metadata": {
    "ExecuteTime": {
     "end_time": "2022-05-14T22:41:53.536618Z",
     "start_time": "2022-05-14T22:41:53.491663Z"
    }
   },
   "outputs": [
    {
     "data": {
      "text/html": [
       "<div>\n",
       "<style scoped>\n",
       "    .dataframe tbody tr th:only-of-type {\n",
       "        vertical-align: middle;\n",
       "    }\n",
       "\n",
       "    .dataframe tbody tr th {\n",
       "        vertical-align: top;\n",
       "    }\n",
       "\n",
       "    .dataframe thead th {\n",
       "        text-align: right;\n",
       "    }\n",
       "</style>\n",
       "<table border=\"1\" class=\"dataframe\">\n",
       "  <thead>\n",
       "    <tr style=\"text-align: right;\">\n",
       "      <th></th>\n",
       "      <th>min</th>\n",
       "      <th>max</th>\n",
       "      <th>range</th>\n",
       "      <th>mean</th>\n",
       "      <th>median</th>\n",
       "      <th>std</th>\n",
       "      <th>skew</th>\n",
       "      <th>kurtosis</th>\n",
       "    </tr>\n",
       "  </thead>\n",
       "  <tbody>\n",
       "    <tr>\n",
       "      <th>spent</th>\n",
       "      <td>99.0</td>\n",
       "      <td>12170.0</td>\n",
       "      <td>12071.0</td>\n",
       "      <td>1883.5</td>\n",
       "      <td>1596.0</td>\n",
       "      <td>1363.9</td>\n",
       "      <td>1.4</td>\n",
       "      <td>2.6</td>\n",
       "    </tr>\n",
       "    <tr>\n",
       "      <th>purchases</th>\n",
       "      <td>1.0</td>\n",
       "      <td>30.0</td>\n",
       "      <td>29.0</td>\n",
       "      <td>4.5</td>\n",
       "      <td>4.0</td>\n",
       "      <td>3.1</td>\n",
       "      <td>1.3</td>\n",
       "      <td>2.6</td>\n",
       "    </tr>\n",
       "  </tbody>\n",
       "</table>\n",
       "</div>"
      ],
      "text/plain": [
       "            min      max    range    mean  median     std  skew  kurtosis\n",
       "spent      99.0  12170.0  12071.0  1883.5  1596.0  1363.9   1.4       2.6\n",
       "purchases   1.0     30.0     29.0     4.5     4.0     3.1   1.3       2.6"
      ]
     },
     "execution_count": 123,
     "metadata": {},
     "output_type": "execute_result"
    }
   ],
   "source": [
    "descriptive_num = num_attributes.describe().transpose()\n",
    "descriptive_num['range'] = descriptive_num['max'] - descriptive_num['min']\n",
    "descriptive_num['skew'] = num_attributes.skew()\n",
    "descriptive_num['kurtosis'] = num_attributes.kurtosis()\n",
    "\n",
    "descriptive_num = descriptive_num.rename(columns = {'50%':'median'})\n",
    "\n",
    "descriptive_num = descriptive_num[['min', 'max','range','mean','median','std', 'skew', 'kurtosis']]\n",
    "descriptive_num.round(1)"
   ]
  },
  {
   "cell_type": "markdown",
   "id": "e2d07a94",
   "metadata": {
    "ExecuteTime": {
     "end_time": "2021-12-29T20:33:28.747283Z",
     "start_time": "2021-12-29T20:33:27.759990Z"
    }
   },
   "source": [
    "### 1.7.1. Categorical Attributes"
   ]
  },
  {
   "cell_type": "code",
   "execution_count": 157,
   "id": "520a7c85",
   "metadata": {
    "ExecuteTime": {
     "end_time": "2022-05-14T23:11:47.702571Z",
     "start_time": "2022-05-14T23:11:47.050861Z"
    }
   },
   "outputs": [
    {
     "data": {
      "image/png": "[encoded data removed]",
      "text/plain": [
       "<Figure size 1152x576 with 4 Axes>"
      ]
     },
     "metadata": {},
     "output_type": "display_data"
    }
   ],
   "source": [
    "plt.subplot(2,3,1)\n",
    "cat_attributes['gender'].hist().set_title('Gender')\n",
    "plt.subplot(2,3,2)\n",
    "cat_attributes['group'].hist().set_title('Group')\n",
    "plt.subplot(2,3,3)\n",
    "cat_attributes['device'].hist().set_title('Device')\n",
    "\n",
    "plt.subplot(2,3,(4,6))\n",
    "cat_attributes['country'].hist().set_title('Country')\n",
    "\n",
    "plt.show()"
   ]
  },
  {
   "cell_type": "markdown",
   "id": "b961e9b7",
   "metadata": {},
   "source": [
    "# 2.0. PASSO 02 - FEATURE ENGINEERING"
   ]
  },
  {
   "cell_type": "code",
   "execution_count": 201,
   "id": "5f3a86b7",
   "metadata": {
    "ExecuteTime": {
     "end_time": "2022-05-14T23:51:56.011616Z",
     "start_time": "2022-05-14T23:51:55.991627Z"
    }
   },
   "outputs": [],
   "source": [
    "df2 = df1.copy()"
   ]
  },
  {
   "cell_type": "markdown",
   "id": "92b53df4",
   "metadata": {
    "ExecuteTime": {
     "end_time": "2022-01-03T20:21:48.354902Z",
     "start_time": "2022-01-03T20:21:48.336890Z"
    }
   },
   "source": [
    "## 2.1. Mapa Mental de Hipoteses"
   ]
  },
  {
   "cell_type": "markdown",
   "id": "22a2f4b7",
   "metadata": {
    "ExecuteTime": {
     "end_time": "2022-01-03T20:21:48.354902Z",
     "start_time": "2022-01-03T20:21:48.336890Z"
    },
    "heading_collapsed": true
   },
   "source": [
    "## 2.2. Criacao das Hipoteses"
   ]
  },
  {
   "cell_type": "markdown",
   "id": "944b4b25",
   "metadata": {
    "ExecuteTime": {
     "end_time": "2022-01-03T20:21:48.354902Z",
     "start_time": "2022-01-03T20:21:48.336890Z"
    },
    "heading_collapsed": true,
    "hidden": true
   },
   "source": [
    "### 2.1.1. Hipoteses Loja"
   ]
  },
  {
   "cell_type": "markdown",
   "id": "d45654ff",
   "metadata": {
    "hidden": true
   },
   "source": []
  },
  {
   "cell_type": "markdown",
   "id": "6196e310",
   "metadata": {
    "ExecuteTime": {
     "end_time": "2022-01-03T20:21:48.354902Z",
     "start_time": "2022-01-03T20:21:48.336890Z"
    },
    "heading_collapsed": true,
    "hidden": true
   },
   "source": [
    "### 2.1.2. Hipoteses Produto"
   ]
  },
  {
   "cell_type": "markdown",
   "id": "0612abc3",
   "metadata": {
    "hidden": true
   },
   "source": []
  },
  {
   "cell_type": "markdown",
   "id": "78986653",
   "metadata": {
    "ExecuteTime": {
     "end_time": "2022-01-03T20:21:48.354902Z",
     "start_time": "2022-01-03T20:21:48.336890Z"
    },
    "heading_collapsed": true,
    "hidden": true
   },
   "source": [
    "### 2.1.3. Hipoteses Tempo"
   ]
  },
  {
   "cell_type": "markdown",
   "id": "5b834026",
   "metadata": {
    "hidden": true
   },
   "source": []
  },
  {
   "cell_type": "markdown",
   "id": "32370564",
   "metadata": {
    "heading_collapsed": true
   },
   "source": [
    "## 2.3. Lista final de hipoteses\n",
    "--> Selecionando as hipoteses que posso validar com os dados nesse momento"
   ]
  },
  {
   "cell_type": "markdown",
   "id": "a33d574c",
   "metadata": {
    "hidden": true
   },
   "source": []
  },
  {
   "cell_type": "markdown",
   "id": "14e892c3",
   "metadata": {},
   "source": [
    "## 2.4. Feature Engineering"
   ]
  },
  {
   "cell_type": "code",
   "execution_count": 202,
   "id": "1e6678e5",
   "metadata": {
    "ExecuteTime": {
     "end_time": "2022-05-14T23:51:57.215667Z",
     "start_time": "2022-05-14T23:51:57.199675Z"
    }
   },
   "outputs": [],
   "source": [
    "# Criação da variável principal\n",
    "df2['ticket'] = df2['spent'] / df2['purchases']"
   ]
  },
  {
   "cell_type": "code",
   "execution_count": 203,
   "id": "ced1d042",
   "metadata": {
    "ExecuteTime": {
     "end_time": "2022-05-14T23:51:58.426648Z",
     "start_time": "2022-05-14T23:51:58.399673Z"
    }
   },
   "outputs": [],
   "source": [
    "# Ordenando por data\n",
    "df2 = df2.sort_values('date')"
   ]
  },
  {
   "cell_type": "code",
   "execution_count": 204,
   "id": "341299e4",
   "metadata": {
    "ExecuteTime": {
     "end_time": "2022-05-14T23:51:58.897715Z",
     "start_time": "2022-05-14T23:51:58.856737Z"
    }
   },
   "outputs": [],
   "source": [
    "# Quantidade no grupo por data\n",
    "df2['accumulated_groupA'] = (df2['group'] == 'GRP A').cumsum()\n",
    "df2['accumulated_groupB'] = (df2['group'] == 'GRP B').cumsum()"
   ]
  },
  {
   "cell_type": "markdown",
   "id": "d8b0c3e1",
   "metadata": {
    "ExecuteTime": {
     "end_time": "2022-01-03T22:35:35.563684Z",
     "start_time": "2022-01-03T22:35:35.557687Z"
    }
   },
   "source": [
    "# 3.0. PASSO 03 - FILTRAGEM DE VARIAVEIS"
   ]
  },
  {
   "cell_type": "code",
   "execution_count": 205,
   "id": "f8fb8734",
   "metadata": {
    "ExecuteTime": {
     "end_time": "2022-05-14T23:52:01.521644Z",
     "start_time": "2022-05-14T23:52:01.511669Z"
    }
   },
   "outputs": [],
   "source": [
    "df3 = df2.copy()"
   ]
  },
  {
   "cell_type": "markdown",
   "id": "41a73840",
   "metadata": {
    "ExecuteTime": {
     "end_time": "2022-01-03T22:38:19.484448Z",
     "start_time": "2022-01-03T22:38:19.484448Z"
    },
    "code_folding": [],
    "heading_collapsed": true
   },
   "source": [
    "## 3.1. Filtragem das Linhas"
   ]
  },
  {
   "cell_type": "code",
   "execution_count": null,
   "id": "e9828404",
   "metadata": {
    "hidden": true
   },
   "outputs": [],
   "source": []
  },
  {
   "cell_type": "markdown",
   "id": "8ec052c6",
   "metadata": {
    "heading_collapsed": true
   },
   "source": [
    "## 3.2. Filtragem das Colunas"
   ]
  },
  {
   "cell_type": "code",
   "execution_count": null,
   "id": "4b417512",
   "metadata": {
    "hidden": true
   },
   "outputs": [],
   "source": []
  },
  {
   "cell_type": "markdown",
   "id": "befea113",
   "metadata": {
    "ExecuteTime": {
     "end_time": "2022-01-03T22:35:35.563684Z",
     "start_time": "2022-01-03T22:35:35.557687Z"
    }
   },
   "source": [
    "# 4.0. PASSO 04 - ANALISE EXPLORATORIA DOS DADOS"
   ]
  },
  {
   "cell_type": "code",
   "execution_count": 206,
   "id": "35e84298",
   "metadata": {
    "ExecuteTime": {
     "end_time": "2022-05-14T23:52:03.174784Z",
     "start_time": "2022-05-14T23:52:03.160789Z"
    }
   },
   "outputs": [],
   "source": [
    "df4 = df3.copy()"
   ]
  },
  {
   "cell_type": "markdown",
   "id": "a969a823",
   "metadata": {
    "heading_collapsed": true
   },
   "source": [
    "## 4.1. Analise Univariada"
   ]
  },
  {
   "cell_type": "markdown",
   "id": "7d796c46",
   "metadata": {
    "heading_collapsed": true,
    "hidden": true
   },
   "source": [
    "### 4.1.1. Response Variable"
   ]
  },
  {
   "cell_type": "code",
   "execution_count": null,
   "id": "3c853839",
   "metadata": {
    "hidden": true
   },
   "outputs": [],
   "source": []
  },
  {
   "cell_type": "markdown",
   "id": "a3f99311",
   "metadata": {
    "heading_collapsed": true,
    "hidden": true
   },
   "source": [
    "### 4.1.2. Numerical Variable"
   ]
  },
  {
   "cell_type": "code",
   "execution_count": null,
   "id": "63f49095",
   "metadata": {
    "hidden": true
   },
   "outputs": [],
   "source": []
  },
  {
   "cell_type": "markdown",
   "id": "bff5cab9",
   "metadata": {
    "hidden": true
   },
   "source": [
    "### 4.1.3. Categorical Variable"
   ]
  },
  {
   "cell_type": "code",
   "execution_count": null,
   "id": "4c8e20c6",
   "metadata": {
    "hidden": true
   },
   "outputs": [],
   "source": []
  },
  {
   "cell_type": "markdown",
   "id": "74c211cf",
   "metadata": {},
   "source": [
    "## 4.2. Analise Bivariada"
   ]
  },
  {
   "cell_type": "markdown",
   "id": "1138c01f",
   "metadata": {},
   "source": [
    "### Clientes em cada grupo por Categorias"
   ]
  },
  {
   "cell_type": "code",
   "execution_count": 210,
   "id": "69046dd4",
   "metadata": {
    "ExecuteTime": {
     "end_time": "2022-05-14T23:55:39.887528Z",
     "start_time": "2022-05-14T23:55:38.977033Z"
    }
   },
   "outputs": [
    {
     "data": {
      "image/png": "[encoded data removed]",
      "text/plain": [
       "<Figure size 1152x576 with 3 Axes>"
      ]
     },
     "metadata": {},
     "output_type": "display_data"
    }
   ],
   "source": [
    "plt.suptitle('Number of clients in each group') \n",
    "\n",
    "plt.subplot(2,2,1)\n",
    "coluna = 'gender'\n",
    "df_aux = df4.groupby(['group', coluna]).count().reset_index()\n",
    "sns.barplot(data=df_aux, y='uid', x=coluna, hue='group')\n",
    "\n",
    "plt.subplot(2,2,2)\n",
    "coluna = 'device'\n",
    "df_aux = df4.groupby(['group', coluna]).count().reset_index()\n",
    "sns.barplot(data=df_aux, y='uid', x=coluna, hue='group')\n",
    "\n",
    "plt.subplot(2,2,(3,4))\n",
    "coluna = 'country'\n",
    "df_aux = df4.groupby(['group', coluna]).count().reset_index()\n",
    "sns.barplot(data=df_aux, y='uid', x=coluna, hue='group');"
   ]
  },
  {
   "cell_type": "markdown",
   "id": "52e5f0b6",
   "metadata": {},
   "source": [
    "### Ticket médio em cada grupo por Categorias"
   ]
  },
  {
   "cell_type": "code",
   "execution_count": 199,
   "id": "08876d22",
   "metadata": {
    "ExecuteTime": {
     "end_time": "2022-05-14T23:50:44.743503Z",
     "start_time": "2022-05-14T23:50:43.792051Z"
    }
   },
   "outputs": [
    {
     "data": {
      "image/png": "[encoded data removed]",
      "text/plain": [
       "<Figure size 1152x576 with 3 Axes>"
      ]
     },
     "metadata": {},
     "output_type": "display_data"
    }
   ],
   "source": [
    "plt.suptitle('Mean Ticket By Categories') \n",
    "\n",
    "plt.subplot(2,2,1)\n",
    "coluna = 'gender'\n",
    "df_aux = df4.groupby(['group', coluna]).mean().reset_index()\n",
    "sns.barplot(data=df_aux, y='ticket', x=coluna, hue='group')\n",
    "\n",
    "plt.subplot(2,2,2)\n",
    "coluna = 'device'\n",
    "df_aux = df4.groupby(['group', coluna]).mean().reset_index()\n",
    "sns.barplot(data=df_aux, y='ticket', x=coluna, hue='group')\n",
    "\n",
    "plt.subplot(2,2,(3,4))\n",
    "coluna = 'country'\n",
    "df_aux = df4.groupby(['group', coluna]).mean().reset_index()\n",
    "sns.barplot(data=df_aux, y='ticket', x=coluna, hue='group');"
   ]
  },
  {
   "cell_type": "markdown",
   "id": "c67cebcf",
   "metadata": {},
   "source": [
    "###  Quantidade total de clientes em cada grupo por Data"
   ]
  },
  {
   "cell_type": "code",
   "execution_count": 211,
   "id": "26c07eb5",
   "metadata": {
    "ExecuteTime": {
     "end_time": "2022-05-14T23:56:40.079830Z",
     "start_time": "2022-05-14T23:56:39.120359Z"
    }
   },
   "outputs": [
    {
     "data": {
      "image/png": "[encoded data removed]",
      "text/plain": [
       "<Figure size 1152x576 with 1 Axes>"
      ]
     },
     "metadata": {},
     "output_type": "display_data"
    }
   ],
   "source": [
    "df_aux = df4.copy()\n",
    "df_aux = df_aux.set_index('date', drop=True)\n",
    "\n",
    "ax = df_aux.plot(y='accumulated_groupB', kind='line')\n",
    "df_aux.plot(y='accumulated_groupA', kind='line', ax=ax).set_title('Accumulated clients in each group');"
   ]
  },
  {
   "cell_type": "markdown",
   "id": "43271db5",
   "metadata": {
    "ExecuteTime": {
     "end_time": "2022-01-13T18:42:59.428652Z",
     "start_time": "2022-01-13T18:42:59.421688Z"
    },
    "heading_collapsed": true
   },
   "source": [
    "### 4.2.1. Resumo das Hipoteses"
   ]
  },
  {
   "cell_type": "code",
   "execution_count": null,
   "id": "f3515b25",
   "metadata": {
    "hidden": true
   },
   "outputs": [],
   "source": []
  },
  {
   "cell_type": "markdown",
   "id": "ebe69af4",
   "metadata": {},
   "source": [
    "## 4.3. Analise Multivariada"
   ]
  },
  {
   "cell_type": "markdown",
   "id": "84dc2fa6",
   "metadata": {
    "code_folding": []
   },
   "source": [
    "### 4.3.1. Numerical Attributes"
   ]
  },
  {
   "cell_type": "code",
   "execution_count": 171,
   "id": "29c62b57",
   "metadata": {
    "ExecuteTime": {
     "end_time": "2022-05-14T23:13:56.822303Z",
     "start_time": "2022-05-14T23:13:56.489495Z"
    }
   },
   "outputs": [
    {
     "data": {
      "image/png": "[encoded data removed]",
      "text/plain": [
       "<Figure size 1152x576 with 2 Axes>"
      ]
     },
     "metadata": {},
     "output_type": "display_data"
    }
   ],
   "source": [
    "correlation = num_attributes.corr(method='pearson')\n",
    "sns.heatmap(correlation, annot=True);"
   ]
  },
  {
   "cell_type": "markdown",
   "id": "dffad770",
   "metadata": {
    "code_folding": [],
    "heading_collapsed": true
   },
   "source": [
    "### 4.3.2. Categorical Attributes"
   ]
  },
  {
   "cell_type": "code",
   "execution_count": null,
   "id": "d62c6141",
   "metadata": {
    "hidden": true
   },
   "outputs": [],
   "source": []
  },
  {
   "cell_type": "markdown",
   "id": "73c14e17",
   "metadata": {
    "ExecuteTime": {
     "end_time": "2022-01-03T22:35:35.563684Z",
     "start_time": "2022-01-03T22:35:35.557687Z"
    }
   },
   "source": [
    "# 5.0. PASSO 05 - PREPARAÇAO DOS DADOS"
   ]
  },
  {
   "cell_type": "code",
   "execution_count": null,
   "id": "223c0518",
   "metadata": {},
   "outputs": [],
   "source": []
  },
  {
   "cell_type": "code",
   "execution_count": null,
   "id": "d28bf1bc",
   "metadata": {},
   "outputs": [],
   "source": []
  },
  {
   "cell_type": "code",
   "execution_count": null,
   "id": "815b931b",
   "metadata": {},
   "outputs": [],
   "source": []
  },
  {
   "cell_type": "code",
   "execution_count": null,
   "id": "d8d66516",
   "metadata": {},
   "outputs": [],
   "source": []
  },
  {
   "cell_type": "code",
   "execution_count": null,
   "id": "3f95e68d",
   "metadata": {},
   "outputs": [],
   "source": []
  },
  {
   "cell_type": "code",
   "execution_count": null,
   "id": "f7345e30",
   "metadata": {},
   "outputs": [],
   "source": []
  },
  {
   "cell_type": "code",
   "execution_count": null,
   "id": "e70951b0",
   "metadata": {},
   "outputs": [],
   "source": []
  },
  {
   "cell_type": "code",
   "execution_count": null,
   "id": "9b5f86da",
   "metadata": {},
   "outputs": [],
   "source": []
  },
  {
   "cell_type": "code",
   "execution_count": null,
   "id": "b5adf187",
   "metadata": {},
   "outputs": [],
   "source": []
  },
  {
   "cell_type": "code",
   "execution_count": null,
   "id": "317ba193",
   "metadata": {},
   "outputs": [],
   "source": []
  },
  {
   "cell_type": "code",
   "execution_count": null,
   "id": "19b46765",
   "metadata": {},
   "outputs": [],
   "source": []
  },
  {
   "cell_type": "markdown",
   "id": "f9bab3c8",
   "metadata": {
    "ExecuteTime": {
     "end_time": "2022-01-03T22:35:35.563684Z",
     "start_time": "2022-01-03T22:35:35.557687Z"
    },
    "heading_collapsed": true
   },
   "source": [
    "# 6.0. PASSO 06 - FEATURE SELECTION"
   ]
  },
  {
   "cell_type": "code",
   "execution_count": null,
   "id": "6950a15a",
   "metadata": {
    "hidden": true
   },
   "outputs": [],
   "source": []
  },
  {
   "cell_type": "markdown",
   "id": "42afd0b5",
   "metadata": {
    "heading_collapsed": true,
    "hidden": true
   },
   "source": [
    "## 6.1. Split dataframe into training and test"
   ]
  },
  {
   "cell_type": "code",
   "execution_count": null,
   "id": "eef154a2",
   "metadata": {
    "hidden": true
   },
   "outputs": [],
   "source": []
  },
  {
   "cell_type": "markdown",
   "id": "1ba72545",
   "metadata": {
    "heading_collapsed": true,
    "hidden": true
   },
   "source": [
    "## 6.2. Feature Selection"
   ]
  },
  {
   "cell_type": "code",
   "execution_count": null,
   "id": "a089c1f4",
   "metadata": {
    "hidden": true
   },
   "outputs": [],
   "source": []
  },
  {
   "cell_type": "markdown",
   "id": "ff4eee29",
   "metadata": {
    "ExecuteTime": {
     "end_time": "2022-01-03T22:35:35.563684Z",
     "start_time": "2022-01-03T22:35:35.557687Z"
    },
    "heading_collapsed": true
   },
   "source": [
    "# 7.0. PASSO 07 - MACHINE LEARNING MODELLING"
   ]
  },
  {
   "cell_type": "code",
   "execution_count": null,
   "id": "c796f2af",
   "metadata": {
    "hidden": true
   },
   "outputs": [],
   "source": []
  },
  {
   "cell_type": "markdown",
   "id": "bcb99e49",
   "metadata": {
    "ExecuteTime": {
     "end_time": "2022-01-03T22:35:35.563684Z",
     "start_time": "2022-01-03T22:35:35.557687Z"
    },
    "heading_collapsed": true,
    "hidden": true
   },
   "source": [
    "## 7.6. Compare Model's Performance"
   ]
  },
  {
   "cell_type": "markdown",
   "id": "269205d9",
   "metadata": {
    "ExecuteTime": {
     "end_time": "2022-01-03T22:35:35.563684Z",
     "start_time": "2022-01-03T22:35:35.557687Z"
    },
    "heading_collapsed": true,
    "hidden": true
   },
   "source": [
    "### 7.6.1. Single Performance"
   ]
  },
  {
   "cell_type": "code",
   "execution_count": null,
   "id": "4ea34c95",
   "metadata": {
    "hidden": true
   },
   "outputs": [],
   "source": []
  },
  {
   "cell_type": "markdown",
   "id": "a6601799",
   "metadata": {
    "ExecuteTime": {
     "end_time": "2022-01-03T22:35:35.563684Z",
     "start_time": "2022-01-03T22:35:35.557687Z"
    },
    "heading_collapsed": true,
    "hidden": true
   },
   "source": [
    "### 7.6.1. Real Performance - Cross Validation"
   ]
  },
  {
   "cell_type": "code",
   "execution_count": null,
   "id": "53a8029f",
   "metadata": {
    "hidden": true
   },
   "outputs": [],
   "source": []
  },
  {
   "cell_type": "markdown",
   "id": "d6f476ba",
   "metadata": {
    "ExecuteTime": {
     "end_time": "2022-01-03T22:35:35.563684Z",
     "start_time": "2022-01-03T22:35:35.557687Z"
    },
    "heading_collapsed": true
   },
   "source": [
    "# 8.0. PASSO 08 - HYPERPARAMETER FINE TUNING"
   ]
  },
  {
   "cell_type": "code",
   "execution_count": null,
   "id": "0770630a",
   "metadata": {
    "hidden": true
   },
   "outputs": [],
   "source": []
  },
  {
   "cell_type": "markdown",
   "id": "ce187b4a",
   "metadata": {
    "heading_collapsed": true
   },
   "source": [
    "# 9.0. PASSO 09 - TRADUCAO E INTERPRETACAO DO ERRO"
   ]
  },
  {
   "cell_type": "markdown",
   "id": "0a47dc75",
   "metadata": {
    "heading_collapsed": true,
    "hidden": true
   },
   "source": [
    "## 9.1. Business Performance"
   ]
  },
  {
   "cell_type": "code",
   "execution_count": null,
   "id": "acdd81e8",
   "metadata": {
    "hidden": true
   },
   "outputs": [],
   "source": []
  },
  {
   "cell_type": "markdown",
   "id": "930ca25e",
   "metadata": {
    "heading_collapsed": true,
    "hidden": true
   },
   "source": [
    "## 9.2. Total Performance"
   ]
  },
  {
   "cell_type": "code",
   "execution_count": null,
   "id": "2dab8f84",
   "metadata": {
    "hidden": true
   },
   "outputs": [],
   "source": []
  },
  {
   "cell_type": "markdown",
   "id": "f7cd3852",
   "metadata": {
    "heading_collapsed": true,
    "hidden": true
   },
   "source": [
    "## 9.3. Machine Learning Performance"
   ]
  },
  {
   "cell_type": "code",
   "execution_count": null,
   "id": "d2f286db",
   "metadata": {
    "hidden": true
   },
   "outputs": [],
   "source": []
  },
  {
   "cell_type": "markdown",
   "id": "e4d7b69e",
   "metadata": {
    "heading_collapsed": true
   },
   "source": [
    "# 10.0. PASSO 10 - DEPLOY MODEL"
   ]
  },
  {
   "cell_type": "code",
   "execution_count": null,
   "id": "3dab4cef",
   "metadata": {
    "hidden": true
   },
   "outputs": [],
   "source": []
  }
 ],
 "metadata": {
  "kernelspec": {
   "display_name": "Python 3 (ipykernel)",
   "language": "python",
   "name": "python3"
  },
  "language_info": {
   "codemirror_mode": {
    "name": "ipython",
    "version": 3
   },
   "file_extension": ".py",
   "mimetype": "text/x-python",
   "name": "python",
   "nbconvert_exporter": "python",
   "pygments_lexer": "ipython3",
   "version": "3.8.5"
  },
  "varInspector": {
   "cols": {
    "lenName": 16,
    "lenType": 16,
    "lenVar": 40
   },
   "kernels_config": {
    "python": {
     "delete_cmd_postfix": "",
     "delete_cmd_prefix": "del ",
     "library": "var_list.py",
     "varRefreshCmd": "print(var_dic_list())"
    },
    "r": {
     "delete_cmd_postfix": ") ",
     "delete_cmd_prefix": "rm(",
     "library": "var_list.r",
     "varRefreshCmd": "cat(var_dic_list()) "
    }
   },
   "types_to_exclude": [
    "module",
    "function",
    "builtin_function_or_method",
    "instance",
    "_Feature"
   ],
   "window_display": false
  }
 },
 "nbformat": 4,
 "nbformat_minor": 5
}

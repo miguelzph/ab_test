{
 "cells": [
  {
   "cell_type": "markdown",
   "id": "ccf08e5b",
   "metadata": {},
   "source": [
    "# PLANEJAMENTO DA SOLUÇÃO"
   ]
  },
  {
   "cell_type": "markdown",
   "id": "7a452282",
   "metadata": {},
   "source": [
    "### Passo 1 - Escolha do Método"
   ]
  },
  {
   "cell_type": "markdown",
   "id": "21b8dd1a",
   "metadata": {},
   "source": [
    "- Teste A/B: Avaliar os resultados do experimento realizado, ou seja, comparar as duas versões de preenchimento dos dados de cartão, para avaliar qual é mais eficaz (faz com que o usuário compre mais vezes)."
   ]
  },
  {
   "cell_type": "markdown",
   "id": "e6676002",
   "metadata": {},
   "source": [
    "### Passo 2 - Design de Experimento"
   ]
  },
  {
   "cell_type": "markdown",
   "id": "aba18d67",
   "metadata": {},
   "source": [
    "#### Formação das hipóteses"
   ]
  },
  {
   "cell_type": "markdown",
   "id": "5efcdc7d",
   "metadata": {
    "ExecuteTime": {
     "end_time": "2022-05-14T22:52:54.517019Z",
     "start_time": "2022-05-14T22:52:54.492012Z"
    }
   },
   "source": [
    "- Hipótese Nula: Clientes que usam o método de preenchimento automatico(A) não fazem 2% mais compras do que o de clientes que usam o preenchimento manual(B).\n",
    "\n",
    "\n",
    "- Hipótese Alternativa: O número de compras de clientes que usam o prenchimento automatico(A) é 2% maior do que o de clientes que usam o preenchimento manual(B).\n",
    "\n",
    "\n",
    "- Tipo de teste:Maior -> Uma calda --> Unilateral.\n",
    "\n",
    "\n",
    "- Nível de confiança: 90% (pode ser alterado, mas para o modelo de negócio 90% parece um nível ok)"
   ]
  },
  {
   "cell_type": "markdown",
   "id": "c9b831fc",
   "metadata": {},
   "source": [
    "#### Escolha da variável"
   ]
  },
  {
   "cell_type": "markdown",
   "id": "927856f9",
   "metadata": {
    "ExecuteTime": {
     "end_time": "2022-05-14T22:55:59.377914Z",
     "start_time": "2022-05-14T22:55:59.354929Z"
    }
   },
   "source": [
    "- purchases (número de compras dos clientes)."
   ]
  },
  {
   "cell_type": "markdown",
   "id": "23f07da2",
   "metadata": {},
   "source": [
    "#### Separação dos grupos"
   ]
  },
  {
   "cell_type": "markdown",
   "id": "8a643b7c",
   "metadata": {},
   "source": [
    "- Grupo controle: Grupo A = Preenchimento AUTOMÁTICO das informações de pagamento.\n",
    "\n",
    "\n",
    "- Grupo tratamento: Grupo B = Preenchimento MANUAL das informações de pagamento.\n",
    "\n",
    "\n",
    "- Tamanho da Amostra de cada grupo: Calcular levando em consideração nível de confiança, power e diferença esperada.\n",
    "\n",
    "\n",
    "- Avaliação de homogeneidade entre os grupos:\n",
    "  - Plotar os gráficos comparando diferentes categorias.\n",
    "  - Avaliar o tempo.\n",
    "  - Caso necessário filtrar com mais rigidez clientes homogêneos.\n",
    "  - Pesquisar bibliotecas."
   ]
  },
  {
   "cell_type": "markdown",
   "id": "c364fd07",
   "metadata": {},
   "source": [
    "### Passo 3 - Coletando os dados"
   ]
  },
  {
   "cell_type": "markdown",
   "id": "ed013b13",
   "metadata": {},
   "source": [
    "#### Coleta dos dados"
   ]
  },
  {
   "cell_type": "markdown",
   "id": "349cef84",
   "metadata": {},
   "source": [
    "Disponível em: https://drive.google.com/file/d/1oUJLeAgSaUI7CA-0F14KG0FzXEim7pSe/view"
   ]
  },
  {
   "cell_type": "markdown",
   "id": "9fea5d26",
   "metadata": {},
   "source": [
    "#### Preparação dos dados"
   ]
  },
  {
   "cell_type": "markdown",
   "id": "21d163c8",
   "metadata": {
    "ExecuteTime": {
     "end_time": "2022-05-14T23:18:16.615283Z",
     "start_time": "2022-05-14T23:18:16.596271Z"
    }
   },
   "source": [
    "- Fazer DATA DESCRIPTION e FEATURE ENGINEERING com os dados."
   ]
  },
  {
   "cell_type": "markdown",
   "id": "ef155ffb",
   "metadata": {},
   "source": [
    "#### Métrica dos grupos"
   ]
  },
  {
   "cell_type": "markdown",
   "id": "1599631e",
   "metadata": {},
   "source": [
    "Cálculo do número de compras\n",
    "- É necessário saber o número de compras baseline ou só com a diferença requerida do negócio é possível realizar o teste?\n",
    "  - Como calcular o baseline do grupo de controle? \n",
    "  - Média por um período ou não é necessário? "
   ]
  },
  {
   "cell_type": "markdown",
   "id": "145022a6",
   "metadata": {},
   "source": [
    "### Passo 4 - Testando as hipóteses"
   ]
  },
  {
   "cell_type": "markdown",
   "id": "46eeb22f",
   "metadata": {},
   "source": [
    "#### Definição do método de inferência estatística"
   ]
  },
  {
   "cell_type": "markdown",
   "id": "c6d1bdb3",
   "metadata": {},
   "source": [
    "Buscar fontes para saber qual dos testes usar ( proporção, conversão, volume ) ?\n",
    "- t-Test\n",
    "-ANOVA\n",
    "- Chi-Squared"
   ]
  },
  {
   "cell_type": "markdown",
   "id": "0bff5e1c",
   "metadata": {},
   "source": [
    "#### Cálculo do p-valor"
   ]
  },
  {
   "cell_type": "markdown",
   "id": "967bc2d6",
   "metadata": {},
   "source": [
    "### Passo 5 - Tirando conclusões"
   ]
  },
  {
   "cell_type": "markdown",
   "id": "42b154f5",
   "metadata": {},
   "source": [
    "#### Resultados esperados"
   ]
  },
  {
   "cell_type": "markdown",
   "id": "a9a1bf1d",
   "metadata": {},
   "source": [
    "- Interpretação do p-valor\n",
    "  - É maior ou menor que o alfa escolhido?\n",
    "\n",
    "\n",
    "- Validação das hipóteses iniciais?\n",
    "  - Hipotése rejeitada?\n",
    "\n",
    "\n",
    "- Conclusão\n",
    "  - O efeito da mudança foi provado ou não?\n",
    "\n",
    "\n",
    "- Cálculo do número de vendas potencial\n",
    "\n",
    "\n",
    "- Cálculo do faturamento potencial\n",
    "  - Provavelmente --> Dada a mudança quanto vou ganhar a mais?\n"
   ]
  },
  {
   "cell_type": "markdown",
   "id": "1c09e3da",
   "metadata": {},
   "source": [
    "#### Possíveis ações"
   ]
  },
  {
   "cell_type": "markdown",
   "id": "b5a1ceec",
   "metadata": {},
   "source": [
    "- Se for provado que o método de preenchimento automático faz com que a loja venda mais:\n",
    "    - Provavelmente não faz sentido alterar todos os usuários para esse método\n",
    "    - Incentivar usuários a usarem o método de preenchimento automático:\n",
    "      - Oferecer % de cashback na compra para quem adicionar preenchimento automático\n",
    "      - Vincular promoções de novos usuários a adição do método de preenchimento automático"
   ]
  },
  {
   "cell_type": "markdown",
   "id": "530d09dc",
   "metadata": {},
   "source": [
    "# 0.5. IMPORTS"
   ]
  },
  {
   "cell_type": "code",
   "execution_count": 1,
   "id": "1d6be3b2",
   "metadata": {
    "ExecuteTime": {
     "end_time": "2022-05-26T22:32:56.913484Z",
     "start_time": "2022-05-26T22:32:50.618377Z"
    }
   },
   "outputs": [
    {
     "name": "stderr",
     "output_type": "stream",
     "text": [
      "C:\\Users\\Miguel\\anaconda3\\lib\\site-packages\\statsmodels\\compat\\pandas.py:61: FutureWarning: pandas.Int64Index is deprecated and will be removed from pandas in a future version. Use pandas.Index with the appropriate dtype instead.\n",
      "  from pandas import Int64Index as NumericIndex\n"
     ]
    }
   ],
   "source": [
    "import seaborn as sns\n",
    "import matplotlib.pyplot as plt\n",
    "\n",
    "import pandas as pd\n",
    "import numpy as np\n",
    "import statsmodels.api as sm\n",
    "\n",
    "from IPython.core.display import HTML"
   ]
  },
  {
   "cell_type": "markdown",
   "id": "40444089",
   "metadata": {},
   "source": [
    "## 0.5.1. Helper Functions"
   ]
  },
  {
   "cell_type": "code",
   "execution_count": 2,
   "id": "a059a3db",
   "metadata": {
    "ExecuteTime": {
     "end_time": "2022-05-26T22:32:57.021422Z",
     "start_time": "2022-05-26T22:32:56.980447Z"
    }
   },
   "outputs": [
    {
     "data": {
      "text/html": [
       "<style>.container { width:95% !important; } </style>"
      ],
      "text/plain": [
       "<IPython.core.display.HTML object>"
      ]
     },
     "metadata": {},
     "output_type": "display_data"
    }
   ],
   "source": [
    "def jupyter_settings():\n",
    "    %matplotlib inline\n",
    "    #%pylab inline\n",
    "    \n",
    "    plt.style.use( 'ggplot' )\n",
    "    plt.rcParams['figure.figsize'] = [16, 8]\n",
    "    plt.rcParams['font.size'] = 24\n",
    "    \n",
    "    display(HTML ('<style>.container { width:95% !important; } </style>'))\n",
    "    pd.options.display.max_columns = None\n",
    "    pd.options.display.max_rows=50\n",
    "    pd.set_option('display.expand_frame_repr', False)\n",
    "       \n",
    "    sns.set()\n",
    "    \n",
    "jupyter_settings()"
   ]
  },
  {
   "cell_type": "markdown",
   "id": "5d281400",
   "metadata": {},
   "source": [
    "## 0.2. Loading Data"
   ]
  },
  {
   "cell_type": "code",
   "execution_count": 3,
   "id": "bab7fdc0",
   "metadata": {
    "ExecuteTime": {
     "end_time": "2022-05-26T22:34:39.430961Z",
     "start_time": "2022-05-26T22:34:38.857180Z"
    }
   },
   "outputs": [],
   "source": [
    "data_raw = pd.read_csv('../datasets/ab_data_csv/ab_data.csv')"
   ]
  },
  {
   "cell_type": "code",
   "execution_count": 9,
   "id": "0ddfad28",
   "metadata": {
    "ExecuteTime": {
     "end_time": "2022-05-26T23:03:46.948240Z",
     "start_time": "2022-05-26T23:03:46.754355Z"
    }
   },
   "outputs": [
    {
     "data": {
      "text/html": [
       "<div>\n",
       "<style scoped>\n",
       "    .dataframe tbody tr th:only-of-type {\n",
       "        vertical-align: middle;\n",
       "    }\n",
       "\n",
       "    .dataframe tbody tr th {\n",
       "        vertical-align: top;\n",
       "    }\n",
       "\n",
       "    .dataframe thead th {\n",
       "        text-align: right;\n",
       "    }\n",
       "</style>\n",
       "<table border=\"1\" class=\"dataframe\">\n",
       "  <thead>\n",
       "    <tr style=\"text-align: right;\">\n",
       "      <th></th>\n",
       "      <th>user_id</th>\n",
       "      <th>timestamp</th>\n",
       "      <th>group</th>\n",
       "      <th>landing_page</th>\n",
       "      <th>converted</th>\n",
       "    </tr>\n",
       "  </thead>\n",
       "  <tbody>\n",
       "    <tr>\n",
       "      <th>63114</th>\n",
       "      <td>630000</td>\n",
       "      <td>2017-01-19 06:26:06.548941</td>\n",
       "      <td>treatment</td>\n",
       "      <td>new_page</td>\n",
       "      <td>0</td>\n",
       "    </tr>\n",
       "    <tr>\n",
       "      <th>103873</th>\n",
       "      <td>630001</td>\n",
       "      <td>2017-01-16 03:16:42.560309</td>\n",
       "      <td>treatment</td>\n",
       "      <td>new_page</td>\n",
       "      <td>1</td>\n",
       "    </tr>\n",
       "    <tr>\n",
       "      <th>205236</th>\n",
       "      <td>630002</td>\n",
       "      <td>2017-01-19 19:20:56.438330</td>\n",
       "      <td>control</td>\n",
       "      <td>old_page</td>\n",
       "      <td>0</td>\n",
       "    </tr>\n",
       "    <tr>\n",
       "      <th>247344</th>\n",
       "      <td>630003</td>\n",
       "      <td>2017-01-12 10:09:31.510471</td>\n",
       "      <td>treatment</td>\n",
       "      <td>new_page</td>\n",
       "      <td>0</td>\n",
       "    </tr>\n",
       "    <tr>\n",
       "      <th>242283</th>\n",
       "      <td>630004</td>\n",
       "      <td>2017-01-18 20:23:58.824994</td>\n",
       "      <td>treatment</td>\n",
       "      <td>new_page</td>\n",
       "      <td>0</td>\n",
       "    </tr>\n",
       "    <tr>\n",
       "      <th>...</th>\n",
       "      <td>...</td>\n",
       "      <td>...</td>\n",
       "      <td>...</td>\n",
       "      <td>...</td>\n",
       "      <td>...</td>\n",
       "    </tr>\n",
       "    <tr>\n",
       "      <th>274312</th>\n",
       "      <td>945994</td>\n",
       "      <td>2017-01-03 14:41:21.565258</td>\n",
       "      <td>control</td>\n",
       "      <td>old_page</td>\n",
       "      <td>0</td>\n",
       "    </tr>\n",
       "    <tr>\n",
       "      <th>275777</th>\n",
       "      <td>945996</td>\n",
       "      <td>2017-01-09 18:58:19.952277</td>\n",
       "      <td>treatment</td>\n",
       "      <td>new_page</td>\n",
       "      <td>0</td>\n",
       "    </tr>\n",
       "    <tr>\n",
       "      <th>109353</th>\n",
       "      <td>945997</td>\n",
       "      <td>2017-01-04 06:56:24.658147</td>\n",
       "      <td>control</td>\n",
       "      <td>old_page</td>\n",
       "      <td>0</td>\n",
       "    </tr>\n",
       "    <tr>\n",
       "      <th>241062</th>\n",
       "      <td>945998</td>\n",
       "      <td>2017-01-16 07:08:02.207969</td>\n",
       "      <td>control</td>\n",
       "      <td>old_page</td>\n",
       "      <td>0</td>\n",
       "    </tr>\n",
       "    <tr>\n",
       "      <th>237031</th>\n",
       "      <td>945999</td>\n",
       "      <td>2017-01-16 04:56:21.132067</td>\n",
       "      <td>treatment</td>\n",
       "      <td>new_page</td>\n",
       "      <td>0</td>\n",
       "    </tr>\n",
       "  </tbody>\n",
       "</table>\n",
       "<p>286690 rows × 5 columns</p>\n",
       "</div>"
      ],
      "text/plain": [
       "        user_id                   timestamp      group landing_page  converted\n",
       "63114    630000  2017-01-19 06:26:06.548941  treatment     new_page          0\n",
       "103873   630001  2017-01-16 03:16:42.560309  treatment     new_page          1\n",
       "205236   630002  2017-01-19 19:20:56.438330    control     old_page          0\n",
       "247344   630003  2017-01-12 10:09:31.510471  treatment     new_page          0\n",
       "242283   630004  2017-01-18 20:23:58.824994  treatment     new_page          0\n",
       "...         ...                         ...        ...          ...        ...\n",
       "274312   945994  2017-01-03 14:41:21.565258    control     old_page          0\n",
       "275777   945996  2017-01-09 18:58:19.952277  treatment     new_page          0\n",
       "109353   945997  2017-01-04 06:56:24.658147    control     old_page          0\n",
       "241062   945998  2017-01-16 07:08:02.207969    control     old_page          0\n",
       "237031   945999  2017-01-16 04:56:21.132067  treatment     new_page          0\n",
       "\n",
       "[286690 rows x 5 columns]"
      ]
     },
     "execution_count": 9,
     "metadata": {},
     "output_type": "execute_result"
    }
   ],
   "source": [
    "data_raw[~data_raw['user_id'].duplicated(keep=False)].sort_values('user_id')"
   ]
  },
  {
   "cell_type": "code",
   "execution_count": 4,
   "id": "94e30873",
   "metadata": {
    "ExecuteTime": {
     "end_time": "2022-05-26T22:34:39.848170Z",
     "start_time": "2022-05-26T22:34:39.785209Z"
    }
   },
   "outputs": [
    {
     "data": {
      "text/html": [
       "<div>\n",
       "<style scoped>\n",
       "    .dataframe tbody tr th:only-of-type {\n",
       "        vertical-align: middle;\n",
       "    }\n",
       "\n",
       "    .dataframe tbody tr th {\n",
       "        vertical-align: top;\n",
       "    }\n",
       "\n",
       "    .dataframe thead th {\n",
       "        text-align: right;\n",
       "    }\n",
       "</style>\n",
       "<table border=\"1\" class=\"dataframe\">\n",
       "  <thead>\n",
       "    <tr style=\"text-align: right;\">\n",
       "      <th></th>\n",
       "      <th>user_id</th>\n",
       "      <th>timestamp</th>\n",
       "      <th>group</th>\n",
       "      <th>landing_page</th>\n",
       "      <th>converted</th>\n",
       "    </tr>\n",
       "  </thead>\n",
       "  <tbody>\n",
       "    <tr>\n",
       "      <th>230259</th>\n",
       "      <td>630052</td>\n",
       "      <td>2017-01-17 01:16:05.208766</td>\n",
       "      <td>treatment</td>\n",
       "      <td>new_page</td>\n",
       "      <td>0</td>\n",
       "    </tr>\n",
       "    <tr>\n",
       "      <th>213114</th>\n",
       "      <td>630052</td>\n",
       "      <td>2017-01-07 12:25:54.089486</td>\n",
       "      <td>treatment</td>\n",
       "      <td>old_page</td>\n",
       "      <td>1</td>\n",
       "    </tr>\n",
       "    <tr>\n",
       "      <th>22513</th>\n",
       "      <td>630126</td>\n",
       "      <td>2017-01-14 13:35:54.778695</td>\n",
       "      <td>treatment</td>\n",
       "      <td>old_page</td>\n",
       "      <td>0</td>\n",
       "    </tr>\n",
       "    <tr>\n",
       "      <th>251762</th>\n",
       "      <td>630126</td>\n",
       "      <td>2017-01-19 17:16:00.280440</td>\n",
       "      <td>treatment</td>\n",
       "      <td>new_page</td>\n",
       "      <td>0</td>\n",
       "    </tr>\n",
       "    <tr>\n",
       "      <th>183371</th>\n",
       "      <td>630137</td>\n",
       "      <td>2017-01-20 02:08:49.893878</td>\n",
       "      <td>control</td>\n",
       "      <td>old_page</td>\n",
       "      <td>0</td>\n",
       "    </tr>\n",
       "    <tr>\n",
       "      <th>...</th>\n",
       "      <td>...</td>\n",
       "      <td>...</td>\n",
       "      <td>...</td>\n",
       "      <td>...</td>\n",
       "      <td>...</td>\n",
       "    </tr>\n",
       "    <tr>\n",
       "      <th>142354</th>\n",
       "      <td>945703</td>\n",
       "      <td>2017-01-08 19:40:51.169351</td>\n",
       "      <td>control</td>\n",
       "      <td>new_page</td>\n",
       "      <td>0</td>\n",
       "    </tr>\n",
       "    <tr>\n",
       "      <th>186960</th>\n",
       "      <td>945797</td>\n",
       "      <td>2017-01-13 17:23:21.750962</td>\n",
       "      <td>control</td>\n",
       "      <td>old_page</td>\n",
       "      <td>0</td>\n",
       "    </tr>\n",
       "    <tr>\n",
       "      <th>40370</th>\n",
       "      <td>945797</td>\n",
       "      <td>2017-01-11 03:04:49.433736</td>\n",
       "      <td>control</td>\n",
       "      <td>new_page</td>\n",
       "      <td>1</td>\n",
       "    </tr>\n",
       "    <tr>\n",
       "      <th>165143</th>\n",
       "      <td>945971</td>\n",
       "      <td>2017-01-16 10:09:18.383183</td>\n",
       "      <td>control</td>\n",
       "      <td>old_page</td>\n",
       "      <td>0</td>\n",
       "    </tr>\n",
       "    <tr>\n",
       "      <th>131756</th>\n",
       "      <td>945971</td>\n",
       "      <td>2017-01-22 12:43:54.087275</td>\n",
       "      <td>control</td>\n",
       "      <td>new_page</td>\n",
       "      <td>0</td>\n",
       "    </tr>\n",
       "  </tbody>\n",
       "</table>\n",
       "<p>7788 rows × 5 columns</p>\n",
       "</div>"
      ],
      "text/plain": [
       "        user_id                   timestamp      group landing_page  converted\n",
       "230259   630052  2017-01-17 01:16:05.208766  treatment     new_page          0\n",
       "213114   630052  2017-01-07 12:25:54.089486  treatment     old_page          1\n",
       "22513    630126  2017-01-14 13:35:54.778695  treatment     old_page          0\n",
       "251762   630126  2017-01-19 17:16:00.280440  treatment     new_page          0\n",
       "183371   630137  2017-01-20 02:08:49.893878    control     old_page          0\n",
       "...         ...                         ...        ...          ...        ...\n",
       "142354   945703  2017-01-08 19:40:51.169351    control     new_page          0\n",
       "186960   945797  2017-01-13 17:23:21.750962    control     old_page          0\n",
       "40370    945797  2017-01-11 03:04:49.433736    control     new_page          1\n",
       "165143   945971  2017-01-16 10:09:18.383183    control     old_page          0\n",
       "131756   945971  2017-01-22 12:43:54.087275    control     new_page          0\n",
       "\n",
       "[7788 rows x 5 columns]"
      ]
     },
     "execution_count": 4,
     "metadata": {},
     "output_type": "execute_result"
    }
   ],
   "source": [
    "duplicateds = data_raw[data_raw['user_id'].duplicated(keep=False)].sort_values('user_id')\n",
    "duplicateds"
   ]
  },
  {
   "cell_type": "code",
   "execution_count": 5,
   "id": "469594ef",
   "metadata": {
    "ExecuteTime": {
     "end_time": "2022-05-26T22:34:44.099072Z",
     "start_time": "2022-05-26T22:34:44.009123Z"
    }
   },
   "outputs": [
    {
     "data": {
      "text/html": [
       "<div>\n",
       "<style scoped>\n",
       "    .dataframe tbody tr th:only-of-type {\n",
       "        vertical-align: middle;\n",
       "    }\n",
       "\n",
       "    .dataframe tbody tr th {\n",
       "        vertical-align: top;\n",
       "    }\n",
       "\n",
       "    .dataframe thead th {\n",
       "        text-align: right;\n",
       "    }\n",
       "</style>\n",
       "<table border=\"1\" class=\"dataframe\">\n",
       "  <thead>\n",
       "    <tr style=\"text-align: right;\">\n",
       "      <th></th>\n",
       "      <th>user_id</th>\n",
       "      <th>timestamp</th>\n",
       "      <th>group</th>\n",
       "      <th>landing_page</th>\n",
       "      <th>converted</th>\n",
       "    </tr>\n",
       "  </thead>\n",
       "  <tbody>\n",
       "    <tr>\n",
       "      <th>22</th>\n",
       "      <td>767017</td>\n",
       "      <td>2017-01-12 22:58:14.991443</td>\n",
       "      <td>control</td>\n",
       "      <td>new_page</td>\n",
       "      <td>0</td>\n",
       "    </tr>\n",
       "    <tr>\n",
       "      <th>240</th>\n",
       "      <td>733976</td>\n",
       "      <td>2017-01-11 15:11:16.407599</td>\n",
       "      <td>control</td>\n",
       "      <td>new_page</td>\n",
       "      <td>0</td>\n",
       "    </tr>\n",
       "    <tr>\n",
       "      <th>490</th>\n",
       "      <td>808613</td>\n",
       "      <td>2017-01-10 21:44:01.292755</td>\n",
       "      <td>control</td>\n",
       "      <td>new_page</td>\n",
       "      <td>0</td>\n",
       "    </tr>\n",
       "    <tr>\n",
       "      <th>846</th>\n",
       "      <td>637639</td>\n",
       "      <td>2017-01-11 23:09:52.682329</td>\n",
       "      <td>control</td>\n",
       "      <td>new_page</td>\n",
       "      <td>1</td>\n",
       "    </tr>\n",
       "    <tr>\n",
       "      <th>850</th>\n",
       "      <td>793580</td>\n",
       "      <td>2017-01-08 03:25:33.723712</td>\n",
       "      <td>control</td>\n",
       "      <td>new_page</td>\n",
       "      <td>1</td>\n",
       "    </tr>\n",
       "    <tr>\n",
       "      <th>...</th>\n",
       "      <td>...</td>\n",
       "      <td>...</td>\n",
       "      <td>...</td>\n",
       "      <td>...</td>\n",
       "      <td>...</td>\n",
       "    </tr>\n",
       "    <tr>\n",
       "      <th>293894</th>\n",
       "      <td>741581</td>\n",
       "      <td>2017-01-09 20:49:03.391764</td>\n",
       "      <td>control</td>\n",
       "      <td>new_page</td>\n",
       "      <td>0</td>\n",
       "    </tr>\n",
       "    <tr>\n",
       "      <th>293996</th>\n",
       "      <td>942612</td>\n",
       "      <td>2017-01-08 13:52:28.182648</td>\n",
       "      <td>control</td>\n",
       "      <td>new_page</td>\n",
       "      <td>0</td>\n",
       "    </tr>\n",
       "    <tr>\n",
       "      <th>294200</th>\n",
       "      <td>928506</td>\n",
       "      <td>2017-01-13 21:32:10.491309</td>\n",
       "      <td>control</td>\n",
       "      <td>new_page</td>\n",
       "      <td>0</td>\n",
       "    </tr>\n",
       "    <tr>\n",
       "      <th>294253</th>\n",
       "      <td>886135</td>\n",
       "      <td>2017-01-06 12:49:20.509403</td>\n",
       "      <td>control</td>\n",
       "      <td>new_page</td>\n",
       "      <td>0</td>\n",
       "    </tr>\n",
       "    <tr>\n",
       "      <th>294331</th>\n",
       "      <td>689637</td>\n",
       "      <td>2017-01-13 11:34:28.339532</td>\n",
       "      <td>control</td>\n",
       "      <td>new_page</td>\n",
       "      <td>0</td>\n",
       "    </tr>\n",
       "  </tbody>\n",
       "</table>\n",
       "<p>1928 rows × 5 columns</p>\n",
       "</div>"
      ],
      "text/plain": [
       "        user_id                   timestamp    group landing_page  converted\n",
       "22       767017  2017-01-12 22:58:14.991443  control     new_page          0\n",
       "240      733976  2017-01-11 15:11:16.407599  control     new_page          0\n",
       "490      808613  2017-01-10 21:44:01.292755  control     new_page          0\n",
       "846      637639  2017-01-11 23:09:52.682329  control     new_page          1\n",
       "850      793580  2017-01-08 03:25:33.723712  control     new_page          1\n",
       "...         ...                         ...      ...          ...        ...\n",
       "293894   741581  2017-01-09 20:49:03.391764  control     new_page          0\n",
       "293996   942612  2017-01-08 13:52:28.182648  control     new_page          0\n",
       "294200   928506  2017-01-13 21:32:10.491309  control     new_page          0\n",
       "294253   886135  2017-01-06 12:49:20.509403  control     new_page          0\n",
       "294331   689637  2017-01-13 11:34:28.339532  control     new_page          0\n",
       "\n",
       "[1928 rows x 5 columns]"
      ]
     },
     "execution_count": 5,
     "metadata": {},
     "output_type": "execute_result"
    }
   ],
   "source": [
    "data_raw[(data_raw['group'] == 'control') & (data_raw['landing_page'] == 'new_page')]"
   ]
  },
  {
   "cell_type": "code",
   "execution_count": 72,
   "id": "66cac36a",
   "metadata": {
    "ExecuteTime": {
     "end_time": "2022-05-20T00:24:53.816861Z",
     "start_time": "2022-05-20T00:24:53.687928Z"
    }
   },
   "outputs": [
    {
     "data": {
      "text/html": [
       "<div>\n",
       "<style scoped>\n",
       "    .dataframe tbody tr th:only-of-type {\n",
       "        vertical-align: middle;\n",
       "    }\n",
       "\n",
       "    .dataframe tbody tr th {\n",
       "        vertical-align: top;\n",
       "    }\n",
       "\n",
       "    .dataframe thead th {\n",
       "        text-align: right;\n",
       "    }\n",
       "</style>\n",
       "<table border=\"1\" class=\"dataframe\">\n",
       "  <thead>\n",
       "    <tr style=\"text-align: right;\">\n",
       "      <th></th>\n",
       "      <th>user_id</th>\n",
       "      <th>timestamp</th>\n",
       "      <th>group</th>\n",
       "      <th>landing_page</th>\n",
       "      <th>converted</th>\n",
       "    </tr>\n",
       "  </thead>\n",
       "  <tbody>\n",
       "    <tr>\n",
       "      <th>308</th>\n",
       "      <td>857184</td>\n",
       "      <td>2017-01-20 07:34:59.832626</td>\n",
       "      <td>treatment</td>\n",
       "      <td>old_page</td>\n",
       "      <td>0</td>\n",
       "    </tr>\n",
       "    <tr>\n",
       "      <th>327</th>\n",
       "      <td>686623</td>\n",
       "      <td>2017-01-09 14:26:40.734775</td>\n",
       "      <td>treatment</td>\n",
       "      <td>old_page</td>\n",
       "      <td>0</td>\n",
       "    </tr>\n",
       "    <tr>\n",
       "      <th>357</th>\n",
       "      <td>856078</td>\n",
       "      <td>2017-01-12 12:29:30.354835</td>\n",
       "      <td>treatment</td>\n",
       "      <td>old_page</td>\n",
       "      <td>0</td>\n",
       "    </tr>\n",
       "    <tr>\n",
       "      <th>685</th>\n",
       "      <td>666385</td>\n",
       "      <td>2017-01-23 08:11:54.823806</td>\n",
       "      <td>treatment</td>\n",
       "      <td>old_page</td>\n",
       "      <td>0</td>\n",
       "    </tr>\n",
       "    <tr>\n",
       "      <th>713</th>\n",
       "      <td>748761</td>\n",
       "      <td>2017-01-10 15:47:44.445196</td>\n",
       "      <td>treatment</td>\n",
       "      <td>old_page</td>\n",
       "      <td>0</td>\n",
       "    </tr>\n",
       "    <tr>\n",
       "      <th>...</th>\n",
       "      <td>...</td>\n",
       "      <td>...</td>\n",
       "      <td>...</td>\n",
       "      <td>...</td>\n",
       "      <td>...</td>\n",
       "    </tr>\n",
       "    <tr>\n",
       "      <th>293773</th>\n",
       "      <td>688144</td>\n",
       "      <td>2017-01-16 20:34:50.450528</td>\n",
       "      <td>treatment</td>\n",
       "      <td>old_page</td>\n",
       "      <td>1</td>\n",
       "    </tr>\n",
       "    <tr>\n",
       "      <th>293817</th>\n",
       "      <td>876037</td>\n",
       "      <td>2017-01-17 16:15:08.957152</td>\n",
       "      <td>treatment</td>\n",
       "      <td>old_page</td>\n",
       "      <td>1</td>\n",
       "    </tr>\n",
       "    <tr>\n",
       "      <th>293917</th>\n",
       "      <td>738357</td>\n",
       "      <td>2017-01-05 15:37:55.729133</td>\n",
       "      <td>treatment</td>\n",
       "      <td>old_page</td>\n",
       "      <td>0</td>\n",
       "    </tr>\n",
       "    <tr>\n",
       "      <th>294014</th>\n",
       "      <td>813406</td>\n",
       "      <td>2017-01-09 06:25:33.223301</td>\n",
       "      <td>treatment</td>\n",
       "      <td>old_page</td>\n",
       "      <td>0</td>\n",
       "    </tr>\n",
       "    <tr>\n",
       "      <th>294252</th>\n",
       "      <td>892498</td>\n",
       "      <td>2017-01-22 01:11:10.463211</td>\n",
       "      <td>treatment</td>\n",
       "      <td>old_page</td>\n",
       "      <td>0</td>\n",
       "    </tr>\n",
       "  </tbody>\n",
       "</table>\n",
       "<p>1965 rows × 5 columns</p>\n",
       "</div>"
      ],
      "text/plain": [
       "        user_id                   timestamp      group landing_page  converted\n",
       "308      857184  2017-01-20 07:34:59.832626  treatment     old_page          0\n",
       "327      686623  2017-01-09 14:26:40.734775  treatment     old_page          0\n",
       "357      856078  2017-01-12 12:29:30.354835  treatment     old_page          0\n",
       "685      666385  2017-01-23 08:11:54.823806  treatment     old_page          0\n",
       "713      748761  2017-01-10 15:47:44.445196  treatment     old_page          0\n",
       "...         ...                         ...        ...          ...        ...\n",
       "293773   688144  2017-01-16 20:34:50.450528  treatment     old_page          1\n",
       "293817   876037  2017-01-17 16:15:08.957152  treatment     old_page          1\n",
       "293917   738357  2017-01-05 15:37:55.729133  treatment     old_page          0\n",
       "294014   813406  2017-01-09 06:25:33.223301  treatment     old_page          0\n",
       "294252   892498  2017-01-22 01:11:10.463211  treatment     old_page          0\n",
       "\n",
       "[1965 rows x 5 columns]"
      ]
     },
     "execution_count": 72,
     "metadata": {},
     "output_type": "execute_result"
    }
   ],
   "source": [
    "data_raw[(data_raw['group'] == 'treatment') & (data_raw['landing_page'] == 'old_page')]"
   ]
  },
  {
   "cell_type": "code",
   "execution_count": 6,
   "id": "7adc1ef8",
   "metadata": {
    "ExecuteTime": {
     "end_time": "2022-05-26T22:34:49.144030Z",
     "start_time": "2022-05-26T22:34:49.007813Z"
    }
   },
   "outputs": [],
   "source": [
    "x = data_raw[(data_raw['group'] == 'control') & (data_raw['landing_page'] == 'new_page')]['user_id'].values\n",
    "y = data_raw[(data_raw['group'] == 'treatment') & (data_raw['landing_page'] == 'old_page')]['user_id'].values\n",
    "z = list(x) + list(y)"
   ]
  },
  {
   "cell_type": "code",
   "execution_count": 7,
   "id": "cdba26b8",
   "metadata": {
    "ExecuteTime": {
     "end_time": "2022-05-26T22:34:49.875035Z",
     "start_time": "2022-05-26T22:34:49.841541Z"
    }
   },
   "outputs": [
    {
     "data": {
      "text/html": [
       "<div>\n",
       "<style scoped>\n",
       "    .dataframe tbody tr th:only-of-type {\n",
       "        vertical-align: middle;\n",
       "    }\n",
       "\n",
       "    .dataframe tbody tr th {\n",
       "        vertical-align: top;\n",
       "    }\n",
       "\n",
       "    .dataframe thead th {\n",
       "        text-align: right;\n",
       "    }\n",
       "</style>\n",
       "<table border=\"1\" class=\"dataframe\">\n",
       "  <thead>\n",
       "    <tr style=\"text-align: right;\">\n",
       "      <th></th>\n",
       "      <th>user_id</th>\n",
       "      <th>timestamp</th>\n",
       "      <th>group</th>\n",
       "      <th>landing_page</th>\n",
       "      <th>converted</th>\n",
       "    </tr>\n",
       "  </thead>\n",
       "  <tbody>\n",
       "    <tr>\n",
       "      <th>2893</th>\n",
       "      <td>773192</td>\n",
       "      <td>2017-01-14 02:55:59.590927</td>\n",
       "      <td>treatment</td>\n",
       "      <td>new_page</td>\n",
       "      <td>0</td>\n",
       "    </tr>\n",
       "    <tr>\n",
       "      <th>1899</th>\n",
       "      <td>773192</td>\n",
       "      <td>2017-01-09 05:37:58.781806</td>\n",
       "      <td>treatment</td>\n",
       "      <td>new_page</td>\n",
       "      <td>0</td>\n",
       "    </tr>\n",
       "  </tbody>\n",
       "</table>\n",
       "</div>"
      ],
      "text/plain": [
       "      user_id                   timestamp      group landing_page  converted\n",
       "2893   773192  2017-01-14 02:55:59.590927  treatment     new_page          0\n",
       "1899   773192  2017-01-09 05:37:58.781806  treatment     new_page          0"
      ]
     },
     "execution_count": 7,
     "metadata": {},
     "output_type": "execute_result"
    }
   ],
   "source": [
    "duplicateds[~duplicateds['user_id'].isin(z)]"
   ]
  },
  {
   "cell_type": "code",
   "execution_count": null,
   "id": "6b2d5cc1",
   "metadata": {},
   "outputs": [],
   "source": []
  },
  {
   "cell_type": "code",
   "execution_count": null,
   "id": "7cec4e2f",
   "metadata": {},
   "outputs": [],
   "source": []
  },
  {
   "cell_type": "code",
   "execution_count": null,
   "id": "6cbcdaaf",
   "metadata": {},
   "outputs": [],
   "source": []
  },
  {
   "cell_type": "code",
   "execution_count": null,
   "id": "042e9f2b",
   "metadata": {},
   "outputs": [],
   "source": []
  },
  {
   "cell_type": "code",
   "execution_count": 59,
   "id": "76b0f05b",
   "metadata": {
    "ExecuteTime": {
     "end_time": "2022-05-27T00:01:45.559612Z",
     "start_time": "2022-05-27T00:01:45.063778Z"
    }
   },
   "outputs": [],
   "source": [
    "df_overview = data_raw[~data_raw['user_id'].duplicated(keep=False)].copy()\n",
    "\n",
    "df_overview['date'] = pd.to_datetime(df_overview['timestamp']).dt.date\n",
    "\n",
    "# Ordenando por data\n",
    "df_overview = df_overview.sort_values('date')\n",
    "\n",
    "# Quantidade no grupo por data\n",
    "df_overview['accumulated_treatment'] = (df_overview['group'] == 'treatment').cumsum()\n",
    "df_overview['accumulated_control'] = (df_overview['group'] == 'control').cumsum()"
   ]
  },
  {
   "cell_type": "code",
   "execution_count": 66,
   "id": "50138b6b",
   "metadata": {
    "ExecuteTime": {
     "end_time": "2022-05-27T00:05:09.628026Z",
     "start_time": "2022-05-27T00:05:07.641110Z"
    }
   },
   "outputs": [
    {
     "data": {
      "image/png": "[encoded data removed]",
      "text/plain": [
       "<Figure size 1152x576 with 1 Axes>"
      ]
     },
     "metadata": {},
     "output_type": "display_data"
    }
   ],
   "source": [
    "df_aux = df_overview.copy()\n",
    "\n",
    "df_aux = df_aux.set_index('date', drop=True)\n",
    "\n",
    "ax = df_aux.plot(y='accumulated_control', kind='line')\n",
    "df_aux.plot(y='accumulated_treatment', kind='line', ax=ax).set_title('Accumulated clients in each group')\n",
    "plt.show()"
   ]
  },
  {
   "cell_type": "code",
   "execution_count": 75,
   "id": "b34d4961",
   "metadata": {
    "ExecuteTime": {
     "end_time": "2022-05-27T00:09:07.901105Z",
     "start_time": "2022-05-27T00:09:07.751064Z"
    }
   },
   "outputs": [],
   "source": [
    "df_aux2 = df_overview[['group', 'date', 'converted']].groupby(['group', 'date']).mean().reset_index()\n",
    "#df_aux2 = df_aux2.set_index('date', drop=True)"
   ]
  },
  {
   "cell_type": "code",
   "execution_count": 81,
   "id": "99d97e30",
   "metadata": {
    "ExecuteTime": {
     "end_time": "2022-05-27T00:11:06.807161Z",
     "start_time": "2022-05-27T00:11:06.279482Z"
    }
   },
   "outputs": [
    {
     "data": {
      "image/png": "[encoded data removed]",
      "text/plain": [
       "<Figure size 1152x576 with 1 Axes>"
      ]
     },
     "metadata": {},
     "output_type": "display_data"
    }
   ],
   "source": [
    "ax = sns.lineplot(data=df_aux2, x='date', hue='group', y='converted').set_title('Convertion Rate');"
   ]
  },
  {
   "cell_type": "code",
   "execution_count": null,
   "id": "29b5e3af",
   "metadata": {},
   "outputs": [],
   "source": []
  },
  {
   "cell_type": "code",
   "execution_count": null,
   "id": "0bdba311",
   "metadata": {},
   "outputs": [],
   "source": []
  },
  {
   "cell_type": "code",
   "execution_count": null,
   "id": "8b62b721",
   "metadata": {},
   "outputs": [],
   "source": []
  },
  {
   "cell_type": "code",
   "execution_count": null,
   "id": "03337f7d",
   "metadata": {},
   "outputs": [],
   "source": []
  },
  {
   "cell_type": "code",
   "execution_count": null,
   "id": "22c441d1",
   "metadata": {},
   "outputs": [],
   "source": []
  },
  {
   "cell_type": "code",
   "execution_count": null,
   "id": "e45375a6",
   "metadata": {},
   "outputs": [],
   "source": []
  },
  {
   "cell_type": "code",
   "execution_count": 60,
   "id": "4451858b",
   "metadata": {
    "ExecuteTime": {
     "end_time": "2022-05-20T00:21:09.322023Z",
     "start_time": "2022-05-20T00:21:09.163109Z"
    }
   },
   "outputs": [],
   "source": [
    "data_raw = pd.read_csv('../datasets/ab_testing.csv')"
   ]
  },
  {
   "cell_type": "markdown",
   "id": "709698ef",
   "metadata": {},
   "source": [
    "# 1.0. PASSO 01 - DATA DESCRIPTION"
   ]
  },
  {
   "cell_type": "code",
   "execution_count": 4,
   "id": "cae3f48f",
   "metadata": {
    "ExecuteTime": {
     "end_time": "2022-05-19T23:22:34.625933Z",
     "start_time": "2022-05-19T23:22:34.603042Z"
    }
   },
   "outputs": [],
   "source": [
    "df1 = data_raw.copy()"
   ]
  },
  {
   "cell_type": "markdown",
   "id": "b0d6a9db",
   "metadata": {
    "ExecuteTime": {
     "end_time": "2021-12-29T20:33:28.747283Z",
     "start_time": "2021-12-29T20:33:27.759990Z"
    }
   },
   "source": [
    "## 1.1. Rename Columns"
   ]
  },
  {
   "cell_type": "markdown",
   "id": "a7451640",
   "metadata": {
    "ExecuteTime": {
     "end_time": "2021-12-29T20:33:28.747283Z",
     "start_time": "2021-12-29T20:33:27.759990Z"
    }
   },
   "source": [
    "## 1.2. Data Dimensions"
   ]
  },
  {
   "cell_type": "code",
   "execution_count": 5,
   "id": "9ffd3d7b",
   "metadata": {
    "ExecuteTime": {
     "end_time": "2022-05-19T23:22:34.640941Z",
     "start_time": "2022-05-19T23:22:34.629932Z"
    },
    "scrolled": true
   },
   "outputs": [
    {
     "name": "stdout",
     "output_type": "stream",
     "text": [
      "N rows: 45883\n",
      "N columns: 8\n"
     ]
    }
   ],
   "source": [
    "print(f'N rows: {df1.shape[0]}')\n",
    "print(f'N columns: {df1.shape[1]}')"
   ]
  },
  {
   "cell_type": "markdown",
   "id": "83e82098",
   "metadata": {
    "ExecuteTime": {
     "end_time": "2021-12-29T20:33:28.747283Z",
     "start_time": "2021-12-29T20:33:27.759990Z"
    }
   },
   "source": [
    "## 1.3. Data Types"
   ]
  },
  {
   "cell_type": "code",
   "execution_count": 6,
   "id": "6c594b22",
   "metadata": {
    "ExecuteTime": {
     "end_time": "2022-05-19T23:22:34.672121Z",
     "start_time": "2022-05-19T23:22:34.645938Z"
    }
   },
   "outputs": [
    {
     "data": {
      "text/plain": [
       "uid           int64\n",
       "country      object\n",
       "gender       object\n",
       "spent         int64\n",
       "purchases     int64\n",
       "date         object\n",
       "group        object\n",
       "device       object\n",
       "dtype: object"
      ]
     },
     "execution_count": 6,
     "metadata": {},
     "output_type": "execute_result"
    }
   ],
   "source": [
    "df1.dtypes"
   ]
  },
  {
   "cell_type": "code",
   "execution_count": 7,
   "id": "ec17e074",
   "metadata": {
    "ExecuteTime": {
     "end_time": "2022-05-19T23:22:34.781564Z",
     "start_time": "2022-05-19T23:22:34.677114Z"
    }
   },
   "outputs": [],
   "source": [
    "df1['date'] = pd.to_datetime(df1['date'])"
   ]
  },
  {
   "cell_type": "markdown",
   "id": "186fbf9a",
   "metadata": {
    "ExecuteTime": {
     "end_time": "2021-12-29T20:33:28.747283Z",
     "start_time": "2021-12-29T20:33:27.759990Z"
    }
   },
   "source": [
    "## 1.4. Check NA"
   ]
  },
  {
   "cell_type": "code",
   "execution_count": 8,
   "id": "f5412dbe",
   "metadata": {
    "ExecuteTime": {
     "end_time": "2022-05-19T23:22:35.046416Z",
     "start_time": "2022-05-19T23:22:34.799554Z"
    }
   },
   "outputs": [
    {
     "data": {
      "text/plain": [
       "uid          0\n",
       "country      0\n",
       "gender       0\n",
       "spent        0\n",
       "purchases    0\n",
       "date         0\n",
       "group        0\n",
       "device       0\n",
       "dtype: int64"
      ]
     },
     "execution_count": 8,
     "metadata": {},
     "output_type": "execute_result"
    }
   ],
   "source": [
    "df1.isna().sum()"
   ]
  },
  {
   "cell_type": "markdown",
   "id": "818e4bd7",
   "metadata": {
    "ExecuteTime": {
     "end_time": "2021-12-29T20:33:28.747283Z",
     "start_time": "2021-12-29T20:33:27.759990Z"
    }
   },
   "source": [
    "## 1.5. Fillout NA's"
   ]
  },
  {
   "cell_type": "markdown",
   "id": "b261724e",
   "metadata": {
    "ExecuteTime": {
     "end_time": "2021-12-29T20:33:28.747283Z",
     "start_time": "2021-12-29T20:33:27.759990Z"
    }
   },
   "source": [
    "## 1.6. Verifying Types"
   ]
  },
  {
   "cell_type": "markdown",
   "id": "18cbf32d",
   "metadata": {
    "ExecuteTime": {
     "end_time": "2021-12-29T20:33:28.747283Z",
     "start_time": "2021-12-29T20:33:27.759990Z"
    }
   },
   "source": [
    "## 1.7. Descriptive Statistics"
   ]
  },
  {
   "cell_type": "code",
   "execution_count": 9,
   "id": "66d47243",
   "metadata": {
    "ExecuteTime": {
     "end_time": "2022-05-19T23:22:35.103379Z",
     "start_time": "2022-05-19T23:22:35.055407Z"
    }
   },
   "outputs": [],
   "source": [
    "num_attributes = df1.select_dtypes(include=['int64', 'float64']).drop(columns=['uid'])\n",
    "cat_attributes = df1.select_dtypes(exclude=['int64', 'float64', 'datetime64[ns]'])"
   ]
  },
  {
   "cell_type": "markdown",
   "id": "7740a9f7",
   "metadata": {
    "ExecuteTime": {
     "end_time": "2021-12-29T20:33:28.747283Z",
     "start_time": "2021-12-29T20:33:27.759990Z"
    }
   },
   "source": [
    "### 1.7.1. Numerical Attributes"
   ]
  },
  {
   "cell_type": "code",
   "execution_count": 10,
   "id": "ed31b3f3",
   "metadata": {
    "ExecuteTime": {
     "end_time": "2022-05-19T23:22:35.393214Z",
     "start_time": "2022-05-19T23:22:35.125367Z"
    }
   },
   "outputs": [
    {
     "data": {
      "text/html": [
       "<div>\n",
       "<style scoped>\n",
       "    .dataframe tbody tr th:only-of-type {\n",
       "        vertical-align: middle;\n",
       "    }\n",
       "\n",
       "    .dataframe tbody tr th {\n",
       "        vertical-align: top;\n",
       "    }\n",
       "\n",
       "    .dataframe thead th {\n",
       "        text-align: right;\n",
       "    }\n",
       "</style>\n",
       "<table border=\"1\" class=\"dataframe\">\n",
       "  <thead>\n",
       "    <tr style=\"text-align: right;\">\n",
       "      <th></th>\n",
       "      <th>min</th>\n",
       "      <th>max</th>\n",
       "      <th>range</th>\n",
       "      <th>mean</th>\n",
       "      <th>median</th>\n",
       "      <th>std</th>\n",
       "      <th>skew</th>\n",
       "      <th>kurtosis</th>\n",
       "    </tr>\n",
       "  </thead>\n",
       "  <tbody>\n",
       "    <tr>\n",
       "      <th>spent</th>\n",
       "      <td>99.0</td>\n",
       "      <td>12170.0</td>\n",
       "      <td>12071.0</td>\n",
       "      <td>1883.5</td>\n",
       "      <td>1596.0</td>\n",
       "      <td>1363.9</td>\n",
       "      <td>1.4</td>\n",
       "      <td>2.6</td>\n",
       "    </tr>\n",
       "    <tr>\n",
       "      <th>purchases</th>\n",
       "      <td>1.0</td>\n",
       "      <td>30.0</td>\n",
       "      <td>29.0</td>\n",
       "      <td>4.5</td>\n",
       "      <td>4.0</td>\n",
       "      <td>3.1</td>\n",
       "      <td>1.3</td>\n",
       "      <td>2.6</td>\n",
       "    </tr>\n",
       "  </tbody>\n",
       "</table>\n",
       "</div>"
      ],
      "text/plain": [
       "            min      max    range    mean  median     std  skew  kurtosis\n",
       "spent      99.0  12170.0  12071.0  1883.5  1596.0  1363.9   1.4       2.6\n",
       "purchases   1.0     30.0     29.0     4.5     4.0     3.1   1.3       2.6"
      ]
     },
     "execution_count": 10,
     "metadata": {},
     "output_type": "execute_result"
    }
   ],
   "source": [
    "descriptive_num = num_attributes.describe().transpose()\n",
    "descriptive_num['range'] = descriptive_num['max'] - descriptive_num['min']\n",
    "descriptive_num['skew'] = num_attributes.skew()\n",
    "descriptive_num['kurtosis'] = num_attributes.kurtosis()\n",
    "\n",
    "descriptive_num = descriptive_num.rename(columns = {'50%':'median'})\n",
    "\n",
    "descriptive_num = descriptive_num[['min', 'max','range','mean','median','std', 'skew', 'kurtosis']]\n",
    "descriptive_num.round(1)"
   ]
  },
  {
   "cell_type": "markdown",
   "id": "e2d07a94",
   "metadata": {
    "ExecuteTime": {
     "end_time": "2021-12-29T20:33:28.747283Z",
     "start_time": "2021-12-29T20:33:27.759990Z"
    }
   },
   "source": [
    "### 1.7.1. Categorical Attributes"
   ]
  },
  {
   "cell_type": "code",
   "execution_count": 11,
   "id": "520a7c85",
   "metadata": {
    "ExecuteTime": {
     "end_time": "2022-05-19T23:22:37.084046Z",
     "start_time": "2022-05-19T23:22:35.404217Z"
    }
   },
   "outputs": [
    {
     "data": {
      "image/png": "[encoded data removed]",
      "text/plain": [
       "<Figure size 1152x576 with 4 Axes>"
      ]
     },
     "metadata": {},
     "output_type": "display_data"
    }
   ],
   "source": [
    "plt.subplot(2,3,1)\n",
    "cat_attributes['gender'].hist().set_title('Gender')\n",
    "plt.subplot(2,3,2)\n",
    "cat_attributes['group'].hist().set_title('Group')\n",
    "plt.subplot(2,3,3)\n",
    "cat_attributes['device'].hist().set_title('Device')\n",
    "\n",
    "plt.subplot(2,3,(4,6))\n",
    "cat_attributes['country'].hist().set_title('Country')\n",
    "\n",
    "plt.show()"
   ]
  },
  {
   "cell_type": "markdown",
   "id": "b961e9b7",
   "metadata": {},
   "source": [
    "# 2.0. PASSO 02 - FEATURE ENGINEERING"
   ]
  },
  {
   "cell_type": "code",
   "execution_count": 12,
   "id": "5f3a86b7",
   "metadata": {
    "ExecuteTime": {
     "end_time": "2022-05-19T23:22:37.117041Z",
     "start_time": "2022-05-19T23:22:37.091042Z"
    }
   },
   "outputs": [],
   "source": [
    "df2 = df1.copy()"
   ]
  },
  {
   "cell_type": "markdown",
   "id": "92b53df4",
   "metadata": {
    "ExecuteTime": {
     "end_time": "2022-01-03T20:21:48.354902Z",
     "start_time": "2022-01-03T20:21:48.336890Z"
    }
   },
   "source": [
    "## 2.1. Mapa Mental de Hipoteses"
   ]
  },
  {
   "cell_type": "markdown",
   "id": "22a2f4b7",
   "metadata": {
    "ExecuteTime": {
     "end_time": "2022-01-03T20:21:48.354902Z",
     "start_time": "2022-01-03T20:21:48.336890Z"
    },
    "heading_collapsed": true
   },
   "source": [
    "## 2.2. Criacao das Hipoteses"
   ]
  },
  {
   "cell_type": "markdown",
   "id": "944b4b25",
   "metadata": {
    "ExecuteTime": {
     "end_time": "2022-01-03T20:21:48.354902Z",
     "start_time": "2022-01-03T20:21:48.336890Z"
    },
    "heading_collapsed": true,
    "hidden": true
   },
   "source": [
    "### 2.1.1. Hipoteses Loja"
   ]
  },
  {
   "cell_type": "markdown",
   "id": "d45654ff",
   "metadata": {
    "hidden": true
   },
   "source": []
  },
  {
   "cell_type": "markdown",
   "id": "6196e310",
   "metadata": {
    "ExecuteTime": {
     "end_time": "2022-01-03T20:21:48.354902Z",
     "start_time": "2022-01-03T20:21:48.336890Z"
    },
    "heading_collapsed": true,
    "hidden": true
   },
   "source": [
    "### 2.1.2. Hipoteses Produto"
   ]
  },
  {
   "cell_type": "markdown",
   "id": "0612abc3",
   "metadata": {
    "hidden": true
   },
   "source": []
  },
  {
   "cell_type": "markdown",
   "id": "78986653",
   "metadata": {
    "ExecuteTime": {
     "end_time": "2022-01-03T20:21:48.354902Z",
     "start_time": "2022-01-03T20:21:48.336890Z"
    },
    "heading_collapsed": true,
    "hidden": true
   },
   "source": [
    "### 2.1.3. Hipoteses Tempo"
   ]
  },
  {
   "cell_type": "markdown",
   "id": "5b834026",
   "metadata": {
    "hidden": true
   },
   "source": []
  },
  {
   "cell_type": "markdown",
   "id": "32370564",
   "metadata": {
    "heading_collapsed": true
   },
   "source": [
    "## 2.3. Lista final de hipoteses\n",
    "--> Selecionando as hipoteses que posso validar com os dados nesse momento"
   ]
  },
  {
   "cell_type": "markdown",
   "id": "a33d574c",
   "metadata": {
    "hidden": true
   },
   "source": []
  },
  {
   "cell_type": "markdown",
   "id": "14e892c3",
   "metadata": {},
   "source": [
    "## 2.4. Feature Engineering"
   ]
  },
  {
   "cell_type": "code",
   "execution_count": 13,
   "id": "e3600ce5",
   "metadata": {
    "ExecuteTime": {
     "end_time": "2022-05-19T23:22:37.133019Z",
     "start_time": "2022-05-19T23:22:37.122024Z"
    }
   },
   "outputs": [],
   "source": [
    "# Criação da variável principal\n",
    "df2['ticket'] = df2['spent'] / df2['purchases']"
   ]
  },
  {
   "cell_type": "code",
   "execution_count": 14,
   "id": "ced1d042",
   "metadata": {
    "ExecuteTime": {
     "end_time": "2022-05-19T23:22:37.178991Z",
     "start_time": "2022-05-19T23:22:37.139018Z"
    }
   },
   "outputs": [],
   "source": [
    "# Ordenando por data\n",
    "df2 = df2.sort_values('date')"
   ]
  },
  {
   "cell_type": "code",
   "execution_count": 15,
   "id": "5dfebb81",
   "metadata": {
    "ExecuteTime": {
     "end_time": "2022-05-19T23:22:37.210971Z",
     "start_time": "2022-05-19T23:22:37.184988Z"
    }
   },
   "outputs": [],
   "source": [
    "# Quantidade no grupo por data\n",
    "df2['accumulated_groupA'] = (df2['group'] == 'GRP A').cumsum()\n",
    "df2['accumulated_groupB'] = (df2['group'] == 'GRP B').cumsum()"
   ]
  },
  {
   "cell_type": "markdown",
   "id": "d8b0c3e1",
   "metadata": {
    "ExecuteTime": {
     "end_time": "2022-01-03T22:35:35.563684Z",
     "start_time": "2022-01-03T22:35:35.557687Z"
    }
   },
   "source": [
    "# 3.0. PASSO 03 - FILTRAGEM DE VARIAVEIS"
   ]
  },
  {
   "cell_type": "code",
   "execution_count": 16,
   "id": "f8fb8734",
   "metadata": {
    "ExecuteTime": {
     "end_time": "2022-05-19T23:22:37.225965Z",
     "start_time": "2022-05-19T23:22:37.213971Z"
    }
   },
   "outputs": [],
   "source": [
    "df3 = df2.copy()"
   ]
  },
  {
   "cell_type": "markdown",
   "id": "41a73840",
   "metadata": {
    "ExecuteTime": {
     "end_time": "2022-01-03T22:38:19.484448Z",
     "start_time": "2022-01-03T22:38:19.484448Z"
    },
    "code_folding": [],
    "heading_collapsed": true
   },
   "source": [
    "## 3.1. Filtragem das Linhas"
   ]
  },
  {
   "cell_type": "code",
   "execution_count": null,
   "id": "e9828404",
   "metadata": {
    "hidden": true
   },
   "outputs": [],
   "source": []
  },
  {
   "cell_type": "markdown",
   "id": "8ec052c6",
   "metadata": {
    "heading_collapsed": true
   },
   "source": [
    "## 3.2. Filtragem das Colunas"
   ]
  },
  {
   "cell_type": "code",
   "execution_count": null,
   "id": "4b417512",
   "metadata": {
    "hidden": true
   },
   "outputs": [],
   "source": []
  },
  {
   "cell_type": "markdown",
   "id": "befea113",
   "metadata": {
    "ExecuteTime": {
     "end_time": "2022-01-03T22:35:35.563684Z",
     "start_time": "2022-01-03T22:35:35.557687Z"
    }
   },
   "source": [
    "# 4.0. PASSO 04 - ANALISE EXPLORATORIA DOS DADOS"
   ]
  },
  {
   "cell_type": "code",
   "execution_count": 17,
   "id": "35e84298",
   "metadata": {
    "ExecuteTime": {
     "end_time": "2022-05-19T23:22:37.240956Z",
     "start_time": "2022-05-19T23:22:37.228962Z"
    }
   },
   "outputs": [],
   "source": [
    "df4 = df3.copy()"
   ]
  },
  {
   "cell_type": "markdown",
   "id": "a969a823",
   "metadata": {
    "heading_collapsed": true
   },
   "source": [
    "## 4.1. Analise Univariada"
   ]
  },
  {
   "cell_type": "markdown",
   "id": "7d796c46",
   "metadata": {
    "heading_collapsed": true,
    "hidden": true
   },
   "source": [
    "### 4.1.1. Response Variable"
   ]
  },
  {
   "cell_type": "code",
   "execution_count": null,
   "id": "3c853839",
   "metadata": {
    "hidden": true
   },
   "outputs": [],
   "source": []
  },
  {
   "cell_type": "markdown",
   "id": "a3f99311",
   "metadata": {
    "heading_collapsed": true,
    "hidden": true
   },
   "source": [
    "### 4.1.2. Numerical Variable"
   ]
  },
  {
   "cell_type": "code",
   "execution_count": null,
   "id": "63f49095",
   "metadata": {
    "hidden": true
   },
   "outputs": [],
   "source": []
  },
  {
   "cell_type": "markdown",
   "id": "bff5cab9",
   "metadata": {
    "hidden": true
   },
   "source": [
    "### 4.1.3. Categorical Variable"
   ]
  },
  {
   "cell_type": "code",
   "execution_count": null,
   "id": "4c8e20c6",
   "metadata": {
    "hidden": true
   },
   "outputs": [],
   "source": []
  },
  {
   "cell_type": "markdown",
   "id": "74c211cf",
   "metadata": {},
   "source": [
    "## 4.2. Analise Bivariada"
   ]
  },
  {
   "cell_type": "markdown",
   "id": "ca9b2a5b",
   "metadata": {},
   "source": [
    "### Distribuições de purchases por grupo"
   ]
  },
  {
   "cell_type": "code",
   "execution_count": 56,
   "id": "7f7df5cd",
   "metadata": {
    "ExecuteTime": {
     "end_time": "2022-05-20T00:11:35.807061Z",
     "start_time": "2022-05-20T00:11:33.837505Z"
    }
   },
   "outputs": [
    {
     "data": {
      "image/png": "[encoded data removed]",
      "text/plain": [
       "<Figure size 1152x576 with 1 Axes>"
      ]
     },
     "metadata": {},
     "output_type": "display_data"
    }
   ],
   "source": [
    "sns.histplot(df4,\n",
    "             x='purchases',\n",
    "             hue='group',\n",
    "             bins=len(df4['purchases'].unique()),\n",
    "             kde=True,\n",
    "             alpha=0.4,\n",
    "             palette='deep').set_title('Histogram by group');"
   ]
  },
  {
   "cell_type": "markdown",
   "id": "cf6acc7e",
   "metadata": {},
   "source": [
    "###  Quantidade total de clientes em cada grupo por Data"
   ]
  },
  {
   "cell_type": "code",
   "execution_count": 19,
   "id": "0ce8f0e7",
   "metadata": {
    "ExecuteTime": {
     "end_time": "2022-05-19T23:22:42.346697Z",
     "start_time": "2022-05-19T23:22:40.564200Z"
    }
   },
   "outputs": [
    {
     "data": {
      "image/png": "[encoded data removed]",
      "text/plain": [
       "<Figure size 1152x576 with 1 Axes>"
      ]
     },
     "metadata": {},
     "output_type": "display_data"
    }
   ],
   "source": [
    "df_aux = df4.copy()\n",
    "df_aux = df_aux.set_index('date', drop=True)\n",
    "\n",
    "ax = df_aux.plot(y='accumulated_groupB', kind='line')\n",
    "df_aux.plot(y='accumulated_groupA', kind='line', ax=ax).set_title('Accumulated clients in each group')\n",
    "plt.show()"
   ]
  },
  {
   "cell_type": "markdown",
   "id": "1fcd4861",
   "metadata": {},
   "source": [
    "### Clientes em cada grupo por Categorias"
   ]
  },
  {
   "cell_type": "code",
   "execution_count": 20,
   "id": "620c36da",
   "metadata": {
    "ExecuteTime": {
     "end_time": "2022-05-19T23:22:44.548138Z",
     "start_time": "2022-05-19T23:22:42.348696Z"
    }
   },
   "outputs": [
    {
     "data": {
      "image/png": "[encoded data removed]",
      "text/plain": [
       "<Figure size 1152x576 with 3 Axes>"
      ]
     },
     "metadata": {},
     "output_type": "display_data"
    }
   ],
   "source": [
    "plt.suptitle('Number of clients in each group') \n",
    "\n",
    "plt.subplot(2,2,1)\n",
    "coluna = 'gender'\n",
    "df_aux = df4.groupby(['group', coluna]).count().reset_index()\n",
    "sns.barplot(data=df_aux, y='uid', x=coluna, hue='group')\n",
    "\n",
    "plt.subplot(2,2,2)\n",
    "coluna = 'device'\n",
    "df_aux = df4.groupby(['group', coluna]).count().reset_index()\n",
    "sns.barplot(data=df_aux, y='uid', x=coluna, hue='group')\n",
    "\n",
    "plt.subplot(2,2,(3,4))\n",
    "coluna = 'country'\n",
    "df_aux = df4.groupby(['group', coluna]).count().reset_index()\n",
    "sns.barplot(data=df_aux, y='uid', x=coluna, hue='group')\n",
    "\n",
    "plt.show()"
   ]
  },
  {
   "cell_type": "markdown",
   "id": "7103a2fc",
   "metadata": {},
   "source": [
    "### Gasto médio em cada grupo por Categorias"
   ]
  },
  {
   "cell_type": "code",
   "execution_count": 57,
   "id": "6ba8fdda",
   "metadata": {
    "ExecuteTime": {
     "end_time": "2022-05-20T00:14:42.286883Z",
     "start_time": "2022-05-20T00:14:40.723724Z"
    }
   },
   "outputs": [
    {
     "data": {
      "image/png": "[encoded data removed]",
      "text/plain": [
       "<Figure size 1152x576 with 3 Axes>"
      ]
     },
     "metadata": {},
     "output_type": "display_data"
    }
   ],
   "source": [
    "plt.suptitle('Mean Purchases By Categories') \n",
    "\n",
    "plt.subplot(2,2,1)\n",
    "coluna = 'gender'\n",
    "df_aux = df4.groupby(['group', coluna]).mean().reset_index()\n",
    "sns.barplot(data=df_aux, y='purchases', x=coluna, hue='group')\n",
    "\n",
    "plt.subplot(2,2,2)\n",
    "coluna = 'device'\n",
    "df_aux = df4.groupby(['group', coluna]).mean().reset_index()\n",
    "sns.barplot(data=df_aux, y='purchases', x=coluna, hue='group')\n",
    "\n",
    "plt.subplot(2,2,(3,4))\n",
    "coluna = 'country'\n",
    "df_aux = df4.groupby(['group', coluna]).mean().reset_index()\n",
    "sns.barplot(data=df_aux, y='purchases', x=coluna, hue='group')\n",
    "\n",
    "plt.show()"
   ]
  },
  {
   "cell_type": "markdown",
   "id": "43271db5",
   "metadata": {
    "ExecuteTime": {
     "end_time": "2022-01-13T18:42:59.428652Z",
     "start_time": "2022-01-13T18:42:59.421688Z"
    }
   },
   "source": [
    "### 4.2.1. Resumo das Hipoteses"
   ]
  },
  {
   "cell_type": "code",
   "execution_count": null,
   "id": "f3515b25",
   "metadata": {},
   "outputs": [],
   "source": []
  },
  {
   "cell_type": "markdown",
   "id": "ebe69af4",
   "metadata": {},
   "source": [
    "## 4.3. Analise Multivariada"
   ]
  },
  {
   "cell_type": "markdown",
   "id": "84dc2fa6",
   "metadata": {
    "code_folding": []
   },
   "source": [
    "### 4.3.1. Numerical Attributes"
   ]
  },
  {
   "cell_type": "code",
   "execution_count": 22,
   "id": "29c62b57",
   "metadata": {
    "ExecuteTime": {
     "end_time": "2022-05-19T23:22:46.983334Z",
     "start_time": "2022-05-19T23:22:46.337190Z"
    },
    "scrolled": true
   },
   "outputs": [
    {
     "data": {
      "image/png": "[encoded data removed]",
      "text/plain": [
       "<Figure size 1152x576 with 2 Axes>"
      ]
     },
     "metadata": {},
     "output_type": "display_data"
    }
   ],
   "source": [
    "correlation = num_attributes.corr(method='pearson')\n",
    "sns.heatmap(correlation, annot=True);"
   ]
  },
  {
   "cell_type": "markdown",
   "id": "dffad770",
   "metadata": {
    "code_folding": [],
    "heading_collapsed": true
   },
   "source": [
    "### 4.3.2. Categorical Attributes"
   ]
  },
  {
   "cell_type": "code",
   "execution_count": null,
   "id": "d62c6141",
   "metadata": {
    "hidden": true
   },
   "outputs": [],
   "source": []
  },
  {
   "cell_type": "markdown",
   "id": "73c14e17",
   "metadata": {
    "ExecuteTime": {
     "end_time": "2022-01-03T22:35:35.563684Z",
     "start_time": "2022-01-03T22:35:35.557687Z"
    }
   },
   "source": [
    "# 5.0. PASSO 05 - PREPARAÇAO DOS DADOS"
   ]
  },
  {
   "cell_type": "code",
   "execution_count": 88,
   "id": "223c0518",
   "metadata": {
    "ExecuteTime": {
     "end_time": "2022-05-18T20:43:05.441810Z",
     "start_time": "2022-05-18T20:43:05.314902Z"
    }
   },
   "outputs": [
    {
     "name": "stderr",
     "output_type": "stream",
     "text": [
      "C:\\Users\\Miguel\\anaconda3\\lib\\site-packages\\statsmodels\\stats\\proportion.py:428: RuntimeWarning: invalid value encountered in arcsin\n",
      "  es = 2 * (np.arcsin(np.sqrt(prop1)) - np.arcsin(np.sqrt(prop2)))\n",
      "C:\\Users\\Miguel\\anaconda3\\lib\\site-packages\\statsmodels\\stats\\power.py:415: ConvergenceWarning: \n",
      "Failed to converge on a solution.\n",
      "\n",
      "  warnings.warn(convergence_doc, ConvergenceWarning)\n"
     ]
    }
   ],
   "source": [
    "\n",
    "effect_size = sm.stats.proportion_effectsize( 1010, 1000 )\n",
    "effect_size\n",
    "\n",
    "analysis = sm.stats.TTestIndPower()\n",
    "\n",
    "# O tamanho da amostra ?\n",
    "# Effect Size é de 6% de diferença das conversão entre as amostras.\n",
    "# A signficancia estatistica é de 95% no Teste T de proporcao - 5%\n",
    "# A probabilidade de observar o efeito na amostra é de 80% ( padrão da literatura )\n",
    "\n",
    "results = analysis.solve_power( effect_size=effect_size,\n",
    "                                alpha=0.05,\n",
    "                                power=0.8, \n",
    "                                alternative='larger' )"
   ]
  },
  {
   "cell_type": "code",
   "execution_count": 110,
   "id": "17f953ff",
   "metadata": {
    "ExecuteTime": {
     "end_time": "2022-05-20T00:48:35.685742Z",
     "start_time": "2022-05-20T00:48:35.672750Z"
    }
   },
   "outputs": [
    {
     "data": {
      "text/plain": [
       "0.03262940076737697"
      ]
     },
     "execution_count": 110,
     "metadata": {},
     "output_type": "execute_result"
    }
   ],
   "source": [
    "effect_size = sm.stats.proportion_effectsize( 0.11, 0.10 )\n",
    "effect_size"
   ]
  },
  {
   "cell_type": "code",
   "execution_count": 111,
   "id": "90e474ea",
   "metadata": {
    "ExecuteTime": {
     "end_time": "2022-05-20T00:48:36.818796Z",
     "start_time": "2022-05-20T00:48:36.799806Z"
    }
   },
   "outputs": [],
   "source": [
    "analysis = sm.stats.TTestIndPower()"
   ]
  },
  {
   "cell_type": "code",
   "execution_count": 115,
   "id": "f5ed80ca",
   "metadata": {
    "ExecuteTime": {
     "end_time": "2022-05-20T00:49:10.051888Z",
     "start_time": "2022-05-20T00:49:09.715429Z"
    }
   },
   "outputs": [
    {
     "ename": "TypeError",
     "evalue": "object of type 'NoneType' has no len()",
     "output_type": "error",
     "traceback": [
      "\u001b[1;31m---------------------------------------------------------------------------\u001b[0m",
      "\u001b[1;31mTypeError\u001b[0m                                 Traceback (most recent call last)",
      "\u001b[1;32m~\\AppData\\Local\\Temp/ipykernel_8104/3081268415.py\u001b[0m in \u001b[0;36m<module>\u001b[1;34m\u001b[0m\n\u001b[1;32m----> 1\u001b[1;33m \u001b[0manalysis\u001b[0m\u001b[1;33m.\u001b[0m\u001b[0mplot_power\u001b[0m\u001b[1;33m(\u001b[0m\u001b[0mdep_var\u001b[0m\u001b[1;33m=\u001b[0m\u001b[1;34m'nobs'\u001b[0m\u001b[1;33m)\u001b[0m\u001b[1;33m\u001b[0m\u001b[1;33m\u001b[0m\u001b[0m\n\u001b[0m",
      "\u001b[1;32m~\\anaconda3\\lib\\site-packages\\statsmodels\\stats\\power.py\u001b[0m in \u001b[0;36mplot_power\u001b[1;34m(self, dep_var, nobs, effect_size, alpha, ax, title, plt_kwds, **kwds)\u001b[0m\n\u001b[0;32m    478\u001b[0m         \u001b[0mlw\u001b[0m \u001b[1;33m=\u001b[0m \u001b[1;36m2\u001b[0m\u001b[1;33m\u001b[0m\u001b[1;33m\u001b[0m\u001b[0m\n\u001b[0;32m    479\u001b[0m         \u001b[1;32mif\u001b[0m \u001b[0mdep_var\u001b[0m \u001b[1;33m==\u001b[0m \u001b[1;34m'nobs'\u001b[0m\u001b[1;33m:\u001b[0m\u001b[1;33m\u001b[0m\u001b[1;33m\u001b[0m\u001b[0m\n\u001b[1;32m--> 480\u001b[1;33m             \u001b[0mcolors\u001b[0m \u001b[1;33m=\u001b[0m \u001b[0mrainbow\u001b[0m\u001b[1;33m(\u001b[0m\u001b[0mlen\u001b[0m\u001b[1;33m(\u001b[0m\u001b[0meffect_size\u001b[0m\u001b[1;33m)\u001b[0m\u001b[1;33m)\u001b[0m\u001b[1;33m\u001b[0m\u001b[1;33m\u001b[0m\u001b[0m\n\u001b[0m\u001b[0;32m    481\u001b[0m             \u001b[0mcolors\u001b[0m \u001b[1;33m=\u001b[0m \u001b[1;33m[\u001b[0m\u001b[0mcolormap\u001b[0m\u001b[1;33m(\u001b[0m\u001b[0mi\u001b[0m\u001b[1;33m)\u001b[0m \u001b[1;32mfor\u001b[0m \u001b[0mi\u001b[0m \u001b[1;32min\u001b[0m \u001b[0mnp\u001b[0m\u001b[1;33m.\u001b[0m\u001b[0mlinspace\u001b[0m\u001b[1;33m(\u001b[0m\u001b[1;36m0\u001b[0m\u001b[1;33m,\u001b[0m \u001b[1;36m0.9\u001b[0m\u001b[1;33m,\u001b[0m \u001b[0mlen\u001b[0m\u001b[1;33m(\u001b[0m\u001b[0meffect_size\u001b[0m\u001b[1;33m)\u001b[0m\u001b[1;33m)\u001b[0m\u001b[1;33m]\u001b[0m\u001b[1;33m\u001b[0m\u001b[1;33m\u001b[0m\u001b[0m\n\u001b[0;32m    482\u001b[0m             \u001b[1;32mfor\u001b[0m \u001b[0mii\u001b[0m\u001b[1;33m,\u001b[0m \u001b[0mes\u001b[0m \u001b[1;32min\u001b[0m \u001b[0menumerate\u001b[0m\u001b[1;33m(\u001b[0m\u001b[0meffect_size\u001b[0m\u001b[1;33m)\u001b[0m\u001b[1;33m:\u001b[0m\u001b[1;33m\u001b[0m\u001b[1;33m\u001b[0m\u001b[0m\n",
      "\u001b[1;31mTypeError\u001b[0m: object of type 'NoneType' has no len()"
     ]
    },
    {
     "data": {
      "image/png": "[encoded data removed]",
      "text/plain": [
       "<Figure size 1152x576 with 1 Axes>"
      ]
     },
     "metadata": {},
     "output_type": "display_data"
    }
   ],
   "source": [
    "analysis.plot_power(dep_var='nobs')"
   ]
  },
  {
   "cell_type": "code",
   "execution_count": null,
   "id": "73989449",
   "metadata": {},
   "outputs": [],
   "source": [
    "import scipy.stats as stats"
   ]
  },
  {
   "cell_type": "code",
   "execution_count": 53,
   "id": "2c30cefa",
   "metadata": {
    "ExecuteTime": {
     "end_time": "2022-05-19T23:33:07.592727Z",
     "start_time": "2022-05-19T23:33:07.555750Z"
    }
   },
   "outputs": [],
   "source": [
    "A = df4.loc[df4['group'] == 'GRP A', 'purchases'].values\n",
    "B = df4.loc[df4['group'] == 'GRP B', 'purchases'].values"
   ]
  },
  {
   "cell_type": "code",
   "execution_count": 54,
   "id": "804e6528",
   "metadata": {
    "ExecuteTime": {
     "end_time": "2022-05-19T23:33:08.179904Z",
     "start_time": "2022-05-19T23:33:08.120940Z"
    }
   },
   "outputs": [],
   "source": [
    "pvalue = stats.mannwhitneyu(A, B)[1]"
   ]
  },
  {
   "cell_type": "code",
   "execution_count": 104,
   "id": "d2aa7c4a",
   "metadata": {
    "ExecuteTime": {
     "end_time": "2022-05-20T00:45:30.112912Z",
     "start_time": "2022-05-20T00:45:30.079932Z"
    }
   },
   "outputs": [
    {
     "ename": "NameError",
     "evalue": "name 'plotpower' is not defined",
     "output_type": "error",
     "traceback": [
      "\u001b[1;31m---------------------------------------------------------------------------\u001b[0m",
      "\u001b[1;31mNameError\u001b[0m                                 Traceback (most recent call last)",
      "\u001b[1;32m~\\AppData\\Local\\Temp/ipykernel_8104/1212665193.py\u001b[0m in \u001b[0;36m<module>\u001b[1;34m\u001b[0m\n\u001b[1;32m----> 1\u001b[1;33m \u001b[0mplotpower\u001b[0m\u001b[1;33m\u001b[0m\u001b[1;33m\u001b[0m\u001b[0m\n\u001b[0m",
      "\u001b[1;31mNameError\u001b[0m: name 'plotpower' is not defined"
     ]
    }
   ],
   "source": []
  },
  {
   "cell_type": "code",
   "execution_count": 55,
   "id": "53a707a4",
   "metadata": {
    "ExecuteTime": {
     "end_time": "2022-05-19T23:33:08.539706Z",
     "start_time": "2022-05-19T23:33:08.522717Z"
    }
   },
   "outputs": [
    {
     "data": {
      "text/plain": [
       "0.35938583603366003"
      ]
     },
     "execution_count": 55,
     "metadata": {},
     "output_type": "execute_result"
    }
   ],
   "source": [
    "pvalue"
   ]
  },
  {
   "cell_type": "markdown",
   "id": "f9bab3c8",
   "metadata": {
    "ExecuteTime": {
     "end_time": "2022-01-03T22:35:35.563684Z",
     "start_time": "2022-01-03T22:35:35.557687Z"
    },
    "heading_collapsed": true
   },
   "source": [
    "# 6.0. PASSO 06 - FEATURE SELECTION"
   ]
  },
  {
   "cell_type": "code",
   "execution_count": null,
   "id": "6950a15a",
   "metadata": {
    "hidden": true
   },
   "outputs": [],
   "source": []
  },
  {
   "cell_type": "markdown",
   "id": "42afd0b5",
   "metadata": {
    "heading_collapsed": true,
    "hidden": true
   },
   "source": [
    "## 6.1. Split dataframe into training and test"
   ]
  },
  {
   "cell_type": "code",
   "execution_count": null,
   "id": "eef154a2",
   "metadata": {
    "hidden": true
   },
   "outputs": [],
   "source": []
  },
  {
   "cell_type": "markdown",
   "id": "1ba72545",
   "metadata": {
    "heading_collapsed": true,
    "hidden": true
   },
   "source": [
    "## 6.2. Feature Selection"
   ]
  },
  {
   "cell_type": "code",
   "execution_count": null,
   "id": "a089c1f4",
   "metadata": {
    "hidden": true
   },
   "outputs": [],
   "source": []
  },
  {
   "cell_type": "markdown",
   "id": "ff4eee29",
   "metadata": {
    "ExecuteTime": {
     "end_time": "2022-01-03T22:35:35.563684Z",
     "start_time": "2022-01-03T22:35:35.557687Z"
    },
    "heading_collapsed": true
   },
   "source": [
    "# 7.0. PASSO 07 - MACHINE LEARNING MODELLING"
   ]
  },
  {
   "cell_type": "code",
   "execution_count": null,
   "id": "c796f2af",
   "metadata": {
    "hidden": true
   },
   "outputs": [],
   "source": []
  },
  {
   "cell_type": "markdown",
   "id": "bcb99e49",
   "metadata": {
    "ExecuteTime": {
     "end_time": "2022-01-03T22:35:35.563684Z",
     "start_time": "2022-01-03T22:35:35.557687Z"
    },
    "heading_collapsed": true,
    "hidden": true
   },
   "source": [
    "## 7.6. Compare Model's Performance"
   ]
  },
  {
   "cell_type": "markdown",
   "id": "269205d9",
   "metadata": {
    "ExecuteTime": {
     "end_time": "2022-01-03T22:35:35.563684Z",
     "start_time": "2022-01-03T22:35:35.557687Z"
    },
    "heading_collapsed": true,
    "hidden": true
   },
   "source": [
    "### 7.6.1. Single Performance"
   ]
  },
  {
   "cell_type": "code",
   "execution_count": null,
   "id": "4ea34c95",
   "metadata": {
    "hidden": true
   },
   "outputs": [],
   "source": []
  },
  {
   "cell_type": "markdown",
   "id": "a6601799",
   "metadata": {
    "ExecuteTime": {
     "end_time": "2022-01-03T22:35:35.563684Z",
     "start_time": "2022-01-03T22:35:35.557687Z"
    },
    "heading_collapsed": true,
    "hidden": true
   },
   "source": [
    "### 7.6.1. Real Performance - Cross Validation"
   ]
  },
  {
   "cell_type": "code",
   "execution_count": null,
   "id": "53a8029f",
   "metadata": {
    "hidden": true
   },
   "outputs": [],
   "source": []
  },
  {
   "cell_type": "markdown",
   "id": "d6f476ba",
   "metadata": {
    "ExecuteTime": {
     "end_time": "2022-01-03T22:35:35.563684Z",
     "start_time": "2022-01-03T22:35:35.557687Z"
    },
    "heading_collapsed": true
   },
   "source": [
    "# 8.0. PASSO 08 - HYPERPARAMETER FINE TUNING"
   ]
  },
  {
   "cell_type": "code",
   "execution_count": null,
   "id": "0770630a",
   "metadata": {
    "hidden": true
   },
   "outputs": [],
   "source": []
  },
  {
   "cell_type": "markdown",
   "id": "ce187b4a",
   "metadata": {
    "heading_collapsed": true
   },
   "source": [
    "# 9.0. PASSO 09 - TRADUCAO E INTERPRETACAO DO ERRO"
   ]
  },
  {
   "cell_type": "markdown",
   "id": "0a47dc75",
   "metadata": {
    "heading_collapsed": true,
    "hidden": true
   },
   "source": [
    "## 9.1. Business Performance"
   ]
  },
  {
   "cell_type": "code",
   "execution_count": null,
   "id": "acdd81e8",
   "metadata": {
    "hidden": true
   },
   "outputs": [],
   "source": []
  },
  {
   "cell_type": "markdown",
   "id": "930ca25e",
   "metadata": {
    "heading_collapsed": true,
    "hidden": true
   },
   "source": [
    "## 9.2. Total Performance"
   ]
  },
  {
   "cell_type": "code",
   "execution_count": null,
   "id": "2dab8f84",
   "metadata": {
    "hidden": true
   },
   "outputs": [],
   "source": []
  },
  {
   "cell_type": "markdown",
   "id": "f7cd3852",
   "metadata": {
    "heading_collapsed": true,
    "hidden": true
   },
   "source": [
    "## 9.3. Machine Learning Performance"
   ]
  },
  {
   "cell_type": "code",
   "execution_count": null,
   "id": "d2f286db",
   "metadata": {
    "hidden": true
   },
   "outputs": [],
   "source": []
  },
  {
   "cell_type": "markdown",
   "id": "e4d7b69e",
   "metadata": {},
   "source": [
    "# 10.0. PASSO 10 - DEPLOY MODEL"
   ]
  },
  {
   "cell_type": "code",
   "execution_count": null,
   "id": "3dab4cef",
   "metadata": {},
   "outputs": [],
   "source": []
  }
 ],
 "metadata": {
  "kernelspec": {
   "display_name": "Python 3 (ipykernel)",
   "language": "python",
   "name": "python3"
  },
  "language_info": {
   "codemirror_mode": {
    "name": "ipython",
    "version": 3
   },
   "file_extension": ".py",
   "mimetype": "text/x-python",
   "name": "python",
   "nbconvert_exporter": "python",
   "pygments_lexer": "ipython3",
   "version": "3.8.5"
  },
  "varInspector": {
   "cols": {
    "lenName": 16,
    "lenType": 16,
    "lenVar": 40
   },
   "kernels_config": {
    "python": {
     "delete_cmd_postfix": "",
     "delete_cmd_prefix": "del ",
     "library": "var_list.py",
     "varRefreshCmd": "print(var_dic_list())"
    },
    "r": {
     "delete_cmd_postfix": ") ",
     "delete_cmd_prefix": "rm(",
     "library": "var_list.r",
     "varRefreshCmd": "cat(var_dic_list()) "
    }
   },
   "types_to_exclude": [
    "module",
    "function",
    "builtin_function_or_method",
    "instance",
    "_Feature"
   ],
   "window_display": false
  }
 },
 "nbformat": 4,
 "nbformat_minor": 5
}

{
 "cells": [
  {
   "cell_type": "markdown",
   "id": "530d09dc",
   "metadata": {},
   "source": [
    "# 0.0. IMPORTS"
   ]
  },
  {
   "cell_type": "code",
   "execution_count": 4,
   "id": "1d6be3b2",
   "metadata": {
    "ExecuteTime": {
     "end_time": "2022-05-13T21:20:09.814918Z",
     "start_time": "2022-05-13T21:20:09.804918Z"
    }
   },
   "outputs": [],
   "source": [
    "import seaborn as sns\n",
    "import matplotlib.pyplot as plt\n",
    "\n",
    "import pandas as pd\n",
    "import numpy as np\n",
    "import statsmodels.api as st\n",
    "\n",
    "from IPython.core.display import HTML"
   ]
  },
  {
   "cell_type": "markdown",
   "id": "40444089",
   "metadata": {},
   "source": [
    "## 0.1. Helper Functions"
   ]
  },
  {
   "cell_type": "code",
   "execution_count": 22,
   "id": "a059a3db",
   "metadata": {
    "ExecuteTime": {
     "end_time": "2022-05-13T21:38:24.605639Z",
     "start_time": "2022-05-13T21:38:24.587666Z"
    }
   },
   "outputs": [
    {
     "data": {
      "text/html": [
       "<style>.container { width:95% !important; } </style>"
      ],
      "text/plain": [
       "<IPython.core.display.HTML object>"
      ]
     },
     "metadata": {},
     "output_type": "display_data"
    }
   ],
   "source": [
    "def jupyter_settings():\n",
    "    %matplotlib inline\n",
    "    #%pylab inline\n",
    "    \n",
    "    plt.style.use( 'ggplot' )\n",
    "    plt.rcParams['figure.figsize'] = [20, 10]\n",
    "    plt.rcParams['font.size'] = 24\n",
    "    \n",
    "    display(HTML ('<style>.container { width:95% !important; } </style>'))\n",
    "    pd.options.display.max_columns = None\n",
    "    pd.options.display.max_rows=50\n",
    "    pd.set_option('display.expand_frame_repr', False)\n",
    "    pd.options.display.float_format = '{:.4f}'.format\n",
    "       \n",
    "    sns.set()\n",
    "    \n",
    "jupyter_settings()"
   ]
  },
  {
   "cell_type": "markdown",
   "id": "5d281400",
   "metadata": {},
   "source": [
    "## 0.2. Loading Data"
   ]
  },
  {
   "cell_type": "code",
   "execution_count": 7,
   "id": "a85e4f92",
   "metadata": {
    "ExecuteTime": {
     "end_time": "2022-05-13T21:21:09.461174Z",
     "start_time": "2022-05-13T21:21:09.365652Z"
    }
   },
   "outputs": [],
   "source": [
    "data_raw = pd.read_csv('../datasets/ab_testing.csv')"
   ]
  },
  {
   "cell_type": "markdown",
   "id": "709698ef",
   "metadata": {},
   "source": [
    "# 1.0. PASSO 01 - DATA DESCRIPTION"
   ]
  },
  {
   "cell_type": "code",
   "execution_count": 11,
   "id": "cae3f48f",
   "metadata": {
    "ExecuteTime": {
     "end_time": "2022-05-13T21:21:38.189566Z",
     "start_time": "2022-05-13T21:21:38.180574Z"
    }
   },
   "outputs": [],
   "source": [
    "df1 = data_raw.copy()"
   ]
  },
  {
   "cell_type": "markdown",
   "id": "b0d6a9db",
   "metadata": {
    "ExecuteTime": {
     "end_time": "2021-12-29T20:33:28.747283Z",
     "start_time": "2021-12-29T20:33:27.759990Z"
    }
   },
   "source": [
    "## 1.1. Rename Columns"
   ]
  },
  {
   "cell_type": "markdown",
   "id": "a7451640",
   "metadata": {
    "ExecuteTime": {
     "end_time": "2021-12-29T20:33:28.747283Z",
     "start_time": "2021-12-29T20:33:27.759990Z"
    }
   },
   "source": [
    "## 1.2. Data Dimensions"
   ]
  },
  {
   "cell_type": "code",
   "execution_count": 15,
   "id": "9ffd3d7b",
   "metadata": {
    "ExecuteTime": {
     "end_time": "2022-05-13T21:22:50.026563Z",
     "start_time": "2022-05-13T21:22:50.012571Z"
    },
    "scrolled": true
   },
   "outputs": [
    {
     "name": "stdout",
     "output_type": "stream",
     "text": [
      "N rows: 45883\n",
      "N columns: 8\n"
     ]
    }
   ],
   "source": [
    "print(f'N rows: {df1.shape[0]}')\n",
    "print(f'N columns: {df1.shape[1]}')"
   ]
  },
  {
   "cell_type": "markdown",
   "id": "83e82098",
   "metadata": {
    "ExecuteTime": {
     "end_time": "2021-12-29T20:33:28.747283Z",
     "start_time": "2021-12-29T20:33:27.759990Z"
    }
   },
   "source": [
    "## 1.3. Data Types"
   ]
  },
  {
   "cell_type": "code",
   "execution_count": 16,
   "id": "2777e610",
   "metadata": {
    "ExecuteTime": {
     "end_time": "2022-05-13T21:33:02.382944Z",
     "start_time": "2022-05-13T21:33:02.364957Z"
    }
   },
   "outputs": [
    {
     "data": {
      "text/plain": [
       "uid           int64\n",
       "country      object\n",
       "gender       object\n",
       "spent         int64\n",
       "purchases     int64\n",
       "date         object\n",
       "group        object\n",
       "device       object\n",
       "dtype: object"
      ]
     },
     "execution_count": 16,
     "metadata": {},
     "output_type": "execute_result"
    }
   ],
   "source": [
    "df1.dtypes"
   ]
  },
  {
   "cell_type": "code",
   "execution_count": 31,
   "id": "6c594b22",
   "metadata": {
    "ExecuteTime": {
     "end_time": "2022-05-13T21:41:48.803804Z",
     "start_time": "2022-05-13T21:41:48.790792Z"
    }
   },
   "outputs": [
    {
     "data": {
      "text/plain": [
       "0       2016-03-08\n",
       "1       2017-07-14\n",
       "2       2017-09-17\n",
       "3       2017-11-30\n",
       "4       2018-01-10\n",
       "           ...    \n",
       "45878   2017-02-05\n",
       "45879   2017-08-18\n",
       "45880   2014-12-06\n",
       "45881   2017-04-05\n",
       "45882   2017-09-04\n",
       "Name: date, Length: 45883, dtype: datetime64[ns]"
      ]
     },
     "execution_count": 31,
     "metadata": {},
     "output_type": "execute_result"
    }
   ],
   "source": [
    "df1['date']"
   ]
  },
  {
   "cell_type": "code",
   "execution_count": 32,
   "id": "71428616",
   "metadata": {
    "ExecuteTime": {
     "end_time": "2022-05-13T21:42:06.535042Z",
     "start_time": "2022-05-13T21:42:06.523070Z"
    }
   },
   "outputs": [
    {
     "data": {
      "text/plain": [
       "uid                   int64\n",
       "country              object\n",
       "gender               object\n",
       "spent                 int64\n",
       "purchases             int64\n",
       "date         datetime64[ns]\n",
       "group                object\n",
       "device               object\n",
       "dtype: object"
      ]
     },
     "execution_count": 32,
     "metadata": {},
     "output_type": "execute_result"
    }
   ],
   "source": [
    "df1.dtypes"
   ]
  },
  {
   "cell_type": "code",
   "execution_count": 29,
   "id": "ec17e074",
   "metadata": {
    "ExecuteTime": {
     "end_time": "2022-05-13T21:41:41.685433Z",
     "start_time": "2022-05-13T21:41:41.635483Z"
    }
   },
   "outputs": [],
   "source": [
    "df1['date'] = pd.to_datetime(df1['date'])"
   ]
  },
  {
   "cell_type": "markdown",
   "id": "186fbf9a",
   "metadata": {
    "ExecuteTime": {
     "end_time": "2021-12-29T20:33:28.747283Z",
     "start_time": "2021-12-29T20:33:27.759990Z"
    }
   },
   "source": [
    "## 1.4. Check NA"
   ]
  },
  {
   "cell_type": "code",
   "execution_count": 18,
   "id": "f5412dbe",
   "metadata": {
    "ExecuteTime": {
     "end_time": "2022-05-13T21:35:07.248058Z",
     "start_time": "2022-05-13T21:35:07.149335Z"
    }
   },
   "outputs": [
    {
     "data": {
      "text/plain": [
       "uid          0\n",
       "country      0\n",
       "gender       0\n",
       "spent        0\n",
       "purchases    0\n",
       "date         0\n",
       "group        0\n",
       "device       0\n",
       "dtype: int64"
      ]
     },
     "execution_count": 18,
     "metadata": {},
     "output_type": "execute_result"
    }
   ],
   "source": [
    "df1.isna().sum()"
   ]
  },
  {
   "cell_type": "markdown",
   "id": "818e4bd7",
   "metadata": {
    "ExecuteTime": {
     "end_time": "2021-12-29T20:33:28.747283Z",
     "start_time": "2021-12-29T20:33:27.759990Z"
    }
   },
   "source": [
    "## 1.5. Fillout NA's"
   ]
  },
  {
   "cell_type": "code",
   "execution_count": null,
   "id": "85cd90eb",
   "metadata": {},
   "outputs": [],
   "source": []
  },
  {
   "cell_type": "markdown",
   "id": "b261724e",
   "metadata": {
    "ExecuteTime": {
     "end_time": "2021-12-29T20:33:28.747283Z",
     "start_time": "2021-12-29T20:33:27.759990Z"
    }
   },
   "source": [
    "## 1.6. Verifying Types"
   ]
  },
  {
   "cell_type": "markdown",
   "id": "18cbf32d",
   "metadata": {
    "ExecuteTime": {
     "end_time": "2021-12-29T20:33:28.747283Z",
     "start_time": "2021-12-29T20:33:27.759990Z"
    }
   },
   "source": [
    "## 1.7. Descriptive Statistics"
   ]
  },
  {
   "cell_type": "code",
   "execution_count": 33,
   "id": "66d47243",
   "metadata": {
    "ExecuteTime": {
     "end_time": "2022-05-13T21:42:22.770769Z",
     "start_time": "2022-05-13T21:42:22.763643Z"
    }
   },
   "outputs": [],
   "source": [
    "num_attributes = df1.select_dtypes(include=['int64', 'float64'])#.drop(columns=['id'])\n",
    "cat_attributes = df1.select_dtypes(exclude=['int64', 'float64', 'datetime64[ns]'])"
   ]
  },
  {
   "cell_type": "markdown",
   "id": "7740a9f7",
   "metadata": {
    "ExecuteTime": {
     "end_time": "2021-12-29T20:33:28.747283Z",
     "start_time": "2021-12-29T20:33:27.759990Z"
    }
   },
   "source": [
    "### 1.7.1. Numerical Attributes"
   ]
  },
  {
   "cell_type": "code",
   "execution_count": 56,
   "id": "ed31b3f3",
   "metadata": {
    "ExecuteTime": {
     "end_time": "2022-05-13T22:21:52.574308Z",
     "start_time": "2022-05-13T22:21:52.513821Z"
    }
   },
   "outputs": [
    {
     "data": {
      "text/html": [
       "<div>\n",
       "<style scoped>\n",
       "    .dataframe tbody tr th:only-of-type {\n",
       "        vertical-align: middle;\n",
       "    }\n",
       "\n",
       "    .dataframe tbody tr th {\n",
       "        vertical-align: top;\n",
       "    }\n",
       "\n",
       "    .dataframe thead th {\n",
       "        text-align: right;\n",
       "    }\n",
       "</style>\n",
       "<table border=\"1\" class=\"dataframe\">\n",
       "  <thead>\n",
       "    <tr style=\"text-align: right;\">\n",
       "      <th></th>\n",
       "      <th>min</th>\n",
       "      <th>max</th>\n",
       "      <th>range</th>\n",
       "      <th>mean</th>\n",
       "      <th>median</th>\n",
       "      <th>std</th>\n",
       "      <th>skew</th>\n",
       "      <th>kurtosis</th>\n",
       "    </tr>\n",
       "  </thead>\n",
       "  <tbody>\n",
       "    <tr>\n",
       "      <th>uid</th>\n",
       "      <td>11115722.0000</td>\n",
       "      <td>99999383.0000</td>\n",
       "      <td>88883661.0000</td>\n",
       "      <td>55442322.5000</td>\n",
       "      <td>55312026.0000</td>\n",
       "      <td>25586786.8000</td>\n",
       "      <td>0.0000</td>\n",
       "      <td>-1.2000</td>\n",
       "    </tr>\n",
       "    <tr>\n",
       "      <th>spent</th>\n",
       "      <td>99.0000</td>\n",
       "      <td>12170.0000</td>\n",
       "      <td>12071.0000</td>\n",
       "      <td>1883.5000</td>\n",
       "      <td>1596.0000</td>\n",
       "      <td>1363.9000</td>\n",
       "      <td>1.4000</td>\n",
       "      <td>2.6000</td>\n",
       "    </tr>\n",
       "    <tr>\n",
       "      <th>purchases</th>\n",
       "      <td>1.0000</td>\n",
       "      <td>30.0000</td>\n",
       "      <td>29.0000</td>\n",
       "      <td>4.5000</td>\n",
       "      <td>4.0000</td>\n",
       "      <td>3.1000</td>\n",
       "      <td>1.3000</td>\n",
       "      <td>2.6000</td>\n",
       "    </tr>\n",
       "  </tbody>\n",
       "</table>\n",
       "</div>"
      ],
      "text/plain": [
       "                    min           max         range          mean        median           std   skew  kurtosis\n",
       "uid       11115722.0000 99999383.0000 88883661.0000 55442322.5000 55312026.0000 25586786.8000 0.0000   -1.2000\n",
       "spent           99.0000    12170.0000    12071.0000     1883.5000     1596.0000     1363.9000 1.4000    2.6000\n",
       "purchases        1.0000       30.0000       29.0000        4.5000        4.0000        3.1000 1.3000    2.6000"
      ]
     },
     "execution_count": 56,
     "metadata": {},
     "output_type": "execute_result"
    }
   ],
   "source": [
    "descriptive_num = num_attributes.describe().transpose()\n",
    "descriptive_num['range'] = descriptive_num['max'] - descriptive_num['min']\n",
    "descriptive_num['skew'] = num_attributes.skew()\n",
    "descriptive_num['kurtosis'] = num_attributes.kurtosis()\n",
    "\n",
    "descriptive_num = descriptive_num.rename(columns = {'50%':'median'})\n",
    "\n",
    "descriptive_num = descriptive_num[['min', 'max','range','mean','median','std', 'skew', 'kurtosis']]\n",
    "descriptive_num.round(1)"
   ]
  },
  {
   "cell_type": "markdown",
   "id": "e2d07a94",
   "metadata": {
    "ExecuteTime": {
     "end_time": "2021-12-29T20:33:28.747283Z",
     "start_time": "2021-12-29T20:33:27.759990Z"
    }
   },
   "source": [
    "### 1.7.1. Categorical Attributes"
   ]
  },
  {
   "cell_type": "code",
   "execution_count": 35,
   "id": "e6c21b4b",
   "metadata": {
    "ExecuteTime": {
     "end_time": "2022-05-13T21:42:25.153412Z",
     "start_time": "2022-05-13T21:42:25.138423Z"
    }
   },
   "outputs": [
    {
     "data": {
      "text/plain": [
       "Index(['country', 'gender', 'group', 'device'], dtype='object')"
      ]
     },
     "execution_count": 35,
     "metadata": {},
     "output_type": "execute_result"
    }
   ],
   "source": [
    "cat_attributes.columns"
   ]
  },
  {
   "cell_type": "code",
   "execution_count": 69,
   "id": "520a7c85",
   "metadata": {
    "ExecuteTime": {
     "end_time": "2022-05-13T23:24:43.089149Z",
     "start_time": "2022-05-13T23:24:42.350573Z"
    }
   },
   "outputs": [
    {
     "data": {
      "image/png": "[encoded data removed]",
      "text/plain": [
       "<Figure size 1296x648 with 4 Axes>"
      ]
     },
     "metadata": {},
     "output_type": "display_data"
    }
   ],
   "source": [
    "plt.figure(figsize=(18,9))\n",
    "\n",
    "plt.subplot(2,3,1)\n",
    "cat_attributes['gender'].hist().set_title('Gender')\n",
    "plt.subplot(2,3,2)\n",
    "cat_attributes['group'].hist().set_title('Group')\n",
    "plt.subplot(2,3,3)\n",
    "cat_attributes['device'].hist().set_title('Device')\n",
    "\n",
    "plt.subplot(2,3,(4,6))\n",
    "cat_attributes['country'].hist().set_title('Country')\n",
    "\n",
    "plt.show()"
   ]
  },
  {
   "cell_type": "markdown",
   "id": "b961e9b7",
   "metadata": {},
   "source": [
    "# 2.0. PASSO 02 - FEATURE ENGINEERING"
   ]
  },
  {
   "cell_type": "code",
   "execution_count": 48,
   "id": "5f3a86b7",
   "metadata": {
    "ExecuteTime": {
     "end_time": "2022-05-13T21:51:57.242905Z",
     "start_time": "2022-05-13T21:51:57.234887Z"
    }
   },
   "outputs": [],
   "source": [
    "df2 = df1.copy()"
   ]
  },
  {
   "cell_type": "markdown",
   "id": "92b53df4",
   "metadata": {
    "ExecuteTime": {
     "end_time": "2022-01-03T20:21:48.354902Z",
     "start_time": "2022-01-03T20:21:48.336890Z"
    }
   },
   "source": [
    "## 2.1. Mapa Mental de Hipoteses"
   ]
  },
  {
   "cell_type": "markdown",
   "id": "22a2f4b7",
   "metadata": {
    "ExecuteTime": {
     "end_time": "2022-01-03T20:21:48.354902Z",
     "start_time": "2022-01-03T20:21:48.336890Z"
    },
    "heading_collapsed": true
   },
   "source": [
    "## 2.2. Criacao das Hipoteses"
   ]
  },
  {
   "cell_type": "markdown",
   "id": "944b4b25",
   "metadata": {
    "ExecuteTime": {
     "end_time": "2022-01-03T20:21:48.354902Z",
     "start_time": "2022-01-03T20:21:48.336890Z"
    },
    "heading_collapsed": true,
    "hidden": true
   },
   "source": [
    "### 2.1.1. Hipoteses Loja"
   ]
  },
  {
   "cell_type": "markdown",
   "id": "d45654ff",
   "metadata": {
    "hidden": true
   },
   "source": []
  },
  {
   "cell_type": "markdown",
   "id": "6196e310",
   "metadata": {
    "ExecuteTime": {
     "end_time": "2022-01-03T20:21:48.354902Z",
     "start_time": "2022-01-03T20:21:48.336890Z"
    },
    "heading_collapsed": true,
    "hidden": true
   },
   "source": [
    "### 2.1.2. Hipoteses Produto"
   ]
  },
  {
   "cell_type": "markdown",
   "id": "0612abc3",
   "metadata": {
    "hidden": true
   },
   "source": []
  },
  {
   "cell_type": "markdown",
   "id": "78986653",
   "metadata": {
    "ExecuteTime": {
     "end_time": "2022-01-03T20:21:48.354902Z",
     "start_time": "2022-01-03T20:21:48.336890Z"
    },
    "heading_collapsed": true,
    "hidden": true
   },
   "source": [
    "### 2.1.3. Hipoteses Tempo"
   ]
  },
  {
   "cell_type": "markdown",
   "id": "5b834026",
   "metadata": {
    "hidden": true
   },
   "source": []
  },
  {
   "cell_type": "markdown",
   "id": "32370564",
   "metadata": {
    "heading_collapsed": true
   },
   "source": [
    "## 2.3. Lista final de hipoteses\n",
    "--> Selecionando as hipoteses que posso validar com os dados nesse momento"
   ]
  },
  {
   "cell_type": "markdown",
   "id": "a33d574c",
   "metadata": {
    "hidden": true
   },
   "source": []
  },
  {
   "cell_type": "markdown",
   "id": "14e892c3",
   "metadata": {
    "heading_collapsed": true
   },
   "source": [
    "## 2.4. Feature Engineering"
   ]
  },
  {
   "cell_type": "code",
   "execution_count": null,
   "id": "ced1d042",
   "metadata": {
    "hidden": true
   },
   "outputs": [],
   "source": []
  },
  {
   "cell_type": "markdown",
   "id": "d8b0c3e1",
   "metadata": {
    "ExecuteTime": {
     "end_time": "2022-01-03T22:35:35.563684Z",
     "start_time": "2022-01-03T22:35:35.557687Z"
    }
   },
   "source": [
    "# 3.0. PASSO 03 - FILTRAGEM DE VARIAVEIS"
   ]
  },
  {
   "cell_type": "code",
   "execution_count": 49,
   "id": "f8fb8734",
   "metadata": {
    "ExecuteTime": {
     "end_time": "2022-05-13T21:52:22.996850Z",
     "start_time": "2022-05-13T21:52:22.986875Z"
    }
   },
   "outputs": [],
   "source": [
    "df3 = df2.copy()"
   ]
  },
  {
   "cell_type": "markdown",
   "id": "41a73840",
   "metadata": {
    "ExecuteTime": {
     "end_time": "2022-01-03T22:38:19.484448Z",
     "start_time": "2022-01-03T22:38:19.484448Z"
    },
    "code_folding": [],
    "heading_collapsed": true
   },
   "source": [
    "## 3.1. Filtragem das Linhas"
   ]
  },
  {
   "cell_type": "code",
   "execution_count": null,
   "id": "e9828404",
   "metadata": {
    "hidden": true
   },
   "outputs": [],
   "source": []
  },
  {
   "cell_type": "markdown",
   "id": "8ec052c6",
   "metadata": {
    "heading_collapsed": true
   },
   "source": [
    "## 3.2. Filtragem das Colunas"
   ]
  },
  {
   "cell_type": "code",
   "execution_count": null,
   "id": "4b417512",
   "metadata": {
    "hidden": true
   },
   "outputs": [],
   "source": []
  },
  {
   "cell_type": "markdown",
   "id": "befea113",
   "metadata": {
    "ExecuteTime": {
     "end_time": "2022-01-03T22:35:35.563684Z",
     "start_time": "2022-01-03T22:35:35.557687Z"
    }
   },
   "source": [
    "# 4.0. PASSO 04 - ANALISE EXPLORATORIA DOS DADOS"
   ]
  },
  {
   "cell_type": "code",
   "execution_count": 50,
   "id": "35e84298",
   "metadata": {
    "ExecuteTime": {
     "end_time": "2022-05-13T21:52:31.895833Z",
     "start_time": "2022-05-13T21:52:31.881832Z"
    }
   },
   "outputs": [],
   "source": [
    "df4 = df3.copy()"
   ]
  },
  {
   "cell_type": "markdown",
   "id": "a969a823",
   "metadata": {
    "heading_collapsed": true
   },
   "source": [
    "## 4.1. Analise Univariada"
   ]
  },
  {
   "cell_type": "markdown",
   "id": "7d796c46",
   "metadata": {
    "heading_collapsed": true,
    "hidden": true
   },
   "source": [
    "### 4.1.1. Response Variable"
   ]
  },
  {
   "cell_type": "code",
   "execution_count": null,
   "id": "3c853839",
   "metadata": {
    "hidden": true
   },
   "outputs": [],
   "source": []
  },
  {
   "cell_type": "markdown",
   "id": "a3f99311",
   "metadata": {
    "heading_collapsed": true,
    "hidden": true
   },
   "source": [
    "### 4.1.2. Numerical Variable"
   ]
  },
  {
   "cell_type": "code",
   "execution_count": null,
   "id": "63f49095",
   "metadata": {
    "hidden": true
   },
   "outputs": [],
   "source": []
  },
  {
   "cell_type": "markdown",
   "id": "bff5cab9",
   "metadata": {
    "hidden": true
   },
   "source": [
    "### 4.1.3. Categorical Variable"
   ]
  },
  {
   "cell_type": "code",
   "execution_count": null,
   "id": "4c8e20c6",
   "metadata": {
    "hidden": true
   },
   "outputs": [],
   "source": []
  },
  {
   "cell_type": "markdown",
   "id": "74c211cf",
   "metadata": {},
   "source": [
    "## 4.2. Analise Bivariada"
   ]
  },
  {
   "cell_type": "code",
   "execution_count": 54,
   "id": "d2aa14a3",
   "metadata": {
    "ExecuteTime": {
     "end_time": "2022-05-13T22:16:49.359586Z",
     "start_time": "2022-05-13T22:16:49.346593Z"
    }
   },
   "outputs": [
    {
     "data": {
      "text/plain": [
       "5.0"
      ]
     },
     "execution_count": 54,
     "metadata": {},
     "output_type": "execute_result"
    }
   ],
   "source": [
    "np.cbrt(125)"
   ]
  },
  {
   "cell_type": "code",
   "execution_count": 52,
   "id": "4eb186fd",
   "metadata": {
    "ExecuteTime": {
     "end_time": "2022-05-13T22:10:52.181049Z",
     "start_time": "2022-05-13T22:10:46.363794Z"
    }
   },
   "outputs": [
    {
     "name": "stdout",
     "output_type": "stream",
     "text": [
      "Name: pandas\n",
      "Version: 1.4.1\n",
      "Summary: Powerful data structures for data analysis, time series, and statistics\n",
      "Home-page: https://pandas.pydata.org\n",
      "Author: The Pandas Development Team\n",
      "Author-email: pandas-dev@python.org\n",
      "License: BSD-3-Clause\n",
      "Location: c:\\users\\miguel\\anaconda3\\lib\\site-packages\n",
      "Requires: pytz, numpy, python-dateutil\n",
      "Required-by: tabula-py, streamlit, statsmodels, seaborn, pandas-datareader, altair\n"
     ]
    },
    {
     "name": "stderr",
     "output_type": "stream",
     "text": [
      "WARNING: Ignoring invalid distribution -ounddevice (c:\\users\\miguel\\anaconda3\\lib\\site-packages)\n",
      "WARNING: Ignoring invalid distribution - (c:\\users\\miguel\\anaconda3\\lib\\site-packages)\n"
     ]
    }
   ],
   "source": [
    "!pip show pandas"
   ]
  },
  {
   "cell_type": "markdown",
   "id": "43271db5",
   "metadata": {
    "ExecuteTime": {
     "end_time": "2022-01-13T18:42:59.428652Z",
     "start_time": "2022-01-13T18:42:59.421688Z"
    },
    "heading_collapsed": true
   },
   "source": [
    "### 4.2.1. Resumo das Hipoteses"
   ]
  },
  {
   "cell_type": "code",
   "execution_count": null,
   "id": "f3515b25",
   "metadata": {
    "hidden": true
   },
   "outputs": [],
   "source": []
  },
  {
   "cell_type": "markdown",
   "id": "ebe69af4",
   "metadata": {},
   "source": [
    "## 4.3. Analise Multivariada"
   ]
  },
  {
   "cell_type": "markdown",
   "id": "84dc2fa6",
   "metadata": {
    "code_folding": []
   },
   "source": [
    "### 4.3.1. Numerical Attributes"
   ]
  },
  {
   "cell_type": "code",
   "execution_count": 51,
   "id": "29c62b57",
   "metadata": {
    "ExecuteTime": {
     "end_time": "2022-05-13T21:52:55.761039Z",
     "start_time": "2022-05-13T21:52:55.434823Z"
    }
   },
   "outputs": [
    {
     "data": {
      "image/png": "[encoded data removed]",
      "text/plain": [
       "<Figure size 1440x720 with 2 Axes>"
      ]
     },
     "metadata": {},
     "output_type": "display_data"
    }
   ],
   "source": [
    "correlation = num_attributes.corr(method='pearson')\n",
    "sns.heatmap(correlation, annot=True);"
   ]
  },
  {
   "cell_type": "markdown",
   "id": "dffad770",
   "metadata": {
    "code_folding": []
   },
   "source": [
    "### 4.3.2. Categorical Attributes"
   ]
  },
  {
   "cell_type": "code",
   "execution_count": null,
   "id": "d62c6141",
   "metadata": {},
   "outputs": [],
   "source": []
  },
  {
   "cell_type": "markdown",
   "id": "73c14e17",
   "metadata": {
    "ExecuteTime": {
     "end_time": "2022-01-03T22:35:35.563684Z",
     "start_time": "2022-01-03T22:35:35.557687Z"
    },
    "heading_collapsed": true
   },
   "source": [
    "# 5.0. PASSO 05 - PREPARAÇAO DOS DADOS"
   ]
  },
  {
   "cell_type": "code",
   "execution_count": null,
   "id": "d6c1d8ee",
   "metadata": {
    "hidden": true
   },
   "outputs": [],
   "source": []
  },
  {
   "cell_type": "markdown",
   "id": "c3227e37",
   "metadata": {
    "heading_collapsed": true,
    "hidden": true
   },
   "source": [
    "## 5.1. Normalizacao"
   ]
  },
  {
   "cell_type": "code",
   "execution_count": null,
   "id": "b79a1f3e",
   "metadata": {
    "hidden": true
   },
   "outputs": [],
   "source": []
  },
  {
   "cell_type": "markdown",
   "id": "e899b880",
   "metadata": {
    "heading_collapsed": true,
    "hidden": true
   },
   "source": [
    "## 5.2. Scaling"
   ]
  },
  {
   "cell_type": "code",
   "execution_count": null,
   "id": "6fde6b1b",
   "metadata": {
    "hidden": true
   },
   "outputs": [],
   "source": []
  },
  {
   "cell_type": "markdown",
   "id": "40a47e60",
   "metadata": {
    "heading_collapsed": true,
    "hidden": true
   },
   "source": [
    "## 5.3. Transformacao"
   ]
  },
  {
   "cell_type": "markdown",
   "id": "8c708337",
   "metadata": {
    "heading_collapsed": true,
    "hidden": true
   },
   "source": [
    "### 5.3.1. Encoding"
   ]
  },
  {
   "cell_type": "code",
   "execution_count": null,
   "id": "4fa0ea24",
   "metadata": {
    "hidden": true
   },
   "outputs": [],
   "source": []
  },
  {
   "cell_type": "markdown",
   "id": "29e074e9",
   "metadata": {
    "heading_collapsed": true,
    "hidden": true
   },
   "source": [
    "### 5.3.2. Response Variable Transformation"
   ]
  },
  {
   "cell_type": "code",
   "execution_count": null,
   "id": "6bd8316c",
   "metadata": {
    "hidden": true
   },
   "outputs": [],
   "source": []
  },
  {
   "cell_type": "markdown",
   "id": "83bd717b",
   "metadata": {
    "heading_collapsed": true,
    "hidden": true
   },
   "source": [
    "### 5.3.3. Nature Transformation"
   ]
  },
  {
   "cell_type": "code",
   "execution_count": null,
   "id": "223c0518",
   "metadata": {
    "hidden": true
   },
   "outputs": [],
   "source": []
  },
  {
   "cell_type": "markdown",
   "id": "f9bab3c8",
   "metadata": {
    "ExecuteTime": {
     "end_time": "2022-01-03T22:35:35.563684Z",
     "start_time": "2022-01-03T22:35:35.557687Z"
    },
    "heading_collapsed": true
   },
   "source": [
    "# 6.0. PASSO 06 - FEATURE SELECTION"
   ]
  },
  {
   "cell_type": "code",
   "execution_count": null,
   "id": "6950a15a",
   "metadata": {
    "hidden": true
   },
   "outputs": [],
   "source": []
  },
  {
   "cell_type": "markdown",
   "id": "42afd0b5",
   "metadata": {
    "heading_collapsed": true,
    "hidden": true
   },
   "source": [
    "## 6.1. Split dataframe into training and test"
   ]
  },
  {
   "cell_type": "code",
   "execution_count": null,
   "id": "eef154a2",
   "metadata": {
    "hidden": true
   },
   "outputs": [],
   "source": []
  },
  {
   "cell_type": "markdown",
   "id": "1ba72545",
   "metadata": {
    "heading_collapsed": true,
    "hidden": true
   },
   "source": [
    "## 6.2. Feature Selection"
   ]
  },
  {
   "cell_type": "code",
   "execution_count": null,
   "id": "a089c1f4",
   "metadata": {
    "hidden": true
   },
   "outputs": [],
   "source": []
  },
  {
   "cell_type": "markdown",
   "id": "ff4eee29",
   "metadata": {
    "ExecuteTime": {
     "end_time": "2022-01-03T22:35:35.563684Z",
     "start_time": "2022-01-03T22:35:35.557687Z"
    },
    "heading_collapsed": true
   },
   "source": [
    "# 7.0. PASSO 07 - MACHINE LEARNING MODELLING"
   ]
  },
  {
   "cell_type": "code",
   "execution_count": null,
   "id": "c796f2af",
   "metadata": {
    "hidden": true
   },
   "outputs": [],
   "source": []
  },
  {
   "cell_type": "markdown",
   "id": "bcb99e49",
   "metadata": {
    "ExecuteTime": {
     "end_time": "2022-01-03T22:35:35.563684Z",
     "start_time": "2022-01-03T22:35:35.557687Z"
    },
    "heading_collapsed": true,
    "hidden": true
   },
   "source": [
    "## 7.6. Compare Model's Performance"
   ]
  },
  {
   "cell_type": "markdown",
   "id": "269205d9",
   "metadata": {
    "ExecuteTime": {
     "end_time": "2022-01-03T22:35:35.563684Z",
     "start_time": "2022-01-03T22:35:35.557687Z"
    },
    "heading_collapsed": true,
    "hidden": true
   },
   "source": [
    "### 7.6.1. Single Performance"
   ]
  },
  {
   "cell_type": "code",
   "execution_count": null,
   "id": "4ea34c95",
   "metadata": {
    "hidden": true
   },
   "outputs": [],
   "source": []
  },
  {
   "cell_type": "markdown",
   "id": "a6601799",
   "metadata": {
    "ExecuteTime": {
     "end_time": "2022-01-03T22:35:35.563684Z",
     "start_time": "2022-01-03T22:35:35.557687Z"
    },
    "heading_collapsed": true,
    "hidden": true
   },
   "source": [
    "### 7.6.1. Real Performance - Cross Validation"
   ]
  },
  {
   "cell_type": "code",
   "execution_count": null,
   "id": "53a8029f",
   "metadata": {
    "hidden": true
   },
   "outputs": [],
   "source": []
  },
  {
   "cell_type": "markdown",
   "id": "d6f476ba",
   "metadata": {
    "ExecuteTime": {
     "end_time": "2022-01-03T22:35:35.563684Z",
     "start_time": "2022-01-03T22:35:35.557687Z"
    },
    "heading_collapsed": true
   },
   "source": [
    "# 8.0. PASSO 08 - HYPERPARAMETER FINE TUNING"
   ]
  },
  {
   "cell_type": "code",
   "execution_count": null,
   "id": "0770630a",
   "metadata": {
    "hidden": true
   },
   "outputs": [],
   "source": []
  },
  {
   "cell_type": "markdown",
   "id": "ce187b4a",
   "metadata": {
    "heading_collapsed": true
   },
   "source": [
    "# 9.0. PASSO 09 - TRADUCAO E INTERPRETACAO DO ERRO"
   ]
  },
  {
   "cell_type": "markdown",
   "id": "0a47dc75",
   "metadata": {
    "heading_collapsed": true,
    "hidden": true
   },
   "source": [
    "## 9.1. Business Performance"
   ]
  },
  {
   "cell_type": "code",
   "execution_count": null,
   "id": "acdd81e8",
   "metadata": {
    "hidden": true
   },
   "outputs": [],
   "source": []
  },
  {
   "cell_type": "markdown",
   "id": "930ca25e",
   "metadata": {
    "heading_collapsed": true,
    "hidden": true
   },
   "source": [
    "## 9.2. Total Performance"
   ]
  },
  {
   "cell_type": "code",
   "execution_count": null,
   "id": "2dab8f84",
   "metadata": {
    "hidden": true
   },
   "outputs": [],
   "source": []
  },
  {
   "cell_type": "markdown",
   "id": "f7cd3852",
   "metadata": {
    "heading_collapsed": true,
    "hidden": true
   },
   "source": [
    "## 9.3. Machine Learning Performance"
   ]
  },
  {
   "cell_type": "code",
   "execution_count": null,
   "id": "d2f286db",
   "metadata": {
    "hidden": true
   },
   "outputs": [],
   "source": []
  },
  {
   "cell_type": "markdown",
   "id": "e4d7b69e",
   "metadata": {
    "heading_collapsed": true
   },
   "source": [
    "# 10.0. PASSO 10 - DEPLOY MODEL"
   ]
  },
  {
   "cell_type": "code",
   "execution_count": null,
   "id": "3dab4cef",
   "metadata": {
    "hidden": true
   },
   "outputs": [],
   "source": []
  }
 ],
 "metadata": {
  "kernelspec": {
   "display_name": "Python 3 (ipykernel)",
   "language": "python",
   "name": "python3"
  },
  "language_info": {
   "codemirror_mode": {
    "name": "ipython",
    "version": 3
   },
   "file_extension": ".py",
   "mimetype": "text/x-python",
   "name": "python",
   "nbconvert_exporter": "python",
   "pygments_lexer": "ipython3",
   "version": "3.8.5"
  },
  "varInspector": {
   "cols": {
    "lenName": 16,
    "lenType": 16,
    "lenVar": 40
   },
   "kernels_config": {
    "python": {
     "delete_cmd_postfix": "",
     "delete_cmd_prefix": "del ",
     "library": "var_list.py",
     "varRefreshCmd": "print(var_dic_list())"
    },
    "r": {
     "delete_cmd_postfix": ") ",
     "delete_cmd_prefix": "rm(",
     "library": "var_list.r",
     "varRefreshCmd": "cat(var_dic_list()) "
    }
   },
   "types_to_exclude": [
    "module",
    "function",
    "builtin_function_or_method",
    "instance",
    "_Feature"
   ],
   "window_display": false
  }
 },
 "nbformat": 4,
 "nbformat_minor": 5
}
